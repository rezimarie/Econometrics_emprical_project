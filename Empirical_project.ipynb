{
 "cells": [
  {
   "cell_type": "markdown",
   "id": "0124dee3-ecc8-490f-90f6-f151447b7d42",
   "metadata": {},
   "source": [
    "## Quality and average educational outcomes? Point in time and time series analysis\n",
    "\n",
    "#### Motivation: We can observe how do various characteristics impact average country score ina PISA tests (standardized to 500, sd=100), we can do this both at one pont in time and over time (I am thinking of doinf regression for each ear, maybye  choosing best model via BMA od just looking at VIF + also looking how did this ecolve over time - doing both Panel data and diff)\n",
    "\n",
    "#### Data: Educational attainment - PISA results 2018\n",
    "source: https://www.kaggle.com/datasets/walassetomaz/pisa-results-2000-2022-economics-and-education?fbclid=IwAR0nhho9IQWbNfibLL37Mw4-FTkk3hucoGOKQtljpEHF2M0WQCQY0w-dE5IaZqZDT7O8n4\n",
    "\n",
    "main economic question: What are main drivers of academic achievement given the data that we have? \n",
    "\n"
   ]
  },
  {
   "cell_type": "code",
   "execution_count": 164,
   "id": "0aaa9a2e-4864-475b-8b5d-1671b8e80a31",
   "metadata": {
    "scrolled": true
   },
   "outputs": [],
   "source": [
    "#install.packages(\"openxlsx\")\n",
    "#library(openxlsx)"
   ]
  },
  {
   "cell_type": "code",
   "execution_count": 165,
   "id": "e9fb8ead-0d01-4d1c-9a7b-7fe17df19451",
   "metadata": {},
   "outputs": [
    {
     "data": {
      "text/html": [
       "<table>\n",
       "<thead><tr><th scope=col>index_code</th><th scope=col>expenditure_on._education_pct_gdp</th><th scope=col>mortality_rate_infant</th><th scope=col>gini_index</th><th scope=col>gdp_per_capita_ppp</th><th scope=col>inflation_consumer_prices</th><th scope=col>intentional_homicides</th><th scope=col>unemployment</th><th scope=col>gross_fixed_capital_formation</th><th scope=col>population_density</th><th scope=col>suicide_mortality_rate</th><th scope=col>tax_revenue</th><th scope=col>taxes_on_income_profits_capital</th><th scope=col>alcohol_consumption_per_capita</th><th scope=col>government_health_expenditure_pct_gdp</th><th scope=col>urban_population_pct_total</th><th scope=col>country</th><th scope=col>time</th><th scope=col>sex</th><th scope=col>rating</th></tr></thead>\n",
       "<tbody>\n",
       "\t<tr><td>AUS-2003</td><td>5.246357</td><td>4.9     </td><td>33.5    </td><td>30121.82</td><td>2.732596</td><td>1.533073</td><td>5.933   </td><td>26.05029</td><td>2.567036</td><td>10.5    </td><td>24.29997</td><td>62.72655</td><td>NA      </td><td>5.623778</td><td>84.343  </td><td>AUS     </td><td>2003    </td><td>BOY     </td><td>527     </td></tr>\n",
       "\t<tr><td>AUS-2003</td><td>5.246357</td><td>4.9     </td><td>33.5    </td><td>30121.82</td><td>2.732596</td><td>1.533073</td><td>5.933   </td><td>26.05029</td><td>2.567036</td><td>10.5    </td><td>24.29997</td><td>62.72655</td><td>NA      </td><td>5.623778</td><td>84.343  </td><td>AUS     </td><td>2003    </td><td>GIRL    </td><td>522     </td></tr>\n",
       "\t<tr><td>AUS-2003</td><td>5.246357</td><td>4.9     </td><td>33.5    </td><td>30121.82</td><td>2.732596</td><td>1.533073</td><td>5.933   </td><td>26.05029</td><td>2.567036</td><td>10.5    </td><td>24.29997</td><td>62.72655</td><td>NA      </td><td>5.623778</td><td>84.343  </td><td>AUS     </td><td>2003    </td><td>TOT     </td><td>524     </td></tr>\n",
       "\t<tr><td>AUS-2006</td><td>4.738430</td><td>4.7     </td><td>33.5    </td><td>34846.72</td><td>3.555288</td><td>1.372940</td><td>4.785   </td><td>27.78913</td><td>2.662089</td><td>10.6    </td><td>24.51177</td><td>65.23156</td><td>NA      </td><td>5.719998</td><td>84.700  </td><td>AUS     </td><td>2006    </td><td>BOY     </td><td>527     </td></tr>\n",
       "\t<tr><td>AUS-2006</td><td>4.738430</td><td>4.7     </td><td>33.5    </td><td>34846.72</td><td>3.555288</td><td>1.372940</td><td>4.785   </td><td>27.78913</td><td>2.662089</td><td>10.6    </td><td>24.51177</td><td>65.23156</td><td>NA      </td><td>5.719998</td><td>84.700  </td><td>AUS     </td><td>2006    </td><td>GIRL    </td><td>513     </td></tr>\n",
       "\t<tr><td>AUS-2006</td><td>4.738430</td><td>4.7     </td><td>33.5    </td><td>34846.72</td><td>3.555288</td><td>1.372940</td><td>4.785   </td><td>27.78913</td><td>2.662089</td><td>10.6    </td><td>24.51177</td><td>65.23156</td><td>NA      </td><td>5.719998</td><td>84.700  </td><td>AUS     </td><td>2006    </td><td>TOT     </td><td>520     </td></tr>\n",
       "</tbody>\n",
       "</table>\n"
      ],
      "text/latex": [
       "\\begin{tabular}{r|llllllllllllllllllll}\n",
       " index\\_code & expenditure\\_on.\\_education\\_pct\\_gdp & mortality\\_rate\\_infant & gini\\_index & gdp\\_per\\_capita\\_ppp & inflation\\_consumer\\_prices & intentional\\_homicides & unemployment & gross\\_fixed\\_capital\\_formation & population\\_density & suicide\\_mortality\\_rate & tax\\_revenue & taxes\\_on\\_income\\_profits\\_capital & alcohol\\_consumption\\_per\\_capita & government\\_health\\_expenditure\\_pct\\_gdp & urban\\_population\\_pct\\_total & country & time & sex & rating\\\\\n",
       "\\hline\n",
       "\t AUS-2003 & 5.246357 & 4.9      & 33.5     & 30121.82 & 2.732596 & 1.533073 & 5.933    & 26.05029 & 2.567036 & 10.5     & 24.29997 & 62.72655 & NA       & 5.623778 & 84.343   & AUS      & 2003     & BOY      & 527     \\\\\n",
       "\t AUS-2003 & 5.246357 & 4.9      & 33.5     & 30121.82 & 2.732596 & 1.533073 & 5.933    & 26.05029 & 2.567036 & 10.5     & 24.29997 & 62.72655 & NA       & 5.623778 & 84.343   & AUS      & 2003     & GIRL     & 522     \\\\\n",
       "\t AUS-2003 & 5.246357 & 4.9      & 33.5     & 30121.82 & 2.732596 & 1.533073 & 5.933    & 26.05029 & 2.567036 & 10.5     & 24.29997 & 62.72655 & NA       & 5.623778 & 84.343   & AUS      & 2003     & TOT      & 524     \\\\\n",
       "\t AUS-2006 & 4.738430 & 4.7      & 33.5     & 34846.72 & 3.555288 & 1.372940 & 4.785    & 27.78913 & 2.662089 & 10.6     & 24.51177 & 65.23156 & NA       & 5.719998 & 84.700   & AUS      & 2006     & BOY      & 527     \\\\\n",
       "\t AUS-2006 & 4.738430 & 4.7      & 33.5     & 34846.72 & 3.555288 & 1.372940 & 4.785    & 27.78913 & 2.662089 & 10.6     & 24.51177 & 65.23156 & NA       & 5.719998 & 84.700   & AUS      & 2006     & GIRL     & 513     \\\\\n",
       "\t AUS-2006 & 4.738430 & 4.7      & 33.5     & 34846.72 & 3.555288 & 1.372940 & 4.785    & 27.78913 & 2.662089 & 10.6     & 24.51177 & 65.23156 & NA       & 5.719998 & 84.700   & AUS      & 2006     & TOT      & 520     \\\\\n",
       "\\end{tabular}\n"
      ],
      "text/markdown": [
       "\n",
       "| index_code | expenditure_on._education_pct_gdp | mortality_rate_infant | gini_index | gdp_per_capita_ppp | inflation_consumer_prices | intentional_homicides | unemployment | gross_fixed_capital_formation | population_density | suicide_mortality_rate | tax_revenue | taxes_on_income_profits_capital | alcohol_consumption_per_capita | government_health_expenditure_pct_gdp | urban_population_pct_total | country | time | sex | rating |\n",
       "|---|---|---|---|---|---|---|---|---|---|---|---|---|---|---|---|---|---|---|---|\n",
       "| AUS-2003 | 5.246357 | 4.9      | 33.5     | 30121.82 | 2.732596 | 1.533073 | 5.933    | 26.05029 | 2.567036 | 10.5     | 24.29997 | 62.72655 | NA       | 5.623778 | 84.343   | AUS      | 2003     | BOY      | 527      |\n",
       "| AUS-2003 | 5.246357 | 4.9      | 33.5     | 30121.82 | 2.732596 | 1.533073 | 5.933    | 26.05029 | 2.567036 | 10.5     | 24.29997 | 62.72655 | NA       | 5.623778 | 84.343   | AUS      | 2003     | GIRL     | 522      |\n",
       "| AUS-2003 | 5.246357 | 4.9      | 33.5     | 30121.82 | 2.732596 | 1.533073 | 5.933    | 26.05029 | 2.567036 | 10.5     | 24.29997 | 62.72655 | NA       | 5.623778 | 84.343   | AUS      | 2003     | TOT      | 524      |\n",
       "| AUS-2006 | 4.738430 | 4.7      | 33.5     | 34846.72 | 3.555288 | 1.372940 | 4.785    | 27.78913 | 2.662089 | 10.6     | 24.51177 | 65.23156 | NA       | 5.719998 | 84.700   | AUS      | 2006     | BOY      | 527      |\n",
       "| AUS-2006 | 4.738430 | 4.7      | 33.5     | 34846.72 | 3.555288 | 1.372940 | 4.785    | 27.78913 | 2.662089 | 10.6     | 24.51177 | 65.23156 | NA       | 5.719998 | 84.700   | AUS      | 2006     | GIRL     | 513      |\n",
       "| AUS-2006 | 4.738430 | 4.7      | 33.5     | 34846.72 | 3.555288 | 1.372940 | 4.785    | 27.78913 | 2.662089 | 10.6     | 24.51177 | 65.23156 | NA       | 5.719998 | 84.700   | AUS      | 2006     | TOT      | 520      |\n",
       "\n"
      ],
      "text/plain": [
       "  index_code expenditure_on._education_pct_gdp mortality_rate_infant gini_index\n",
       "1 AUS-2003   5.246357                          4.9                   33.5      \n",
       "2 AUS-2003   5.246357                          4.9                   33.5      \n",
       "3 AUS-2003   5.246357                          4.9                   33.5      \n",
       "4 AUS-2006   4.738430                          4.7                   33.5      \n",
       "5 AUS-2006   4.738430                          4.7                   33.5      \n",
       "6 AUS-2006   4.738430                          4.7                   33.5      \n",
       "  gdp_per_capita_ppp inflation_consumer_prices intentional_homicides\n",
       "1 30121.82           2.732596                  1.533073             \n",
       "2 30121.82           2.732596                  1.533073             \n",
       "3 30121.82           2.732596                  1.533073             \n",
       "4 34846.72           3.555288                  1.372940             \n",
       "5 34846.72           3.555288                  1.372940             \n",
       "6 34846.72           3.555288                  1.372940             \n",
       "  unemployment gross_fixed_capital_formation population_density\n",
       "1 5.933        26.05029                      2.567036          \n",
       "2 5.933        26.05029                      2.567036          \n",
       "3 5.933        26.05029                      2.567036          \n",
       "4 4.785        27.78913                      2.662089          \n",
       "5 4.785        27.78913                      2.662089          \n",
       "6 4.785        27.78913                      2.662089          \n",
       "  suicide_mortality_rate tax_revenue taxes_on_income_profits_capital\n",
       "1 10.5                   24.29997    62.72655                       \n",
       "2 10.5                   24.29997    62.72655                       \n",
       "3 10.5                   24.29997    62.72655                       \n",
       "4 10.6                   24.51177    65.23156                       \n",
       "5 10.6                   24.51177    65.23156                       \n",
       "6 10.6                   24.51177    65.23156                       \n",
       "  alcohol_consumption_per_capita government_health_expenditure_pct_gdp\n",
       "1 NA                             5.623778                             \n",
       "2 NA                             5.623778                             \n",
       "3 NA                             5.623778                             \n",
       "4 NA                             5.719998                             \n",
       "5 NA                             5.719998                             \n",
       "6 NA                             5.719998                             \n",
       "  urban_population_pct_total country time sex  rating\n",
       "1 84.343                     AUS     2003 BOY  527   \n",
       "2 84.343                     AUS     2003 GIRL 522   \n",
       "3 84.343                     AUS     2003 TOT  524   \n",
       "4 84.700                     AUS     2006 BOY  527   \n",
       "5 84.700                     AUS     2006 GIRL 513   \n",
       "6 84.700                     AUS     2006 TOT  520   "
      ]
     },
     "metadata": {},
     "output_type": "display_data"
    }
   ],
   "source": [
    "# install.packages(\"xlsx\")\n",
    "library(xlsx)\n",
    "\n",
    "data <- read.xlsx(\"economics_and_education_dataset_XLSX.xlsx\", 1)  # 1 is the sheet index\n",
    "head(data)"
   ]
  },
  {
   "cell_type": "code",
   "execution_count": 126,
   "id": "b89cdc1d-abf6-40cd-8505-e7870f32f687",
   "metadata": {},
   "outputs": [
    {
     "data": {
      "text/html": [
       "<table>\n",
       "<thead><tr><th scope=col>index_code</th><th scope=col>educ_exp</th><th scope=col>mortality_rate_infant</th><th scope=col>gini_index</th><th scope=col>gdp_per_capita_ppp</th><th scope=col>inflation_consumer_prices</th><th scope=col>intentional_homicides</th><th scope=col>unemployment</th><th scope=col>gross_fixed_capital_formation</th><th scope=col>population_density</th><th scope=col>suicide_mortality_rate</th><th scope=col>tax_revenue</th><th scope=col>taxes_on_income_profits_capital</th><th scope=col>alcohol_consumption_per_capita</th><th scope=col>government_health_expenditure_pct_gdp</th><th scope=col>urban_population_pct_total</th><th scope=col>country</th><th scope=col>time</th><th scope=col>sex</th><th scope=col>rating</th></tr></thead>\n",
       "<tbody>\n",
       "\t<tr><td>AUS-2003</td><td>5.246357</td><td>4.9     </td><td>33.5    </td><td>30121.82</td><td>2.732596</td><td>1.533073</td><td>5.933   </td><td>26.05029</td><td>2.567036</td><td>10.5    </td><td>24.29997</td><td>62.72655</td><td>NA      </td><td>5.623778</td><td>84.343  </td><td>AUS     </td><td>2003    </td><td>BOY     </td><td>527     </td></tr>\n",
       "\t<tr><td>AUS-2003</td><td>5.246357</td><td>4.9     </td><td>33.5    </td><td>30121.82</td><td>2.732596</td><td>1.533073</td><td>5.933   </td><td>26.05029</td><td>2.567036</td><td>10.5    </td><td>24.29997</td><td>62.72655</td><td>NA      </td><td>5.623778</td><td>84.343  </td><td>AUS     </td><td>2003    </td><td>GIRL    </td><td>522     </td></tr>\n",
       "\t<tr><td>AUS-2003</td><td>5.246357</td><td>4.9     </td><td>33.5    </td><td>30121.82</td><td>2.732596</td><td>1.533073</td><td>5.933   </td><td>26.05029</td><td>2.567036</td><td>10.5    </td><td>24.29997</td><td>62.72655</td><td>NA      </td><td>5.623778</td><td>84.343  </td><td>AUS     </td><td>2003    </td><td>TOT     </td><td>524     </td></tr>\n",
       "\t<tr><td>AUS-2006</td><td>4.738430</td><td>4.7     </td><td>33.5    </td><td>34846.72</td><td>3.555288</td><td>1.372940</td><td>4.785   </td><td>27.78913</td><td>2.662089</td><td>10.6    </td><td>24.51177</td><td>65.23156</td><td>NA      </td><td>5.719998</td><td>84.700  </td><td>AUS     </td><td>2006    </td><td>BOY     </td><td>527     </td></tr>\n",
       "\t<tr><td>AUS-2006</td><td>4.738430</td><td>4.7     </td><td>33.5    </td><td>34846.72</td><td>3.555288</td><td>1.372940</td><td>4.785   </td><td>27.78913</td><td>2.662089</td><td>10.6    </td><td>24.51177</td><td>65.23156</td><td>NA      </td><td>5.719998</td><td>84.700  </td><td>AUS     </td><td>2006    </td><td>GIRL    </td><td>513     </td></tr>\n",
       "\t<tr><td>AUS-2006</td><td>4.738430</td><td>4.7     </td><td>33.5    </td><td>34846.72</td><td>3.555288</td><td>1.372940</td><td>4.785   </td><td>27.78913</td><td>2.662089</td><td>10.6    </td><td>24.51177</td><td>65.23156</td><td>NA      </td><td>5.719998</td><td>84.700  </td><td>AUS     </td><td>2006    </td><td>TOT     </td><td>520     </td></tr>\n",
       "</tbody>\n",
       "</table>\n"
      ],
      "text/latex": [
       "\\begin{tabular}{r|llllllllllllllllllll}\n",
       " index\\_code & educ\\_exp & mortality\\_rate\\_infant & gini\\_index & gdp\\_per\\_capita\\_ppp & inflation\\_consumer\\_prices & intentional\\_homicides & unemployment & gross\\_fixed\\_capital\\_formation & population\\_density & suicide\\_mortality\\_rate & tax\\_revenue & taxes\\_on\\_income\\_profits\\_capital & alcohol\\_consumption\\_per\\_capita & government\\_health\\_expenditure\\_pct\\_gdp & urban\\_population\\_pct\\_total & country & time & sex & rating\\\\\n",
       "\\hline\n",
       "\t AUS-2003 & 5.246357 & 4.9      & 33.5     & 30121.82 & 2.732596 & 1.533073 & 5.933    & 26.05029 & 2.567036 & 10.5     & 24.29997 & 62.72655 & NA       & 5.623778 & 84.343   & AUS      & 2003     & BOY      & 527     \\\\\n",
       "\t AUS-2003 & 5.246357 & 4.9      & 33.5     & 30121.82 & 2.732596 & 1.533073 & 5.933    & 26.05029 & 2.567036 & 10.5     & 24.29997 & 62.72655 & NA       & 5.623778 & 84.343   & AUS      & 2003     & GIRL     & 522     \\\\\n",
       "\t AUS-2003 & 5.246357 & 4.9      & 33.5     & 30121.82 & 2.732596 & 1.533073 & 5.933    & 26.05029 & 2.567036 & 10.5     & 24.29997 & 62.72655 & NA       & 5.623778 & 84.343   & AUS      & 2003     & TOT      & 524     \\\\\n",
       "\t AUS-2006 & 4.738430 & 4.7      & 33.5     & 34846.72 & 3.555288 & 1.372940 & 4.785    & 27.78913 & 2.662089 & 10.6     & 24.51177 & 65.23156 & NA       & 5.719998 & 84.700   & AUS      & 2006     & BOY      & 527     \\\\\n",
       "\t AUS-2006 & 4.738430 & 4.7      & 33.5     & 34846.72 & 3.555288 & 1.372940 & 4.785    & 27.78913 & 2.662089 & 10.6     & 24.51177 & 65.23156 & NA       & 5.719998 & 84.700   & AUS      & 2006     & GIRL     & 513     \\\\\n",
       "\t AUS-2006 & 4.738430 & 4.7      & 33.5     & 34846.72 & 3.555288 & 1.372940 & 4.785    & 27.78913 & 2.662089 & 10.6     & 24.51177 & 65.23156 & NA       & 5.719998 & 84.700   & AUS      & 2006     & TOT      & 520     \\\\\n",
       "\\end{tabular}\n"
      ],
      "text/markdown": [
       "\n",
       "| index_code | educ_exp | mortality_rate_infant | gini_index | gdp_per_capita_ppp | inflation_consumer_prices | intentional_homicides | unemployment | gross_fixed_capital_formation | population_density | suicide_mortality_rate | tax_revenue | taxes_on_income_profits_capital | alcohol_consumption_per_capita | government_health_expenditure_pct_gdp | urban_population_pct_total | country | time | sex | rating |\n",
       "|---|---|---|---|---|---|---|---|---|---|---|---|---|---|---|---|---|---|---|---|\n",
       "| AUS-2003 | 5.246357 | 4.9      | 33.5     | 30121.82 | 2.732596 | 1.533073 | 5.933    | 26.05029 | 2.567036 | 10.5     | 24.29997 | 62.72655 | NA       | 5.623778 | 84.343   | AUS      | 2003     | BOY      | 527      |\n",
       "| AUS-2003 | 5.246357 | 4.9      | 33.5     | 30121.82 | 2.732596 | 1.533073 | 5.933    | 26.05029 | 2.567036 | 10.5     | 24.29997 | 62.72655 | NA       | 5.623778 | 84.343   | AUS      | 2003     | GIRL     | 522      |\n",
       "| AUS-2003 | 5.246357 | 4.9      | 33.5     | 30121.82 | 2.732596 | 1.533073 | 5.933    | 26.05029 | 2.567036 | 10.5     | 24.29997 | 62.72655 | NA       | 5.623778 | 84.343   | AUS      | 2003     | TOT      | 524      |\n",
       "| AUS-2006 | 4.738430 | 4.7      | 33.5     | 34846.72 | 3.555288 | 1.372940 | 4.785    | 27.78913 | 2.662089 | 10.6     | 24.51177 | 65.23156 | NA       | 5.719998 | 84.700   | AUS      | 2006     | BOY      | 527      |\n",
       "| AUS-2006 | 4.738430 | 4.7      | 33.5     | 34846.72 | 3.555288 | 1.372940 | 4.785    | 27.78913 | 2.662089 | 10.6     | 24.51177 | 65.23156 | NA       | 5.719998 | 84.700   | AUS      | 2006     | GIRL     | 513      |\n",
       "| AUS-2006 | 4.738430 | 4.7      | 33.5     | 34846.72 | 3.555288 | 1.372940 | 4.785    | 27.78913 | 2.662089 | 10.6     | 24.51177 | 65.23156 | NA       | 5.719998 | 84.700   | AUS      | 2006     | TOT      | 520      |\n",
       "\n"
      ],
      "text/plain": [
       "  index_code educ_exp mortality_rate_infant gini_index gdp_per_capita_ppp\n",
       "1 AUS-2003   5.246357 4.9                   33.5       30121.82          \n",
       "2 AUS-2003   5.246357 4.9                   33.5       30121.82          \n",
       "3 AUS-2003   5.246357 4.9                   33.5       30121.82          \n",
       "4 AUS-2006   4.738430 4.7                   33.5       34846.72          \n",
       "5 AUS-2006   4.738430 4.7                   33.5       34846.72          \n",
       "6 AUS-2006   4.738430 4.7                   33.5       34846.72          \n",
       "  inflation_consumer_prices intentional_homicides unemployment\n",
       "1 2.732596                  1.533073              5.933       \n",
       "2 2.732596                  1.533073              5.933       \n",
       "3 2.732596                  1.533073              5.933       \n",
       "4 3.555288                  1.372940              4.785       \n",
       "5 3.555288                  1.372940              4.785       \n",
       "6 3.555288                  1.372940              4.785       \n",
       "  gross_fixed_capital_formation population_density suicide_mortality_rate\n",
       "1 26.05029                      2.567036           10.5                  \n",
       "2 26.05029                      2.567036           10.5                  \n",
       "3 26.05029                      2.567036           10.5                  \n",
       "4 27.78913                      2.662089           10.6                  \n",
       "5 27.78913                      2.662089           10.6                  \n",
       "6 27.78913                      2.662089           10.6                  \n",
       "  tax_revenue taxes_on_income_profits_capital alcohol_consumption_per_capita\n",
       "1 24.29997    62.72655                        NA                            \n",
       "2 24.29997    62.72655                        NA                            \n",
       "3 24.29997    62.72655                        NA                            \n",
       "4 24.51177    65.23156                        NA                            \n",
       "5 24.51177    65.23156                        NA                            \n",
       "6 24.51177    65.23156                        NA                            \n",
       "  government_health_expenditure_pct_gdp urban_population_pct_total country time\n",
       "1 5.623778                              84.343                     AUS     2003\n",
       "2 5.623778                              84.343                     AUS     2003\n",
       "3 5.623778                              84.343                     AUS     2003\n",
       "4 5.719998                              84.700                     AUS     2006\n",
       "5 5.719998                              84.700                     AUS     2006\n",
       "6 5.719998                              84.700                     AUS     2006\n",
       "  sex  rating\n",
       "1 BOY  527   \n",
       "2 GIRL 522   \n",
       "3 TOT  524   \n",
       "4 BOY  527   \n",
       "5 GIRL 513   \n",
       "6 TOT  520   "
      ]
     },
     "metadata": {},
     "output_type": "display_data"
    }
   ],
   "source": [
    "# Rename a column using colnames()\n",
    "colnames(data)[colnames(data) == \"expenditure_on._education_pct_gdp\"] <- \"educ_exp\"\n",
    "# Verify the change\n",
    "head(data)\n",
    "#maybye drop NAs?"
   ]
  },
  {
   "cell_type": "code",
   "execution_count": 127,
   "id": "26e9702e-d783-43c9-9b03-fa48af8f63a8",
   "metadata": {},
   "outputs": [
    {
     "name": "stdout",
     "output_type": "stream",
     "text": [
      "'data.frame':\t634 obs. of  20 variables:\n",
      " $ index_code                           : Factor w/ 214 levels \"AUS-2003\",\"AUS-2006\",..: 1 1 1 2 2 2 3 3 3 4 ...\n",
      " $ educ_exp                             : num  5.25 5.25 5.25 4.74 4.74 ...\n",
      " $ mortality_rate_infant                : num  4.9 4.9 4.9 4.7 4.7 4.7 4.2 4.2 4.2 3.6 ...\n",
      " $ gini_index                           : num  33.5 33.5 33.5 33.5 33.5 33.5 33.5 33.5 33.5 33.5 ...\n",
      " $ gdp_per_capita_ppp                   : num  30122 30122 30122 34847 34847 ...\n",
      " $ inflation_consumer_prices            : num  2.73 2.73 2.73 3.56 3.56 ...\n",
      " $ intentional_homicides                : num  1.53 1.53 1.53 1.37 1.37 ...\n",
      " $ unemployment                         : num  5.93 5.93 5.93 4.79 4.79 ...\n",
      " $ gross_fixed_capital_formation        : num  26.1 26.1 26.1 27.8 27.8 ...\n",
      " $ population_density                   : num  2.57 2.57 2.57 2.66 2.66 ...\n",
      " $ suicide_mortality_rate               : num  10.5 10.5 10.5 10.6 10.6 10.6 11.2 11.2 11.2 11.7 ...\n",
      " $ tax_revenue                          : num  24.3 24.3 24.3 24.5 24.5 ...\n",
      " $ taxes_on_income_profits_capital      : num  62.7 62.7 62.7 65.2 65.2 ...\n",
      " $ alcohol_consumption_per_capita       : num  NA NA NA NA NA NA NA NA NA NA ...\n",
      " $ government_health_expenditure_pct_gdp: num  5.62 5.62 5.62 5.72 5.72 ...\n",
      " $ urban_population_pct_total           : num  84.3 84.3 84.3 84.7 84.7 ...\n",
      " $ country                              : Factor w/ 39 levels \"AUS\",\"AUT\",\"BEL\",..: 1 1 1 1 1 1 1 1 1 1 ...\n",
      " $ time                                 : num  2003 2003 2003 2006 2006 ...\n",
      " $ sex                                  : Factor w/ 3 levels \"BOY\",\"GIRL\",\"TOT\": 1 2 3 1 2 3 1 2 3 1 ...\n",
      " $ rating                               : num  527 522 524 527 513 ...\n"
     ]
    }
   ],
   "source": [
    "# we will have to adjust the dataset\n",
    "# Convert from factor to numeric where needed\n",
    "data$educ_exp <- as.numeric(as.character(data$educ_exp))\n",
    "data$gini_index <- as.numeric(as.character(data$gini_index))\n",
    "data$intentional_homicides <- as.numeric(as.character(data$intentional_homicides ))\n",
    "data$tax_revenue <- as.numeric(as.character(data$tax_revenue ))\n",
    "data$taxes_on_income_profits_capital <- as.numeric(as.character(data$taxes_on_income_profits_capital ))\n",
    "data$alcohol_consumption_per_capita <- as.numeric(as.character(data$alcohol_consumption_per_capita ))\n",
    "\n",
    "# Check the structure of the data to confirm the change\n",
    "str(data)"
   ]
  },
  {
   "cell_type": "code",
   "execution_count": 128,
   "id": "d10ba79c-9c26-4338-9e83-7a7af10efc17",
   "metadata": {},
   "outputs": [
    {
     "data": {
      "text/html": [
       "<table>\n",
       "<thead><tr><th></th><th scope=col>index_code</th><th scope=col>educ_exp</th><th scope=col>mortality_rate_infant</th><th scope=col>gini_index</th><th scope=col>gdp_per_capita_ppp</th><th scope=col>inflation_consumer_prices</th><th scope=col>intentional_homicides</th><th scope=col>unemployment</th><th scope=col>gross_fixed_capital_formation</th><th scope=col>population_density</th><th scope=col>suicide_mortality_rate</th><th scope=col>tax_revenue</th><th scope=col>taxes_on_income_profits_capital</th><th scope=col>alcohol_consumption_per_capita</th><th scope=col>government_health_expenditure_pct_gdp</th><th scope=col>urban_population_pct_total</th><th scope=col>country</th><th scope=col>time</th><th scope=col>sex</th><th scope=col>rating</th></tr></thead>\n",
       "<tbody>\n",
       "\t<tr><th scope=row>3</th><td>AUS-2003 </td><td>5.246357 </td><td>4.9      </td><td>33.5     </td><td>30121.82 </td><td>2.732596 </td><td>1.5330728</td><td>5.933    </td><td>26.05029 </td><td>2.567036 </td><td>10.5     </td><td>24.29997 </td><td>62.72655 </td><td>     NA  </td><td>5.623778 </td><td>84.343   </td><td>AUS      </td><td>2003     </td><td>TOT      </td><td>524      </td></tr>\n",
       "\t<tr><th scope=row>6</th><td>AUS-2006 </td><td>4.738430 </td><td>4.7      </td><td>33.5     </td><td>34846.72 </td><td>3.555288 </td><td>1.3729398</td><td>4.785    </td><td>27.78913 </td><td>2.662089 </td><td>10.6     </td><td>24.51177 </td><td>65.23156 </td><td>     NA  </td><td>5.719998 </td><td>84.700   </td><td>AUS      </td><td>2006     </td><td>TOT      </td><td>520      </td></tr>\n",
       "\t<tr><th scope=row>9</th><td>AUS-2009 </td><td>5.081320 </td><td>4.2      </td><td>33.5     </td><td>40312.40 </td><td>1.771117 </td><td>1.2141698</td><td>5.565    </td><td>27.60185 </td><td>2.823588 </td><td>11.2     </td><td>22.02101 </td><td>64.95108 </td><td>     NA  </td><td>6.244110 </td><td>85.063   </td><td>AUS      </td><td>2009     </td><td>TOT      </td><td>514      </td></tr>\n",
       "\t<tr><th scope=row>12</th><td>AUS-2012 </td><td>4.866670 </td><td>3.6      </td><td>33.5     </td><td>42866.60 </td><td>1.762780 </td><td>1.0691061</td><td>5.225    </td><td>27.40417 </td><td>2.959200 </td><td>11.7     </td><td>21.09748 </td><td>65.51731 </td><td>     NA  </td><td>6.179476 </td><td>85.402   </td><td>AUS      </td><td>2012     </td><td>TOT      </td><td>504      </td></tr>\n",
       "\t<tr><th scope=row>15</th><td>AUS-2015 </td><td>5.315520 </td><td>3.3      </td><td>33.5     </td><td>46292.10 </td><td>1.508367 </td><td>0.9907542</td><td>6.055    </td><td>26.20234 </td><td>3.100113 </td><td>13.2     </td><td>21.86642 </td><td>64.89343 </td><td>10.3903  </td><td>7.234067 </td><td>85.701   </td><td>AUS      </td><td>2015     </td><td>TOT      </td><td>494      </td></tr>\n",
       "\t<tr><th scope=row>18</th><td>AUS-2018 </td><td>5.124310 </td><td>3.2      </td><td>34.3     </td><td>50251.34 </td><td>1.911401 </td><td>0.8847350</td><td>5.300    </td><td>24.36526 </td><td>3.245345 </td><td>12.4     </td><td>23.17720 </td><td>65.16415 </td><td>     NA  </td><td>7.203527 </td><td>86.012   </td><td>AUS      </td><td>2018     </td><td>TOT      </td><td>491      </td></tr>\n",
       "</tbody>\n",
       "</table>\n"
      ],
      "text/latex": [
       "\\begin{tabular}{r|llllllllllllllllllll}\n",
       "  & index\\_code & educ\\_exp & mortality\\_rate\\_infant & gini\\_index & gdp\\_per\\_capita\\_ppp & inflation\\_consumer\\_prices & intentional\\_homicides & unemployment & gross\\_fixed\\_capital\\_formation & population\\_density & suicide\\_mortality\\_rate & tax\\_revenue & taxes\\_on\\_income\\_profits\\_capital & alcohol\\_consumption\\_per\\_capita & government\\_health\\_expenditure\\_pct\\_gdp & urban\\_population\\_pct\\_total & country & time & sex & rating\\\\\n",
       "\\hline\n",
       "\t3 & AUS-2003  & 5.246357  & 4.9       & 33.5      & 30121.82  & 2.732596  & 1.5330728 & 5.933     & 26.05029  & 2.567036  & 10.5      & 24.29997  & 62.72655  &      NA   & 5.623778  & 84.343    & AUS       & 2003      & TOT       & 524      \\\\\n",
       "\t6 & AUS-2006  & 4.738430  & 4.7       & 33.5      & 34846.72  & 3.555288  & 1.3729398 & 4.785     & 27.78913  & 2.662089  & 10.6      & 24.51177  & 65.23156  &      NA   & 5.719998  & 84.700    & AUS       & 2006      & TOT       & 520      \\\\\n",
       "\t9 & AUS-2009  & 5.081320  & 4.2       & 33.5      & 40312.40  & 1.771117  & 1.2141698 & 5.565     & 27.60185  & 2.823588  & 11.2      & 22.02101  & 64.95108  &      NA   & 6.244110  & 85.063    & AUS       & 2009      & TOT       & 514      \\\\\n",
       "\t12 & AUS-2012  & 4.866670  & 3.6       & 33.5      & 42866.60  & 1.762780  & 1.0691061 & 5.225     & 27.40417  & 2.959200  & 11.7      & 21.09748  & 65.51731  &      NA   & 6.179476  & 85.402    & AUS       & 2012      & TOT       & 504      \\\\\n",
       "\t15 & AUS-2015  & 5.315520  & 3.3       & 33.5      & 46292.10  & 1.508367  & 0.9907542 & 6.055     & 26.20234  & 3.100113  & 13.2      & 21.86642  & 64.89343  & 10.3903   & 7.234067  & 85.701    & AUS       & 2015      & TOT       & 494      \\\\\n",
       "\t18 & AUS-2018  & 5.124310  & 3.2       & 34.3      & 50251.34  & 1.911401  & 0.8847350 & 5.300     & 24.36526  & 3.245345  & 12.4      & 23.17720  & 65.16415  &      NA   & 7.203527  & 86.012    & AUS       & 2018      & TOT       & 491      \\\\\n",
       "\\end{tabular}\n"
      ],
      "text/markdown": [
       "\n",
       "| <!--/--> | index_code | educ_exp | mortality_rate_infant | gini_index | gdp_per_capita_ppp | inflation_consumer_prices | intentional_homicides | unemployment | gross_fixed_capital_formation | population_density | suicide_mortality_rate | tax_revenue | taxes_on_income_profits_capital | alcohol_consumption_per_capita | government_health_expenditure_pct_gdp | urban_population_pct_total | country | time | sex | rating |\n",
       "|---|---|---|---|---|---|---|---|---|---|---|---|---|---|---|---|---|---|---|---|---|\n",
       "| 3 | AUS-2003  | 5.246357  | 4.9       | 33.5      | 30121.82  | 2.732596  | 1.5330728 | 5.933     | 26.05029  | 2.567036  | 10.5      | 24.29997  | 62.72655  |      NA   | 5.623778  | 84.343    | AUS       | 2003      | TOT       | 524       |\n",
       "| 6 | AUS-2006  | 4.738430  | 4.7       | 33.5      | 34846.72  | 3.555288  | 1.3729398 | 4.785     | 27.78913  | 2.662089  | 10.6      | 24.51177  | 65.23156  |      NA   | 5.719998  | 84.700    | AUS       | 2006      | TOT       | 520       |\n",
       "| 9 | AUS-2009  | 5.081320  | 4.2       | 33.5      | 40312.40  | 1.771117  | 1.2141698 | 5.565     | 27.60185  | 2.823588  | 11.2      | 22.02101  | 64.95108  |      NA   | 6.244110  | 85.063    | AUS       | 2009      | TOT       | 514       |\n",
       "| 12 | AUS-2012  | 4.866670  | 3.6       | 33.5      | 42866.60  | 1.762780  | 1.0691061 | 5.225     | 27.40417  | 2.959200  | 11.7      | 21.09748  | 65.51731  |      NA   | 6.179476  | 85.402    | AUS       | 2012      | TOT       | 504       |\n",
       "| 15 | AUS-2015  | 5.315520  | 3.3       | 33.5      | 46292.10  | 1.508367  | 0.9907542 | 6.055     | 26.20234  | 3.100113  | 13.2      | 21.86642  | 64.89343  | 10.3903   | 7.234067  | 85.701    | AUS       | 2015      | TOT       | 494       |\n",
       "| 18 | AUS-2018  | 5.124310  | 3.2       | 34.3      | 50251.34  | 1.911401  | 0.8847350 | 5.300     | 24.36526  | 3.245345  | 12.4      | 23.17720  | 65.16415  |      NA   | 7.203527  | 86.012    | AUS       | 2018      | TOT       | 491       |\n",
       "\n"
      ],
      "text/plain": [
       "   index_code educ_exp mortality_rate_infant gini_index gdp_per_capita_ppp\n",
       "3  AUS-2003   5.246357 4.9                   33.5       30121.82          \n",
       "6  AUS-2006   4.738430 4.7                   33.5       34846.72          \n",
       "9  AUS-2009   5.081320 4.2                   33.5       40312.40          \n",
       "12 AUS-2012   4.866670 3.6                   33.5       42866.60          \n",
       "15 AUS-2015   5.315520 3.3                   33.5       46292.10          \n",
       "18 AUS-2018   5.124310 3.2                   34.3       50251.34          \n",
       "   inflation_consumer_prices intentional_homicides unemployment\n",
       "3  2.732596                  1.5330728             5.933       \n",
       "6  3.555288                  1.3729398             4.785       \n",
       "9  1.771117                  1.2141698             5.565       \n",
       "12 1.762780                  1.0691061             5.225       \n",
       "15 1.508367                  0.9907542             6.055       \n",
       "18 1.911401                  0.8847350             5.300       \n",
       "   gross_fixed_capital_formation population_density suicide_mortality_rate\n",
       "3  26.05029                      2.567036           10.5                  \n",
       "6  27.78913                      2.662089           10.6                  \n",
       "9  27.60185                      2.823588           11.2                  \n",
       "12 27.40417                      2.959200           11.7                  \n",
       "15 26.20234                      3.100113           13.2                  \n",
       "18 24.36526                      3.245345           12.4                  \n",
       "   tax_revenue taxes_on_income_profits_capital alcohol_consumption_per_capita\n",
       "3  24.29997    62.72655                             NA                       \n",
       "6  24.51177    65.23156                             NA                       \n",
       "9  22.02101    64.95108                             NA                       \n",
       "12 21.09748    65.51731                             NA                       \n",
       "15 21.86642    64.89343                        10.3903                       \n",
       "18 23.17720    65.16415                             NA                       \n",
       "   government_health_expenditure_pct_gdp urban_population_pct_total country\n",
       "3  5.623778                              84.343                     AUS    \n",
       "6  5.719998                              84.700                     AUS    \n",
       "9  6.244110                              85.063                     AUS    \n",
       "12 6.179476                              85.402                     AUS    \n",
       "15 7.234067                              85.701                     AUS    \n",
       "18 7.203527                              86.012                     AUS    \n",
       "   time sex rating\n",
       "3  2003 TOT 524   \n",
       "6  2006 TOT 520   \n",
       "9  2009 TOT 514   \n",
       "12 2012 TOT 504   \n",
       "15 2015 TOT 494   \n",
       "18 2018 TOT 491   "
      ]
     },
     "metadata": {},
     "output_type": "display_data"
    }
   ],
   "source": [
    "#we will start with observing only effect on all individuals together, later we will also explore differences between males and females\n",
    "data_f <- subset(data, sex==\"TOT\")\n",
    "head(data_f)"
   ]
  },
  {
   "cell_type": "code",
   "execution_count": 129,
   "id": "196a822d-97eb-4d27-b37e-9d4cfdc4f3c6",
   "metadata": {},
   "outputs": [
    {
     "data": {
      "text/plain": [
       "    index_code     educ_exp     mortality_rate_infant   gini_index   \n",
       " AUS-2003:  1   Min.   :3.040   Min.   : 1.900        Min.   :24.40  \n",
       " AUS-2006:  1   1st Qu.:4.454   1st Qu.: 3.000        1st Qu.:28.30  \n",
       " AUS-2009:  1   Median :5.042   Median : 3.700        Median :32.50  \n",
       " AUS-2012:  1   Mean   :5.208   Mean   : 5.062        Mean   :33.52  \n",
       " AUS-2015:  1   3rd Qu.:5.767   3rd Qu.: 5.100        3rd Qu.:35.20  \n",
       " AUS-2018:  1   Max.   :8.449   Max.   :25.300        Max.   :57.60  \n",
       " (Other) :208                                                        \n",
       " gdp_per_capita_ppp inflation_consumer_prices intentional_homicides\n",
       " Min.   :  9588     Min.   :-4.4781           Min.   : 0.0000      \n",
       " 1st Qu.: 26081     1st Qu.: 0.7999           1st Qu.: 0.8336      \n",
       " Median : 34306     Median : 1.9801           Median : 1.0955      \n",
       " Mean   : 36177     Mean   : 2.3008           Mean   : 3.1191      \n",
       " 3rd Qu.: 42994     3rd Qu.: 2.9912           3rd Qu.: 1.8424      \n",
       " Max.   :116499     Max.   :21.6024           Max.   :29.5814      \n",
       "                                              NA's   :27           \n",
       "  unemployment    gross_fixed_capital_formation population_density\n",
       " Min.   : 2.246   Min.   :10.77                 Min.   :  2.567   \n",
       " 1st Qu.: 4.893   1st Qu.:20.21                 1st Qu.: 30.426   \n",
       " Median : 6.843   Median :22.45                 Median :101.873   \n",
       " Mean   : 7.644   Mean   :22.51                 Mean   :133.327   \n",
       " 3rd Qu.: 9.334   3rd Qu.:24.30                 3rd Qu.:192.363   \n",
       " Max.   :24.981   Max.   :36.80                 Max.   :528.969   \n",
       "                                                                  \n",
       " suicide_mortality_rate  tax_revenue     taxes_on_income_profits_capital\n",
       " Min.   : 2.200         Min.   : 7.904   Min.   : 7.173                 \n",
       " 1st Qu.: 9.675         1st Qu.:15.527   1st Qu.:17.681                 \n",
       " Median :12.900         Median :20.952   Median :25.384                 \n",
       " Mean   :13.584         Mean   :20.120   Mean   :27.827                 \n",
       " 3rd Qu.:16.925         3rd Qu.:24.172   3rd Qu.:34.129                 \n",
       " Max.   :34.200         Max.   :33.922   Max.   :65.517                 \n",
       "                        NA's   :16       NA's   :16                     \n",
       " alcohol_consumption_per_capita government_health_expenditure_pct_gdp\n",
       " Min.   : 1.895                 Min.   :2.414                        \n",
       " 1st Qu.: 7.848                 1st Qu.:4.474                        \n",
       " Median : 9.917                 Median :6.045                        \n",
       " Mean   : 9.453                 Mean   :5.939                        \n",
       " 3rd Qu.:11.463                 3rd Qu.:7.383                        \n",
       " Max.   :15.059                 Max.   :9.276                        \n",
       " NA's   :177                                                         \n",
       " urban_population_pct_total    country         time        sex     \n",
       " Min.   :51.76              AUS    :  6   Min.   :2003   BOY :  0  \n",
       " 1st Qu.:68.73              BEL    :  6   1st Qu.:2006   GIRL:  0  \n",
       " Median :79.63              BRA    :  6   Median :2012   TOT :214  \n",
       " Mean   :77.35              CAN    :  6   Mean   :2011             \n",
       " 3rd Qu.:85.68              CHE    :  6   3rd Qu.:2015             \n",
       " Max.   :98.00              CZE    :  6   Max.   :2018             \n",
       "                            (Other):178                            \n",
       "     rating     \n",
       " Min.   :356.0  \n",
       " 1st Qu.:482.0  \n",
       " Median :495.0  \n",
       " Mean   :489.2  \n",
       " 3rd Qu.:512.8  \n",
       " Max.   :554.0  \n",
       "                "
      ]
     },
     "metadata": {},
     "output_type": "display_data"
    }
   ],
   "source": [
    "summary(data_f)"
   ]
  },
  {
   "cell_type": "markdown",
   "id": "39ecb153-201b-4e8f-b4f9-682e620b71ab",
   "metadata": {},
   "source": [
    "## Point in time analysis - 2018"
   ]
  },
  {
   "cell_type": "code",
   "execution_count": 130,
   "id": "38996f7e-ac04-4fec-be57-bf6e90111940",
   "metadata": {},
   "outputs": [
    {
     "data": {
      "text/html": [
       "<table>\n",
       "<thead><tr><th></th><th scope=col>index_code</th><th scope=col>educ_exp</th><th scope=col>mortality_rate_infant</th><th scope=col>gini_index</th><th scope=col>gdp_per_capita_ppp</th><th scope=col>inflation_consumer_prices</th><th scope=col>intentional_homicides</th><th scope=col>unemployment</th><th scope=col>gross_fixed_capital_formation</th><th scope=col>population_density</th><th scope=col>suicide_mortality_rate</th><th scope=col>tax_revenue</th><th scope=col>taxes_on_income_profits_capital</th><th scope=col>alcohol_consumption_per_capita</th><th scope=col>government_health_expenditure_pct_gdp</th><th scope=col>urban_population_pct_total</th><th scope=col>country</th><th scope=col>time</th><th scope=col>sex</th><th scope=col>rating</th></tr></thead>\n",
       "<tbody>\n",
       "\t<tr><th scope=row>18</th><td>AUS-2018  </td><td>5.12431   </td><td> 3.2      </td><td>34.3      </td><td>50251.34  </td><td>1.911401  </td><td> 0.8847350</td><td>5.300     </td><td>24.36526  </td><td>  3.245345</td><td>12.4      </td><td>23.17720  </td><td>65.16415  </td><td>NA        </td><td>7.203527  </td><td>86.012    </td><td>AUS       </td><td>2018      </td><td>TOT       </td><td>491       </td></tr>\n",
       "\t<tr><th scope=row>33</th><td>AUT-2018  </td><td>5.22655   </td><td> 2.9      </td><td>30.8      </td><td>56937.94  </td><td>1.998380  </td><td> 0.9727943</td><td>4.933     </td><td>24.09513  </td><td>107.131859</td><td>15.7      </td><td>25.41750  </td><td>27.48498  </td><td>NA        </td><td>7.705019  </td><td>58.297    </td><td>AUT       </td><td>2018      </td><td>TOT       </td><td>499       </td></tr>\n",
       "\t<tr><th scope=row>51</th><td>BEL-2018  </td><td>6.38107   </td><td> 3.4      </td><td>27.2      </td><td>52530.56  </td><td>2.053165  </td><td>        NA</td><td>5.948     </td><td>23.62267  </td><td>377.379590</td><td>18.7      </td><td>24.00857  </td><td>34.00176  </td><td>NA        </td><td>8.333813  </td><td>98.001    </td><td>BEL       </td><td>2018      </td><td>TOT       </td><td>508       </td></tr>\n",
       "\t<tr><th scope=row>69</th><td>CAN-2018  </td><td>4.88898   </td><td> 4.6      </td><td>32.5      </td><td>49992.76  </td><td>2.268226  </td><td> 1.7874861</td><td>5.837     </td><td>22.67609  </td><td>  4.134149</td><td>12.0      </td><td>13.05768  </td><td>55.21804  </td><td>NA        </td><td>7.577101  </td><td>81.411    </td><td>CAN       </td><td>2018      </td><td>TOT       </td><td>512       </td></tr>\n",
       "\t<tr><th scope=row>84</th><td>CHL-2018  </td><td>5.47306   </td><td> 6.3      </td><td>44.9      </td><td>25564.54  </td><td>2.434890  </td><td> 4.4114225</td><td>7.235     </td><td>23.04979  </td><td> 25.152179</td><td> 8.8      </td><td>18.39552  </td><td>36.67938  </td><td>NA        </td><td>4.654511  </td><td>87.564    </td><td>CHL       </td><td>2018      </td><td>TOT       </td><td>417       </td></tr>\n",
       "\t<tr><th scope=row>88</th><td>COL-2018  </td><td>4.44910   </td><td>12.2      </td><td>50.4      </td><td>15161.32  </td><td>3.240569  </td><td>26.2313252</td><td>9.360     </td><td>21.22787  </td><td> 44.413665</td><td> 4.0      </td><td>14.60984  </td><td>26.56603  </td><td>NA        </td><td>5.460899  </td><td>80.778    </td><td>COL       </td><td>2018      </td><td>TOT       </td><td>391       </td></tr>\n",
       "</tbody>\n",
       "</table>\n"
      ],
      "text/latex": [
       "\\begin{tabular}{r|llllllllllllllllllll}\n",
       "  & index\\_code & educ\\_exp & mortality\\_rate\\_infant & gini\\_index & gdp\\_per\\_capita\\_ppp & inflation\\_consumer\\_prices & intentional\\_homicides & unemployment & gross\\_fixed\\_capital\\_formation & population\\_density & suicide\\_mortality\\_rate & tax\\_revenue & taxes\\_on\\_income\\_profits\\_capital & alcohol\\_consumption\\_per\\_capita & government\\_health\\_expenditure\\_pct\\_gdp & urban\\_population\\_pct\\_total & country & time & sex & rating\\\\\n",
       "\\hline\n",
       "\t18 & AUS-2018   & 5.12431    &  3.2       & 34.3       & 50251.34   & 1.911401   &  0.8847350 & 5.300      & 24.36526   &   3.245345 & 12.4       & 23.17720   & 65.16415   & NA         & 7.203527   & 86.012     & AUS        & 2018       & TOT        & 491       \\\\\n",
       "\t33 & AUT-2018   & 5.22655    &  2.9       & 30.8       & 56937.94   & 1.998380   &  0.9727943 & 4.933      & 24.09513   & 107.131859 & 15.7       & 25.41750   & 27.48498   & NA         & 7.705019   & 58.297     & AUT        & 2018       & TOT        & 499       \\\\\n",
       "\t51 & BEL-2018   & 6.38107    &  3.4       & 27.2       & 52530.56   & 2.053165   &         NA & 5.948      & 23.62267   & 377.379590 & 18.7       & 24.00857   & 34.00176   & NA         & 8.333813   & 98.001     & BEL        & 2018       & TOT        & 508       \\\\\n",
       "\t69 & CAN-2018   & 4.88898    &  4.6       & 32.5       & 49992.76   & 2.268226   &  1.7874861 & 5.837      & 22.67609   &   4.134149 & 12.0       & 13.05768   & 55.21804   & NA         & 7.577101   & 81.411     & CAN        & 2018       & TOT        & 512       \\\\\n",
       "\t84 & CHL-2018   & 5.47306    &  6.3       & 44.9       & 25564.54   & 2.434890   &  4.4114225 & 7.235      & 23.04979   &  25.152179 &  8.8       & 18.39552   & 36.67938   & NA         & 4.654511   & 87.564     & CHL        & 2018       & TOT        & 417       \\\\\n",
       "\t88 & COL-2018   & 4.44910    & 12.2       & 50.4       & 15161.32   & 3.240569   & 26.2313252 & 9.360      & 21.22787   &  44.413665 &  4.0       & 14.60984   & 26.56603   & NA         & 5.460899   & 80.778     & COL        & 2018       & TOT        & 391       \\\\\n",
       "\\end{tabular}\n"
      ],
      "text/markdown": [
       "\n",
       "| <!--/--> | index_code | educ_exp | mortality_rate_infant | gini_index | gdp_per_capita_ppp | inflation_consumer_prices | intentional_homicides | unemployment | gross_fixed_capital_formation | population_density | suicide_mortality_rate | tax_revenue | taxes_on_income_profits_capital | alcohol_consumption_per_capita | government_health_expenditure_pct_gdp | urban_population_pct_total | country | time | sex | rating |\n",
       "|---|---|---|---|---|---|---|---|---|---|---|---|---|---|---|---|---|---|---|---|---|\n",
       "| 18 | AUS-2018   | 5.12431    |  3.2       | 34.3       | 50251.34   | 1.911401   |  0.8847350 | 5.300      | 24.36526   |   3.245345 | 12.4       | 23.17720   | 65.16415   | NA         | 7.203527   | 86.012     | AUS        | 2018       | TOT        | 491        |\n",
       "| 33 | AUT-2018   | 5.22655    |  2.9       | 30.8       | 56937.94   | 1.998380   |  0.9727943 | 4.933      | 24.09513   | 107.131859 | 15.7       | 25.41750   | 27.48498   | NA         | 7.705019   | 58.297     | AUT        | 2018       | TOT        | 499        |\n",
       "| 51 | BEL-2018   | 6.38107    |  3.4       | 27.2       | 52530.56   | 2.053165   |         NA | 5.948      | 23.62267   | 377.379590 | 18.7       | 24.00857   | 34.00176   | NA         | 8.333813   | 98.001     | BEL        | 2018       | TOT        | 508        |\n",
       "| 69 | CAN-2018   | 4.88898    |  4.6       | 32.5       | 49992.76   | 2.268226   |  1.7874861 | 5.837      | 22.67609   |   4.134149 | 12.0       | 13.05768   | 55.21804   | NA         | 7.577101   | 81.411     | CAN        | 2018       | TOT        | 512        |\n",
       "| 84 | CHL-2018   | 5.47306    |  6.3       | 44.9       | 25564.54   | 2.434890   |  4.4114225 | 7.235      | 23.04979   |  25.152179 |  8.8       | 18.39552   | 36.67938   | NA         | 4.654511   | 87.564     | CHL        | 2018       | TOT        | 417        |\n",
       "| 88 | COL-2018   | 4.44910    | 12.2       | 50.4       | 15161.32   | 3.240569   | 26.2313252 | 9.360      | 21.22787   |  44.413665 |  4.0       | 14.60984   | 26.56603   | NA         | 5.460899   | 80.778     | COL        | 2018       | TOT        | 391        |\n",
       "\n"
      ],
      "text/plain": [
       "   index_code educ_exp mortality_rate_infant gini_index gdp_per_capita_ppp\n",
       "18 AUS-2018   5.12431   3.2                  34.3       50251.34          \n",
       "33 AUT-2018   5.22655   2.9                  30.8       56937.94          \n",
       "51 BEL-2018   6.38107   3.4                  27.2       52530.56          \n",
       "69 CAN-2018   4.88898   4.6                  32.5       49992.76          \n",
       "84 CHL-2018   5.47306   6.3                  44.9       25564.54          \n",
       "88 COL-2018   4.44910  12.2                  50.4       15161.32          \n",
       "   inflation_consumer_prices intentional_homicides unemployment\n",
       "18 1.911401                   0.8847350            5.300       \n",
       "33 1.998380                   0.9727943            4.933       \n",
       "51 2.053165                          NA            5.948       \n",
       "69 2.268226                   1.7874861            5.837       \n",
       "84 2.434890                   4.4114225            7.235       \n",
       "88 3.240569                  26.2313252            9.360       \n",
       "   gross_fixed_capital_formation population_density suicide_mortality_rate\n",
       "18 24.36526                        3.245345         12.4                  \n",
       "33 24.09513                      107.131859         15.7                  \n",
       "51 23.62267                      377.379590         18.7                  \n",
       "69 22.67609                        4.134149         12.0                  \n",
       "84 23.04979                       25.152179          8.8                  \n",
       "88 21.22787                       44.413665          4.0                  \n",
       "   tax_revenue taxes_on_income_profits_capital alcohol_consumption_per_capita\n",
       "18 23.17720    65.16415                        NA                            \n",
       "33 25.41750    27.48498                        NA                            \n",
       "51 24.00857    34.00176                        NA                            \n",
       "69 13.05768    55.21804                        NA                            \n",
       "84 18.39552    36.67938                        NA                            \n",
       "88 14.60984    26.56603                        NA                            \n",
       "   government_health_expenditure_pct_gdp urban_population_pct_total country\n",
       "18 7.203527                              86.012                     AUS    \n",
       "33 7.705019                              58.297                     AUT    \n",
       "51 8.333813                              98.001                     BEL    \n",
       "69 7.577101                              81.411                     CAN    \n",
       "84 4.654511                              87.564                     CHL    \n",
       "88 5.460899                              80.778                     COL    \n",
       "   time sex rating\n",
       "18 2018 TOT 491   \n",
       "33 2018 TOT 499   \n",
       "51 2018 TOT 508   \n",
       "69 2018 TOT 512   \n",
       "84 2018 TOT 417   \n",
       "88 2018 TOT 391   "
      ]
     },
     "metadata": {},
     "output_type": "display_data"
    },
    {
     "data": {
      "text/plain": [
       "    index_code    educ_exp     mortality_rate_infant   gini_index   \n",
       " AUS-2018: 1   Min.   :3.078   Min.   : 1.900        Min.   :24.60  \n",
       " AUT-2018: 1   1st Qu.:4.261   1st Qu.: 2.700        1st Qu.:29.80  \n",
       " BEL-2018: 1   Median :4.930   Median : 3.300        Median :32.50  \n",
       " BRA-2018: 1   Mean   :5.080   Mean   : 4.215        Mean   :33.92  \n",
       " CAN-2018: 1   3rd Qu.:5.440   3rd Qu.: 4.050        3rd Qu.:35.30  \n",
       " CHE-2018: 1   Max.   :7.641   Max.   :13.500        Max.   :53.90  \n",
       " (Other) :33                                                        \n",
       " gdp_per_capita_ppp inflation_consumer_prices intentional_homicides\n",
       " Min.   : 14971     Min.   : 0.4884           Min.   : 0.2645      \n",
       " 1st Qu.: 31968     1st Qu.: 1.5020           1st Qu.: 0.7087      \n",
       " Median : 42507     Median : 1.9535           Median : 1.0058      \n",
       " Mean   : 45149     Mean   : 2.3672           Mean   : 3.7799      \n",
       " 3rd Qu.: 54359     3rd Qu.: 2.5242           3rd Qu.: 2.1178      \n",
       " Max.   :116499     Max.   :16.3325           Max.   :29.5814      \n",
       "                                              NA's   :2            \n",
       "  unemployment    gross_fixed_capital_formation population_density\n",
       " Min.   : 2.246   Min.   :11.15                 Min.   :  3.245   \n",
       " 1st Qu.: 3.871   1st Qu.:19.93                 1st Qu.: 30.947   \n",
       " Median : 5.366   Median :22.68                 Median :102.992   \n",
       " Mean   : 6.325   Mean   :22.17                 Mean   :134.784   \n",
       " 3rd Qu.: 7.298   3rd Qu.:24.23                 3rd Qu.:174.582   \n",
       " Max.   :19.179   Max.   :30.38                 Max.   :528.969   \n",
       "                                                                  \n",
       " suicide_mortality_rate  tax_revenue     taxes_on_income_profits_capital\n",
       " Min.   : 2.30          Min.   : 9.691   Min.   : 7.173                 \n",
       " 1st Qu.: 8.45          1st Qu.:15.009   1st Qu.:18.308                 \n",
       " Median :12.00          Median :20.892   Median :25.538                 \n",
       " Mean   :12.42          Mean   :19.941   Mean   :27.994                 \n",
       " 3rd Qu.:15.50          3rd Qu.:23.835   3rd Qu.:33.768                 \n",
       " Max.   :28.60          Max.   :32.235   Max.   :65.164                 \n",
       "                        NA's   :1        NA's   :1                      \n",
       " alcohol_consumption_per_capita government_health_expenditure_pct_gdp\n",
       " Min.   : NA                    Min.   :2.672                        \n",
       " 1st Qu.: NA                    1st Qu.:4.524                        \n",
       " Median : NA                    Median :5.995                        \n",
       " Mean   :NaN                    Mean   :6.073                        \n",
       " 3rd Qu.: NA                    3rd Qu.:7.641                        \n",
       " Max.   : NA                    Max.   :9.276                        \n",
       " NA's   :39                                                          \n",
       " urban_population_pct_total    country        time        sex    \n",
       " Min.   :53.73              AUS    : 1   Min.   :2018   BOY : 0  \n",
       " 1st Qu.:70.89              AUT    : 1   1st Qu.:2018   GIRL: 0  \n",
       " Median :80.44              BEL    : 1   Median :2018   TOT :39  \n",
       " Mean   :78.41              BRA    : 1   Mean   :2018            \n",
       " 3rd Qu.:86.55              CAN    : 1   3rd Qu.:2018            \n",
       " Max.   :98.00              CHE    : 1   Max.   :2018            \n",
       "                            (Other):33                           \n",
       "     rating     \n",
       " Min.   :384.0  \n",
       " 1st Qu.:481.0  \n",
       " Median :495.0  \n",
       " Mean   :484.2  \n",
       " 3rd Qu.:507.5  \n",
       " Max.   :527.0  \n",
       "                "
      ]
     },
     "metadata": {},
     "output_type": "display_data"
    }
   ],
   "source": [
    "#now, we will look first at point in time analysis, looking at latest year we have data on, which is 2018,\n",
    "#we will also check robustness/ sensitivity of our findings by running regression on data from 2015\n",
    "data_2018 <- subset(data_f, time==\"2018\")\n",
    "\n",
    "head(data_2018)\n",
    "summary(data_2018)\n"
   ]
  },
  {
   "cell_type": "code",
   "execution_count": 131,
   "id": "c1c58c3a-adb7-437a-bd14-65c2b66e711f",
   "metadata": {},
   "outputs": [
    {
     "name": "stdout",
     "output_type": "stream",
     "text": [
      "[1] 39 20\n",
      "[1] 39\n"
     ]
    }
   ],
   "source": [
    "dims <- dim(data_2018)\n",
    "\n",
    "# Using nrow() and ncol()\n",
    "print(dims)\n",
    "print(nrow(data_2018))"
   ]
  },
  {
   "cell_type": "markdown",
   "id": "686ab3ee-f2a2-4871-a1fe-3143017f7629",
   "metadata": {},
   "source": [
    "### OLS - choosing right variables"
   ]
  },
  {
   "cell_type": "code",
   "execution_count": 132,
   "id": "f69950e9-0f8a-452a-b977-bf77c3be5504",
   "metadata": {},
   "outputs": [
    {
     "data": {
      "text/plain": [
       "\n",
       "Call:\n",
       "lm(formula = rating ~ educ_exp + mortality_rate_infant + gini_index + \n",
       "    gdp_per_capita_ppp + inflation_consumer_prices + unemployment + \n",
       "    +gross_fixed_capital_formation + population_density + log(suicide_mortality_rate) + \n",
       "    log(tax_revenue) + taxes_on_income_profits_capital + government_health_expenditure_pct_gdp + \n",
       "    urban_population_pct_total, data = data_2018)\n",
       "\n",
       "Residuals:\n",
       "     Min       1Q   Median       3Q      Max \n",
       "-20.6555  -6.9073   0.7327   6.8285  25.9729 \n",
       "\n",
       "Coefficients:\n",
       "                                        Estimate Std. Error t value Pr(>|t|)\n",
       "(Intercept)                            5.551e+02  5.515e+01  10.065 4.33e-10\n",
       "educ_exp                               5.831e-01  3.647e+00   0.160  0.87429\n",
       "mortality_rate_infant                 -4.565e+00  1.875e+00  -2.435  0.02271\n",
       "gini_index                            -2.410e+00  7.121e-01  -3.384  0.00245\n",
       "gdp_per_capita_ppp                     1.180e-04  1.692e-04   0.697  0.49223\n",
       "inflation_consumer_prices              2.935e+00  1.456e+00   2.016  0.05512\n",
       "unemployment                           2.421e-01  1.005e+00   0.241  0.81168\n",
       "gross_fixed_capital_formation          2.524e-01  8.437e-01   0.299  0.76741\n",
       "population_density                     4.678e-02  2.113e-02   2.214  0.03661\n",
       "log(suicide_mortality_rate)            1.571e+01  7.380e+00   2.129  0.04373\n",
       "log(tax_revenue)                      -8.671e+00  1.016e+01  -0.853  0.40191\n",
       "taxes_on_income_profits_capital        5.000e-01  2.721e-01   1.837  0.07859\n",
       "government_health_expenditure_pct_gdp  7.958e-01  2.042e+00   0.390  0.70014\n",
       "urban_population_pct_total            -3.834e-01  3.543e-01  -1.082  0.29006\n",
       "                                         \n",
       "(Intercept)                           ***\n",
       "educ_exp                                 \n",
       "mortality_rate_infant                 *  \n",
       "gini_index                            ** \n",
       "gdp_per_capita_ppp                       \n",
       "inflation_consumer_prices             .  \n",
       "unemployment                             \n",
       "gross_fixed_capital_formation            \n",
       "population_density                    *  \n",
       "log(suicide_mortality_rate)           *  \n",
       "log(tax_revenue)                         \n",
       "taxes_on_income_profits_capital       .  \n",
       "government_health_expenditure_pct_gdp    \n",
       "urban_population_pct_total               \n",
       "---\n",
       "Signif. codes:  0 '***' 0.001 '**' 0.01 '*' 0.05 '.' 0.1 ' ' 1\n",
       "\n",
       "Residual standard error: 14.25 on 24 degrees of freedom\n",
       "  (1 observation deleted due to missingness)\n",
       "Multiple R-squared:  0.9027,\tAdjusted R-squared:  0.8499 \n",
       "F-statistic: 17.12 on 13 and 24 DF,  p-value: 4.692e-09\n"
      ]
     },
     "metadata": {},
     "output_type": "display_data"
    }
   ],
   "source": [
    "#full  OLS\n",
    "ols_2018a <- lm(rating ~ educ_exp  + mortality_rate_infant+\tgini_index + gdp_per_capita_ppp +\tinflation_consumer_prices + unemployment + \n",
    "               +gross_fixed_capital_formation +\tpopulation_density\t+log(suicide_mortality_rate)+log(tax_revenue)+\ttaxes_on_income_profits_capital\n",
    "               + government_health_expenditure_pct_gdp + urban_population_pct_total, data = data_2018)\n",
    "summary(ols_2018a)"
   ]
  },
  {
   "cell_type": "code",
   "execution_count": 133,
   "id": "59c8ca50-c5d5-406c-b03e-214453f7f19b",
   "metadata": {},
   "outputs": [
    {
     "data": {
      "text/plain": [
       "\n",
       "Call:\n",
       "lm(formula = rating ~ educ_exp + mortality_rate_infant + gini_index + \n",
       "    gdp_per_capita_ppp + inflation_consumer_prices + +population_density + \n",
       "    log(suicide_mortality_rate) + log(tax_revenue) + taxes_on_income_profits_capital + \n",
       "    government_health_expenditure_pct_gdp + urban_population_pct_total, \n",
       "    data = data_2018)\n",
       "\n",
       "Residuals:\n",
       "     Min       1Q   Median       3Q      Max \n",
       "-20.5223  -7.9764   0.6634   7.1015  24.6199 \n",
       "\n",
       "Coefficients:\n",
       "                                        Estimate Std. Error t value Pr(>|t|)\n",
       "(Intercept)                            5.635e+02  4.738e+01  11.894  5.1e-12\n",
       "educ_exp                               4.803e-01  3.106e+00   0.155  0.87829\n",
       "mortality_rate_infant                 -4.734e+00  1.740e+00  -2.721  0.01145\n",
       "gini_index                            -2.398e+00  6.620e-01  -3.623  0.00124\n",
       "gdp_per_capita_ppp                     1.070e-04  1.576e-04   0.679  0.50325\n",
       "inflation_consumer_prices              3.142e+00  1.149e+00   2.735  0.01109\n",
       "population_density                     4.597e-02  1.916e-02   2.399  0.02389\n",
       "log(suicide_mortality_rate)            1.567e+01  6.365e+00   2.462  0.02076\n",
       "log(tax_revenue)                      -9.073e+00  9.344e+00  -0.971  0.34046\n",
       "taxes_on_income_profits_capital        5.042e-01  2.283e-01   2.208  0.03625\n",
       "government_health_expenditure_pct_gdp  7.527e-01  1.880e+00   0.400  0.69220\n",
       "urban_population_pct_total            -3.692e-01  3.276e-01  -1.127  0.27011\n",
       "                                         \n",
       "(Intercept)                           ***\n",
       "educ_exp                                 \n",
       "mortality_rate_infant                 *  \n",
       "gini_index                            ** \n",
       "gdp_per_capita_ppp                       \n",
       "inflation_consumer_prices             *  \n",
       "population_density                    *  \n",
       "log(suicide_mortality_rate)           *  \n",
       "log(tax_revenue)                         \n",
       "taxes_on_income_profits_capital       *  \n",
       "government_health_expenditure_pct_gdp    \n",
       "urban_population_pct_total               \n",
       "---\n",
       "Signif. codes:  0 '***' 0.001 '**' 0.01 '*' 0.05 '.' 0.1 ' ' 1\n",
       "\n",
       "Residual standard error: 13.73 on 26 degrees of freedom\n",
       "  (1 observation deleted due to missingness)\n",
       "Multiple R-squared:  0.9022,\tAdjusted R-squared:  0.8608 \n",
       "F-statistic:  21.8 on 11 and 26 DF,  p-value: 2.254e-10\n"
      ]
     },
     "metadata": {},
     "output_type": "display_data"
    }
   ],
   "source": [
    "# step-by step removing the most useless variables \n",
    "#removing unemloyment and gross_fixed_capital_formation, keeping educ_exp for economic reasons (curious what happens later)\n",
    "#updated  OLS\n",
    "ols_2018b <- lm(rating ~ educ_exp  + mortality_rate_infant+\tgini_index + gdp_per_capita_ppp +\tinflation_consumer_prices + \n",
    "               +population_density\t+log(suicide_mortality_rate)+log(tax_revenue)+\ttaxes_on_income_profits_capital\n",
    "               + government_health_expenditure_pct_gdp + urban_population_pct_total, data = data_2018)\n",
    "summary(ols_2018b)"
   ]
  },
  {
   "cell_type": "code",
   "execution_count": 134,
   "id": "073a0a4a-8c82-468f-9a5d-65bdd1bbb6e8",
   "metadata": {},
   "outputs": [
    {
     "data": {
      "text/plain": [
       "\n",
       "Call:\n",
       "lm(formula = rating ~ educ_exp + mortality_rate_infant + gini_index + \n",
       "    gdp_per_capita_ppp + inflation_consumer_prices + +population_density + \n",
       "    log(suicide_mortality_rate) + log(tax_revenue) + taxes_on_income_profits_capital + \n",
       "    urban_population_pct_total, data = data_2018)\n",
       "\n",
       "Residuals:\n",
       "     Min       1Q   Median       3Q      Max \n",
       "-21.2237  -8.2917   0.9655   6.8407  23.9722 \n",
       "\n",
       "Coefficients:\n",
       "                                  Estimate Std. Error t value Pr(>|t|)    \n",
       "(Intercept)                      5.680e+02  4.534e+01  12.528 9.21e-13 ***\n",
       "educ_exp                         1.080e+00  2.678e+00   0.403 0.689828    \n",
       "mortality_rate_infant           -4.778e+00  1.709e+00  -2.796 0.009423 ** \n",
       "gini_index                      -2.465e+00  6.309e-01  -3.907 0.000566 ***\n",
       "gdp_per_capita_ppp               1.104e-04  1.549e-04   0.713 0.482071    \n",
       "inflation_consumer_prices        3.087e+00  1.123e+00   2.749 0.010524 *  \n",
       "population_density               4.527e-02  1.878e-02   2.410 0.023016 *  \n",
       "log(suicide_mortality_rate)      1.557e+01  6.260e+00   2.488 0.019331 *  \n",
       "log(tax_revenue)                -9.431e+00  9.155e+00  -1.030 0.312067    \n",
       "taxes_on_income_profits_capital  5.350e-01  2.116e-01   2.528 0.017637 *  \n",
       "urban_population_pct_total      -3.701e-01  3.225e-01  -1.148 0.261177    \n",
       "---\n",
       "Signif. codes:  0 '***' 0.001 '**' 0.01 '*' 0.05 '.' 0.1 ' ' 1\n",
       "\n",
       "Residual standard error: 13.51 on 27 degrees of freedom\n",
       "  (1 observation deleted due to missingness)\n",
       "Multiple R-squared:  0.9016,\tAdjusted R-squared:  0.8651 \n",
       "F-statistic: 24.73 on 10 and 27 DF,  p-value: 4.706e-11\n"
      ]
     },
     "metadata": {},
     "output_type": "display_data"
    }
   ],
   "source": [
    "# step-by step removing the most useless variables \n",
    "#removing government_health_expenditure_pct_gdp, keeping educ_exp for economic reasons (curious what happens later)\n",
    "#updated  OLS\n",
    "ols_2018c <- lm(rating ~ educ_exp  + mortality_rate_infant+\tgini_index + gdp_per_capita_ppp +\tinflation_consumer_prices + \n",
    "               +population_density\t+log(suicide_mortality_rate)+log(tax_revenue)+\ttaxes_on_income_profits_capital\n",
    "               + urban_population_pct_total, data = data_2018)\n",
    "summary(ols_2018c)"
   ]
  },
  {
   "cell_type": "code",
   "execution_count": 135,
   "id": "ac0273f3-d32f-4ae7-947a-d8c057550b04",
   "metadata": {},
   "outputs": [
    {
     "data": {
      "text/plain": [
       "\n",
       "Call:\n",
       "lm(formula = rating ~ mortality_rate_infant + gini_index + gdp_per_capita_ppp + \n",
       "    inflation_consumer_prices + +population_density + log(suicide_mortality_rate) + \n",
       "    log(tax_revenue) + taxes_on_income_profits_capital, data = data_2018)\n",
       "\n",
       "Residuals:\n",
       "    Min      1Q  Median      3Q     Max \n",
       "-22.851  -9.015   1.390   7.423  26.984 \n",
       "\n",
       "Coefficients:\n",
       "                                  Estimate Std. Error t value Pr(>|t|)    \n",
       "(Intercept)                      5.627e+02  4.473e+01  12.580 2.85e-13 ***\n",
       "mortality_rate_infant           -4.762e+00  1.692e+00  -2.815 0.008679 ** \n",
       "gini_index                      -2.675e+00  5.999e-01  -4.459 0.000114 ***\n",
       "gdp_per_capita_ppp               7.335e-05  1.504e-04   0.488 0.629345    \n",
       "inflation_consumer_prices        3.091e+00  1.112e+00   2.778 0.009483 ** \n",
       "population_density               3.679e-02  1.681e-02   2.188 0.036868 *  \n",
       "log(suicide_mortality_rate)      1.620e+01  6.118e+00   2.647 0.012976 *  \n",
       "log(tax_revenue)                -1.182e+01  8.685e+00  -1.361 0.184009    \n",
       "taxes_on_income_profits_capital  4.393e-01  1.928e-01   2.279 0.030233 *  \n",
       "---\n",
       "Signif. codes:  0 '***' 0.001 '**' 0.01 '*' 0.05 '.' 0.1 ' ' 1\n",
       "\n",
       "Residual standard error: 13.39 on 29 degrees of freedom\n",
       "  (1 observation deleted due to missingness)\n",
       "Multiple R-squared:  0.8961,\tAdjusted R-squared:  0.8675 \n",
       "F-statistic: 31.28 on 8 and 29 DF,  p-value: 3.007e-12\n"
      ]
     },
     "metadata": {},
     "output_type": "display_data"
    }
   ],
   "source": [
    "# step-by step removing the most useless variables \n",
    "#removing urban_population_pct_total, educ_exp\n",
    "#updated  OLS\n",
    "ols_2018d <- lm(rating ~ mortality_rate_infant+\tgini_index + gdp_per_capita_ppp +\tinflation_consumer_prices + \n",
    "               +population_density\t+log(suicide_mortality_rate)+ log(tax_revenue) +\ttaxes_on_income_profits_capital, data = data_2018)\n",
    "summary(ols_2018d)"
   ]
  },
  {
   "cell_type": "code",
   "execution_count": 136,
   "id": "94a9808c-5ed5-4605-a28e-1bdfb67a2b79",
   "metadata": {},
   "outputs": [
    {
     "data": {
      "text/plain": [
       "\n",
       "Call:\n",
       "lm(formula = rating ~ mortality_rate_infant + gini_index + inflation_consumer_prices + \n",
       "    +population_density + log(suicide_mortality_rate) + log(tax_revenue) + \n",
       "    taxes_on_income_profits_capital, data = data_2018)\n",
       "\n",
       "Residuals:\n",
       "    Min      1Q  Median      3Q     Max \n",
       "-23.918  -8.790   1.042   7.886  26.472 \n",
       "\n",
       "Coefficients:\n",
       "                                 Estimate Std. Error t value Pr(>|t|)    \n",
       "(Intercept)                     568.00842   42.83794  13.259 4.43e-14 ***\n",
       "mortality_rate_infant            -5.07481    1.54547  -3.284  0.00261 ** \n",
       "gini_index                       -2.67781    0.59220  -4.522 8.96e-05 ***\n",
       "inflation_consumer_prices         3.11323    1.09732   2.837  0.00808 ** \n",
       "population_density                0.03782    0.01647   2.296  0.02882 *  \n",
       "log(suicide_mortality_rate)      16.06388    6.03363   2.662  0.01235 *  \n",
       "log(tax_revenue)                -12.33734    8.51025  -1.450  0.15752    \n",
       "taxes_on_income_profits_capital   0.47918    0.17241   2.779  0.00931 ** \n",
       "---\n",
       "Signif. codes:  0 '***' 0.001 '**' 0.01 '*' 0.05 '.' 0.1 ' ' 1\n",
       "\n",
       "Residual standard error: 13.22 on 30 degrees of freedom\n",
       "  (1 observation deleted due to missingness)\n",
       "Multiple R-squared:  0.8953,\tAdjusted R-squared:  0.8709 \n",
       "F-statistic: 36.64 on 7 and 30 DF,  p-value: 5.314e-13\n"
      ]
     },
     "metadata": {},
     "output_type": "display_data"
    }
   ],
   "source": [
    "#simple  OLS\n",
    "ols_2018 <- lm(rating ~ mortality_rate_infant+\tgini_index + inflation_consumer_prices + \n",
    "               +population_density\t+log(suicide_mortality_rate)+\tlog(tax_revenue) + taxes_on_income_profits_capital, data = data_2018)\n",
    "# Get the summary of the model\n",
    "summary(ols_2018)"
   ]
  },
  {
   "cell_type": "code",
   "execution_count": 137,
   "id": "b4931969-4226-4670-a582-cfdb59c24823",
   "metadata": {},
   "outputs": [
    {
     "data": {
      "image/png": "[encoded data removed]",
      "text/plain": [
       "Plot with title \"\""
      ]
     },
     "metadata": {},
     "output_type": "display_data"
    }
   ],
   "source": [
    "par(mfrow=c(2,2))\n",
    "plot(ols_2018)"
   ]
  },
  {
   "cell_type": "markdown",
   "id": "ed78a8e0-c835-44d5-83e1-80ca2588d4e8",
   "metadata": {},
   "source": []
  },
  {
   "cell_type": "code",
   "execution_count": 138,
   "id": "9539799d-c4c3-4271-b331-6e59382bb674",
   "metadata": {},
   "outputs": [
    {
     "name": "stdout",
     "output_type": "stream",
     "text": [
      "Wald test\n",
      "\n",
      "Model 1: rating ~ educ_exp + mortality_rate_infant + gini_index + gdp_per_capita_ppp + \n",
      "    inflation_consumer_prices + unemployment + +gross_fixed_capital_formation + \n",
      "    population_density + log(suicide_mortality_rate) + log(tax_revenue) + \n",
      "    taxes_on_income_profits_capital + government_health_expenditure_pct_gdp + \n",
      "    urban_population_pct_total\n",
      "Model 2: rating ~ 1\n",
      "  Res.Df  Df  Chisq Pr(>Chisq)    \n",
      "1     24                          \n",
      "2     37 -13 222.54  < 2.2e-16 ***\n",
      "---\n",
      "Signif. codes:  0 '***' 0.001 '**' 0.01 '*' 0.05 '.' 0.1 ' ' 1\n",
      "Likelihood ratio test\n",
      "\n",
      "Model 1: rating ~ mortality_rate_infant + gini_index + inflation_consumer_prices + \n",
      "    +population_density + log(suicide_mortality_rate) + log(tax_revenue) + \n",
      "    taxes_on_income_profits_capital\n",
      "Model 2: rating ~ educ_exp + mortality_rate_infant + gini_index + gdp_per_capita_ppp + \n",
      "    inflation_consumer_prices + unemployment + +gross_fixed_capital_formation + \n",
      "    population_density + log(suicide_mortality_rate) + log(tax_revenue) + \n",
      "    taxes_on_income_profits_capital + government_health_expenditure_pct_gdp + \n",
      "    urban_population_pct_total\n",
      "  #Df  LogLik Df  Chisq Pr(>Chisq)\n",
      "1   9 -147.54                     \n",
      "2  15 -146.16  6 2.7718     0.8369\n"
     ]
    }
   ],
   "source": [
    "library(lmtest)\n",
    "# Wald Test\n",
    "wald_test <- waldtest(ols_2018a, test = \"Chisq\")\n",
    "print(wald_test)\n",
    "\n",
    "# Likelihood Ratio Test - Likelihood Ratio Test:\n",
    "# If the p-value is less than your chosen significance level (usually 0.05), you reject the null hypothesis that the restricted model is true. \n",
    "# This means the restrictions imposed significantly reduce the model's explanatory power, and the unrestricted model is preferred. \n",
    "lr_test <- lrtest(ols_2018, ols_2018a)\n",
    "print(lr_test)"
   ]
  },
  {
   "cell_type": "markdown",
   "id": "14587640-710e-4535-85cb-ca3c5444beed",
   "metadata": {},
   "source": [
    "Wald test: The Wald test compares the full model against a reduced model (just the intercept). The extremely low p-value (< 2.2e-16) strongly suggests that the full model (Model 1) is significantly different from the baseline model (Model 2). In other words, the set of predictors included in Model 1 jointly contribute significantly to explaining the variability in the dependent variable rating. This result implies that at least some of the coefficients of the independent variables in Model 1 are significantly different from zero.\n",
    "\n",
    "Wald test results: The test provides strong evidence in favor of Model 1 over Model 2. It suggests that the predictors included in Model 1 are collectively important in explaining the variation in the dependent variable. However, this test does not tell you which specific predictors are important. For that, you would need to look at the individual coefficients and their p-values in the regression output of Model 1. Remember, while the Wald test indicates the overall significance of the model, it's also important to consider the theoretical and practical relevance of each variable included in the model.\n",
    "\n",
    "LM test results: Since the p-value is quite high (0.8369, much greater than the typical significance level of 0.05), it suggests that the null hypothesis cannot be rejected. In other words, the additional variables in Model 2 do not significantly improve the model's fit compared to Model 1.\n",
    "\n",
    "-> Our model OLS_2018 is okay:)"
   ]
  },
  {
   "cell_type": "code",
   "execution_count": 139,
   "id": "19b0f046-b004-4d60-83c5-abf3f4514d0d",
   "metadata": {},
   "outputs": [],
   "source": [
    "### OLS: Finding right variables using VIF and 10 threshold"
   ]
  },
  {
   "cell_type": "code",
   "execution_count": 140,
   "id": "457e20a2-8778-4175-9998-6a51fa2f73fd",
   "metadata": {},
   "outputs": [
    {
     "name": "stderr",
     "output_type": "stream",
     "text": [
      "also installing the dependencies 'RcppEigen', 'lme4'\n",
      "\n"
     ]
    },
    {
     "name": "stdout",
     "output_type": "stream",
     "text": [
      "\n",
      "  There are binary versions available but the source versions are later:\n",
      "             binary    source needs_compilation\n",
      "RcppEigen 0.3.3.9.1 0.3.3.9.4              TRUE\n",
      "lme4         1.1-26  1.1-35.1              TRUE\n",
      "car          3.0-10     3.1-2             FALSE\n",
      "\n",
      "  Binaries will be installed\n",
      "package 'RcppEigen' successfully unpacked and MD5 sums checked\n",
      "package 'lme4' successfully unpacked and MD5 sums checked\n",
      "\n",
      "The downloaded binary packages are in\n",
      "\tC:\\Users\\Terstudy\\AppData\\Local\\Temp\\Rtmpg9pqN8\\downloaded_packages\n"
     ]
    },
    {
     "name": "stderr",
     "output_type": "stream",
     "text": [
      "installing the source package 'car'\n",
      "\n"
     ]
    }
   ],
   "source": [
    "# Install and load car package\n",
    "install.packages(\"car\")\n",
    "library(car)"
   ]
  },
  {
   "cell_type": "code",
   "execution_count": 141,
   "id": "d11028ad-f07b-432f-a865-dda06c9cc2a2",
   "metadata": {},
   "outputs": [
    {
     "name": "stdout",
     "output_type": "stream",
     "text": [
      "                             educ_exp                 mortality_rate_infant \n",
      "                             3.036804                              5.519385 \n",
      "                           gini_index                    gdp_per_capita_ppp \n",
      "                             4.718928                              1.994545 \n",
      "            inflation_consumer_prices                          unemployment \n",
      "                             2.391045                              2.282011 \n",
      "        gross_fixed_capital_formation                    population_density \n",
      "                             2.031953                              1.492868 \n",
      "          log(suicide_mortality_rate)                      log(tax_revenue) \n",
      "                             2.572587                              1.721069 \n",
      "      taxes_on_income_profits_capital government_health_expenditure_pct_gdp \n",
      "                             2.285328                              2.452992 \n",
      "           urban_population_pct_total \n",
      "                             2.800594 \n"
     ]
    }
   ],
   "source": [
    "ols_2018a <- lm(rating ~ educ_exp  + mortality_rate_infant+\tgini_index + gdp_per_capita_ppp +\tinflation_consumer_prices + unemployment + \n",
    "               +gross_fixed_capital_formation +\tpopulation_density\t+log(suicide_mortality_rate)+log(tax_revenue)+\ttaxes_on_income_profits_capital\n",
    "               + government_health_expenditure_pct_gdp + urban_population_pct_total, data = data_2018)\n",
    "vif_values <- vif(ols_2018a)\n",
    "print(vif_values)\n",
    "# everything is bellow 10, so no worries\n"
   ]
  },
  {
   "cell_type": "markdown",
   "id": "259efa74-8dec-48c8-af32-ac9b9f9f4849",
   "metadata": {},
   "source": [
    "##  checking the assumptions for OLS method in model ols_2018"
   ]
  },
  {
   "cell_type": "code",
   "execution_count": 142,
   "id": "c30d2ce0-f30c-4146-894a-47e5265cf77b",
   "metadata": {},
   "outputs": [
    {
     "data": {
      "image/png": "[encoded data removed]",
      "text/plain": [
       "plot without title"
      ]
     },
     "metadata": {},
     "output_type": "display_data"
    }
   ],
   "source": [
    "#Linearity: Check that the relationship between the predictors and the response variable is linear.\n",
    "#This can be done using component-plus-residual plots (also known as partial residual plots).\n",
    "crPlots(ols_2018)\n",
    "#seems relatively okay, inflation doinf the worst, maybye use R squared??"
   ]
  },
  {
   "cell_type": "code",
   "execution_count": 143,
   "id": "da36c2f9-ebb8-43e4-b66d-b97e34924ee4",
   "metadata": {},
   "outputs": [
    {
     "data": {
      "text/plain": [
       "\n",
       "\tstudentized Breusch-Pagan test\n",
       "\n",
       "data:  ols_2018\n",
       "BP = 4.671, df = 7, p-value = 0.7\n"
      ]
     },
     "metadata": {},
     "output_type": "display_data"
    },
    {
     "data": {
      "image/png": "[encoded data removed]",
      "text/plain": [
       "plot without title"
      ]
     },
     "metadata": {},
     "output_type": "display_data"
    }
   ],
   "source": [
    "#Homoscedasticity: Check for constant variance of residuals. Use Breusch-Pagan test and plot residuals vs. fitted values.\n",
    "bptest(ols_2018)\n",
    "\n",
    "plot(ols_2018$fitted.values, residuals(ols_2018), xlab = \"Fitted Values\", ylab = \"Residuals\")\n",
    "abline(h = 0, col = \"red\")\n",
    "#no heteroscedasticity found!!"
   ]
  },
  {
   "cell_type": "code",
   "execution_count": 144,
   "id": "5bad2e44-faf5-4cb1-b394-8a29782c1971",
   "metadata": {},
   "outputs": [
    {
     "data": {
      "text/plain": [
       "\n",
       "\tShapiro-Wilk normality test\n",
       "\n",
       "data:  residuals(ols_2018)\n",
       "W = 0.9844, p-value = 0.8636\n"
      ]
     },
     "metadata": {},
     "output_type": "display_data"
    },
    {
     "data": {
      "image/png": "[encoded data removed]",
      "text/plain": [
       "Plot with title \"Normal Q-Q Plot\""
      ]
     },
     "metadata": {},
     "output_type": "display_data"
    }
   ],
   "source": [
    "#Normality of Residuals: Test if residuals are normally distributed. Use Shapiro-Wilk test and Q-Q plot.\n",
    "shapiro.test(residuals(ols_2018))\n",
    "# high p-value indicates that there is not enough evidence to reject the null hypothesis of normality! Nice, we have normality\n",
    "\n",
    "qqnorm(residuals(ols_2018))\n",
    "qqline(residuals(ols_2018))"
   ]
  },
  {
   "cell_type": "code",
   "execution_count": 145,
   "id": "66083fd6-226b-4fe7-b37e-9a92111651d2",
   "metadata": {},
   "outputs": [
    {
     "data": {
      "text/html": [
       "<dl class=dl-horizontal>\n",
       "\t<dt>mortality_rate_infant</dt>\n",
       "\t\t<dd>4.35790260766924</dd>\n",
       "\t<dt>gini_index</dt>\n",
       "\t\t<dd>3.79225046453212</dd>\n",
       "\t<dt>inflation_consumer_prices</dt>\n",
       "\t\t<dd>1.57880891745758</dd>\n",
       "\t<dt>population_density</dt>\n",
       "\t\t<dd>1.05366136582044</dd>\n",
       "\t<dt>log(suicide_mortality_rate)</dt>\n",
       "\t\t<dd>1.99825477500333</dd>\n",
       "\t<dt>log(tax_revenue)</dt>\n",
       "\t\t<dd>1.4028591383204</dd>\n",
       "\t<dt>taxes_on_income_profits_capital</dt>\n",
       "\t\t<dd>1.06593492220893</dd>\n",
       "</dl>\n"
      ],
      "text/latex": [
       "\\begin{description*}\n",
       "\\item[mortality\\textbackslash{}\\_rate\\textbackslash{}\\_infant] 4.35790260766924\n",
       "\\item[gini\\textbackslash{}\\_index] 3.79225046453212\n",
       "\\item[inflation\\textbackslash{}\\_consumer\\textbackslash{}\\_prices] 1.57880891745758\n",
       "\\item[population\\textbackslash{}\\_density] 1.05366136582044\n",
       "\\item[log(suicide\\textbackslash{}\\_mortality\\textbackslash{}\\_rate)] 1.99825477500333\n",
       "\\item[log(tax\\textbackslash{}\\_revenue)] 1.4028591383204\n",
       "\\item[taxes\\textbackslash{}\\_on\\textbackslash{}\\_income\\textbackslash{}\\_profits\\textbackslash{}\\_capital] 1.06593492220893\n",
       "\\end{description*}\n"
      ],
      "text/markdown": [
       "mortality_rate_infant\n",
       ":   4.35790260766924gini_index\n",
       ":   3.79225046453212inflation_consumer_prices\n",
       ":   1.57880891745758population_density\n",
       ":   1.05366136582044log(suicide_mortality_rate)\n",
       ":   1.99825477500333log(tax_revenue)\n",
       ":   1.4028591383204taxes_on_income_profits_capital\n",
       ":   1.06593492220893\n",
       "\n"
      ],
      "text/plain": [
       "          mortality_rate_infant                      gini_index \n",
       "                       4.357903                        3.792250 \n",
       "      inflation_consumer_prices              population_density \n",
       "                       1.578809                        1.053661 \n",
       "    log(suicide_mortality_rate)                log(tax_revenue) \n",
       "                       1.998255                        1.402859 \n",
       "taxes_on_income_profits_capital \n",
       "                       1.065935 "
      ]
     },
     "metadata": {},
     "output_type": "display_data"
    }
   ],
   "source": [
    "#Multicollinearity: Check for multicollinearity using Variance Inflation Factor (VIF).\n",
    "vif(ols_2018)\n",
    "# less than 10, seems OK!"
   ]
  },
  {
   "cell_type": "code",
   "execution_count": 146,
   "id": "faa2ad9d-2df2-4bc2-9b18-162c6e132543",
   "metadata": {},
   "outputs": [
    {
     "data": {
      "image/png": "[encoded data removed]",
      "text/plain": [
       "Plot with title \"\""
      ]
     },
     "metadata": {},
     "output_type": "display_data"
    }
   ],
   "source": [
    "#Additional Plot for Diagnostics: A useful additional plot is the Residuals vs. Leverage plot to identify influential cases.\n",
    "plot(ols_2018, which = 5)\n",
    "# we do have some outliers, but we will keep them, as we have small sample and the value is not \"accidental\" for sure"
   ]
  },
  {
   "cell_type": "markdown",
   "id": "321ea7b5-9231-4943-973c-cae4020b04b2",
   "metadata": {},
   "source": [
    "Nice, it seems like there is no problem with our OLS regression! However, we will run regression in another year (2015) to check robustness of our findings."
   ]
  },
  {
   "cell_type": "markdown",
   "id": "ebf6c1e5-d360-4c33-b67d-ea35674fcc94",
   "metadata": {},
   "source": [
    "###  2015 data OLS for robustness "
   ]
  },
  {
   "cell_type": "code",
   "execution_count": 147,
   "id": "bebdb125-54aa-4778-a6e0-0c689d1b9bc9",
   "metadata": {},
   "outputs": [
    {
     "data": {
      "text/html": [
       "<table>\n",
       "<thead><tr><th></th><th scope=col>index_code</th><th scope=col>educ_exp</th><th scope=col>mortality_rate_infant</th><th scope=col>gini_index</th><th scope=col>gdp_per_capita_ppp</th><th scope=col>inflation_consumer_prices</th><th scope=col>intentional_homicides</th><th scope=col>unemployment</th><th scope=col>gross_fixed_capital_formation</th><th scope=col>population_density</th><th scope=col>suicide_mortality_rate</th><th scope=col>tax_revenue</th><th scope=col>taxes_on_income_profits_capital</th><th scope=col>alcohol_consumption_per_capita</th><th scope=col>government_health_expenditure_pct_gdp</th><th scope=col>urban_population_pct_total</th><th scope=col>country</th><th scope=col>time</th><th scope=col>sex</th><th scope=col>rating</th></tr></thead>\n",
       "<tbody>\n",
       "\t<tr><th scope=row>15</th><td>AUS-2015  </td><td>5.31552   </td><td> 3.3      </td><td>33.5      </td><td>46292.10  </td><td>1.5083667 </td><td> 0.9907542</td><td>6.055     </td><td>26.20234  </td><td>  3.100113</td><td>13.2      </td><td>21.86642  </td><td>64.89343  </td><td>10.39030  </td><td>7.234067  </td><td>85.701    </td><td>AUS       </td><td>2015      </td><td>TOT       </td><td>494       </td></tr>\n",
       "\t<tr><th scope=row>30</th><td>AUT-2015  </td><td>5.45658   </td><td> 3.0      </td><td>30.5      </td><td>49865.90  </td><td>0.8965633 </td><td> 0.5091166</td><td>5.802     </td><td>22.69671  </td><td>104.734598</td><td>16.0      </td><td>26.82617  </td><td>28.70780  </td><td>12.19174  </td><td>7.511853  </td><td>57.715    </td><td>AUT       </td><td>2015      </td><td>TOT       </td><td>497       </td></tr>\n",
       "\t<tr><th scope=row>48</th><td>BEL-2015  </td><td>6.45157   </td><td> 3.4      </td><td>27.7      </td><td>46200.90  </td><td>0.5614292 </td><td>        NA</td><td>8.482     </td><td>22.96342  </td><td>372.331440</td><td>18.6      </td><td>24.35454  </td><td>34.68078  </td><td>11.23620  </td><td>8.262136  </td><td>97.876    </td><td>BEL       </td><td>2015      </td><td>TOT       </td><td>507       </td></tr>\n",
       "\t<tr><th scope=row>66</th><td>CAN-2015  </td><td>4.73938   </td><td> 4.7      </td><td>33.7      </td><td>44670.08  </td><td>1.1252414 </td><td> 1.7099458</td><td>6.945     </td><td>23.85058  </td><td>  3.982215</td><td>13.0      </td><td>12.38981  </td><td>54.01114  </td><td> 9.91687  </td><td>7.591099  </td><td>81.259    </td><td>CAN       </td><td>2015      </td><td>TOT       </td><td>516       </td></tr>\n",
       "\t<tr><th scope=row>81</th><td>CHL-2015  </td><td>4.90390   </td><td> 6.8      </td><td>44.4      </td><td>22691.49  </td><td>4.3487735 </td><td> 2.3446955</td><td>6.491     </td><td>25.47037  </td><td> 24.034102</td><td>10.0      </td><td>17.54608  </td><td>29.82996  </td><td> 7.75342  </td><td>3.986681  </td><td>87.360    </td><td>CHL       </td><td>2015      </td><td>TOT       </td><td>423       </td></tr>\n",
       "\t<tr><th scope=row>85</th><td>COL-2015  </td><td>4.47039   </td><td>13.4      </td><td>51.0      </td><td>13378.68  </td><td>4.9898312 </td><td>27.1287644</td><td>8.572     </td><td>23.37478  </td><td> 42.469336</td><td> 4.1      </td><td>15.79726  </td><td>24.96492  </td><td> 5.01742  </td><td>5.328892  </td><td>79.764    </td><td>COL       </td><td>2015      </td><td>TOT       </td><td>390       </td></tr>\n",
       "</tbody>\n",
       "</table>\n"
      ],
      "text/latex": [
       "\\begin{tabular}{r|llllllllllllllllllll}\n",
       "  & index\\_code & educ\\_exp & mortality\\_rate\\_infant & gini\\_index & gdp\\_per\\_capita\\_ppp & inflation\\_consumer\\_prices & intentional\\_homicides & unemployment & gross\\_fixed\\_capital\\_formation & population\\_density & suicide\\_mortality\\_rate & tax\\_revenue & taxes\\_on\\_income\\_profits\\_capital & alcohol\\_consumption\\_per\\_capita & government\\_health\\_expenditure\\_pct\\_gdp & urban\\_population\\_pct\\_total & country & time & sex & rating\\\\\n",
       "\\hline\n",
       "\t15 & AUS-2015   & 5.31552    &  3.3       & 33.5       & 46292.10   & 1.5083667  &  0.9907542 & 6.055      & 26.20234   &   3.100113 & 13.2       & 21.86642   & 64.89343   & 10.39030   & 7.234067   & 85.701     & AUS        & 2015       & TOT        & 494       \\\\\n",
       "\t30 & AUT-2015   & 5.45658    &  3.0       & 30.5       & 49865.90   & 0.8965633  &  0.5091166 & 5.802      & 22.69671   & 104.734598 & 16.0       & 26.82617   & 28.70780   & 12.19174   & 7.511853   & 57.715     & AUT        & 2015       & TOT        & 497       \\\\\n",
       "\t48 & BEL-2015   & 6.45157    &  3.4       & 27.7       & 46200.90   & 0.5614292  &         NA & 8.482      & 22.96342   & 372.331440 & 18.6       & 24.35454   & 34.68078   & 11.23620   & 8.262136   & 97.876     & BEL        & 2015       & TOT        & 507       \\\\\n",
       "\t66 & CAN-2015   & 4.73938    &  4.7       & 33.7       & 44670.08   & 1.1252414  &  1.7099458 & 6.945      & 23.85058   &   3.982215 & 13.0       & 12.38981   & 54.01114   &  9.91687   & 7.591099   & 81.259     & CAN        & 2015       & TOT        & 516       \\\\\n",
       "\t81 & CHL-2015   & 4.90390    &  6.8       & 44.4       & 22691.49   & 4.3487735  &  2.3446955 & 6.491      & 25.47037   &  24.034102 & 10.0       & 17.54608   & 29.82996   &  7.75342   & 3.986681   & 87.360     & CHL        & 2015       & TOT        & 423       \\\\\n",
       "\t85 & COL-2015   & 4.47039    & 13.4       & 51.0       & 13378.68   & 4.9898312  & 27.1287644 & 8.572      & 23.37478   &  42.469336 &  4.1       & 15.79726   & 24.96492   &  5.01742   & 5.328892   & 79.764     & COL        & 2015       & TOT        & 390       \\\\\n",
       "\\end{tabular}\n"
      ],
      "text/markdown": [
       "\n",
       "| <!--/--> | index_code | educ_exp | mortality_rate_infant | gini_index | gdp_per_capita_ppp | inflation_consumer_prices | intentional_homicides | unemployment | gross_fixed_capital_formation | population_density | suicide_mortality_rate | tax_revenue | taxes_on_income_profits_capital | alcohol_consumption_per_capita | government_health_expenditure_pct_gdp | urban_population_pct_total | country | time | sex | rating |\n",
       "|---|---|---|---|---|---|---|---|---|---|---|---|---|---|---|---|---|---|---|---|---|\n",
       "| 15 | AUS-2015   | 5.31552    |  3.3       | 33.5       | 46292.10   | 1.5083667  |  0.9907542 | 6.055      | 26.20234   |   3.100113 | 13.2       | 21.86642   | 64.89343   | 10.39030   | 7.234067   | 85.701     | AUS        | 2015       | TOT        | 494        |\n",
       "| 30 | AUT-2015   | 5.45658    |  3.0       | 30.5       | 49865.90   | 0.8965633  |  0.5091166 | 5.802      | 22.69671   | 104.734598 | 16.0       | 26.82617   | 28.70780   | 12.19174   | 7.511853   | 57.715     | AUT        | 2015       | TOT        | 497        |\n",
       "| 48 | BEL-2015   | 6.45157    |  3.4       | 27.7       | 46200.90   | 0.5614292  |         NA | 8.482      | 22.96342   | 372.331440 | 18.6       | 24.35454   | 34.68078   | 11.23620   | 8.262136   | 97.876     | BEL        | 2015       | TOT        | 507        |\n",
       "| 66 | CAN-2015   | 4.73938    |  4.7       | 33.7       | 44670.08   | 1.1252414  |  1.7099458 | 6.945      | 23.85058   |   3.982215 | 13.0       | 12.38981   | 54.01114   |  9.91687   | 7.591099   | 81.259     | CAN        | 2015       | TOT        | 516        |\n",
       "| 81 | CHL-2015   | 4.90390    |  6.8       | 44.4       | 22691.49   | 4.3487735  |  2.3446955 | 6.491      | 25.47037   |  24.034102 | 10.0       | 17.54608   | 29.82996   |  7.75342   | 3.986681   | 87.360     | CHL        | 2015       | TOT        | 423        |\n",
       "| 85 | COL-2015   | 4.47039    | 13.4       | 51.0       | 13378.68   | 4.9898312  | 27.1287644 | 8.572      | 23.37478   |  42.469336 |  4.1       | 15.79726   | 24.96492   |  5.01742   | 5.328892   | 79.764     | COL        | 2015       | TOT        | 390        |\n",
       "\n"
      ],
      "text/plain": [
       "   index_code educ_exp mortality_rate_infant gini_index gdp_per_capita_ppp\n",
       "15 AUS-2015   5.31552   3.3                  33.5       46292.10          \n",
       "30 AUT-2015   5.45658   3.0                  30.5       49865.90          \n",
       "48 BEL-2015   6.45157   3.4                  27.7       46200.90          \n",
       "66 CAN-2015   4.73938   4.7                  33.7       44670.08          \n",
       "81 CHL-2015   4.90390   6.8                  44.4       22691.49          \n",
       "85 COL-2015   4.47039  13.4                  51.0       13378.68          \n",
       "   inflation_consumer_prices intentional_homicides unemployment\n",
       "15 1.5083667                  0.9907542            6.055       \n",
       "30 0.8965633                  0.5091166            5.802       \n",
       "48 0.5614292                         NA            8.482       \n",
       "66 1.1252414                  1.7099458            6.945       \n",
       "81 4.3487735                  2.3446955            6.491       \n",
       "85 4.9898312                 27.1287644            8.572       \n",
       "   gross_fixed_capital_formation population_density suicide_mortality_rate\n",
       "15 26.20234                        3.100113         13.2                  \n",
       "30 22.69671                      104.734598         16.0                  \n",
       "48 22.96342                      372.331440         18.6                  \n",
       "66 23.85058                        3.982215         13.0                  \n",
       "81 25.47037                       24.034102         10.0                  \n",
       "85 23.37478                       42.469336          4.1                  \n",
       "   tax_revenue taxes_on_income_profits_capital alcohol_consumption_per_capita\n",
       "15 21.86642    64.89343                        10.39030                      \n",
       "30 26.82617    28.70780                        12.19174                      \n",
       "48 24.35454    34.68078                        11.23620                      \n",
       "66 12.38981    54.01114                         9.91687                      \n",
       "81 17.54608    29.82996                         7.75342                      \n",
       "85 15.79726    24.96492                         5.01742                      \n",
       "   government_health_expenditure_pct_gdp urban_population_pct_total country\n",
       "15 7.234067                              85.701                     AUS    \n",
       "30 7.511853                              57.715                     AUT    \n",
       "48 8.262136                              97.876                     BEL    \n",
       "66 7.591099                              81.259                     CAN    \n",
       "81 3.986681                              87.360                     CHL    \n",
       "85 5.328892                              79.764                     COL    \n",
       "   time sex rating\n",
       "15 2015 TOT 494   \n",
       "30 2015 TOT 497   \n",
       "48 2015 TOT 507   \n",
       "66 2015 TOT 516   \n",
       "81 2015 TOT 423   \n",
       "85 2015 TOT 390   "
      ]
     },
     "metadata": {},
     "output_type": "display_data"
    }
   ],
   "source": [
    "data_2015 <- subset(data_f, time==\"2015\")\n",
    "head(data_2015)"
   ]
  },
  {
   "cell_type": "code",
   "execution_count": 148,
   "id": "eea73a8a-fa70-45b5-a39b-c78cdc72fb4b",
   "metadata": {},
   "outputs": [
    {
     "name": "stdout",
     "output_type": "stream",
     "text": [
      "[1] 37 20\n",
      "[1] 37\n"
     ]
    }
   ],
   "source": [
    "dims <- dim(data_2015)\n",
    "print(dims)\n",
    "\n",
    "print(nrow(data_2015))"
   ]
  },
  {
   "cell_type": "code",
   "execution_count": 149,
   "id": "ec148867-503d-457f-875f-7a2c34595b8b",
   "metadata": {},
   "outputs": [
    {
     "data": {
      "text/plain": [
       "\n",
       "Call:\n",
       "lm(formula = rating ~ mortality_rate_infant + gini_index + inflation_consumer_prices + \n",
       "    +population_density + log(suicide_mortality_rate) + log(tax_revenue) + \n",
       "    taxes_on_income_profits_capital, data = data_2015)\n",
       "\n",
       "Residuals:\n",
       "    Min      1Q  Median      3Q     Max \n",
       "-20.140  -7.112   2.105   6.516  27.275 \n",
       "\n",
       "Coefficients:\n",
       "                                 Estimate Std. Error t value Pr(>|t|)    \n",
       "(Intercept)                     600.77636   43.67041  13.757 5.56e-14 ***\n",
       "mortality_rate_infant            -4.91662    1.52565  -3.223  0.00322 ** \n",
       "gini_index                       -2.21116    0.65609  -3.370  0.00221 ** \n",
       "inflation_consumer_prices        -1.43943    1.55478  -0.926  0.36246    \n",
       "population_density                0.02814    0.01610   1.748  0.09140 .  \n",
       "log(suicide_mortality_rate)       7.63819    5.80805   1.315  0.19914    \n",
       "log(tax_revenue)                -18.33021    8.16548  -2.245  0.03286 *  \n",
       "taxes_on_income_profits_capital   0.46611    0.16331   2.854  0.00803 ** \n",
       "---\n",
       "Signif. codes:  0 '***' 0.001 '**' 0.01 '*' 0.05 '.' 0.1 ' ' 1\n",
       "\n",
       "Residual standard error: 12.41 on 28 degrees of freedom\n",
       "  (1 observation deleted due to missingness)\n",
       "Multiple R-squared:  0.9072,\tAdjusted R-squared:  0.884 \n",
       "F-statistic: 39.11 on 7 and 28 DF,  p-value: 8.252e-13\n"
      ]
     },
     "metadata": {},
     "output_type": "display_data"
    }
   ],
   "source": [
    "#simple  OLS but from 2015\n",
    "ols_2015 <- lm(rating ~ mortality_rate_infant+\tgini_index + inflation_consumer_prices + \n",
    "               +population_density\t+log(suicide_mortality_rate)+\tlog(tax_revenue) + taxes_on_income_profits_capital, data = data_2015)\n",
    "# Get the summary of the model\n",
    "summary(ols_2015)\n",
    "#seems relatively similar, also check conditions later"
   ]
  },
  {
   "cell_type": "code",
   "execution_count": 150,
   "id": "8a42a35d-93d6-4320-bb5e-d6c2b9c5cbfd",
   "metadata": {},
   "outputs": [
    {
     "data": {
      "image/png": "[encoded data removed]",
      "text/plain": [
       "plot without title"
      ]
     },
     "metadata": {},
     "output_type": "display_data"
    }
   ],
   "source": [
    "crPlots(ols_2015)"
   ]
  },
  {
   "cell_type": "code",
   "execution_count": 151,
   "id": "c1e452c2-5b2f-4f17-9792-fdcad5a69440",
   "metadata": {},
   "outputs": [
    {
     "name": "stdout",
     "output_type": "stream",
     "text": [
      "          mortality_rate_infant                      gini_index \n",
      "                       5.747432                        4.419955 \n",
      "      inflation_consumer_prices              population_density \n",
      "                       2.816829                        1.080002 \n",
      "    log(suicide_mortality_rate)                log(tax_revenue) \n",
      "                       2.108238                        1.373241 \n",
      "taxes_on_income_profits_capital \n",
      "                       1.063425 \n"
     ]
    }
   ],
   "source": [
    "vif_values2015 <- vif(ols_2015)\n",
    "print(vif_values2015)"
   ]
  },
  {
   "cell_type": "code",
   "execution_count": 152,
   "id": "611a837c-02d1-4801-a960-9cb88093fb45",
   "metadata": {},
   "outputs": [
    {
     "data": {
      "text/plain": [
       "\n",
       "\tstudentized Breusch-Pagan test\n",
       "\n",
       "data:  ols_2015\n",
       "BP = 4.3522, df = 7, p-value = 0.7384\n"
      ]
     },
     "metadata": {},
     "output_type": "display_data"
    },
    {
     "data": {
      "image/png": "[encoded data removed]",
      "text/plain": [
       "plot without title"
      ]
     },
     "metadata": {},
     "output_type": "display_data"
    }
   ],
   "source": [
    "#Homoscedasticity: Check for constant variance of residuals. Use Breusch-Pagan test and plot residuals vs. fitted values.\n",
    "bptest(ols_2015)\n",
    "\n",
    "plot(ols_2015$fitted.values, residuals(ols_2015), xlab = \"Fitted Values\", ylab = \"Residuals\")\n",
    "abline(h = 0, col = \"red\")"
   ]
  },
  {
   "cell_type": "code",
   "execution_count": 153,
   "id": "488744e2-c05f-41cd-b021-0958a590c918",
   "metadata": {},
   "outputs": [
    {
     "data": {
      "text/plain": [
       "\n",
       "\tShapiro-Wilk normality test\n",
       "\n",
       "data:  residuals(ols_2015)\n",
       "W = 0.96825, p-value = 0.3797\n"
      ]
     },
     "metadata": {},
     "output_type": "display_data"
    },
    {
     "data": {
      "image/png": "[encoded data removed]",
      "text/plain": [
       "Plot with title \"Normal Q-Q Plot\""
      ]
     },
     "metadata": {},
     "output_type": "display_data"
    }
   ],
   "source": [
    "#Normality of Residuals: Test if residuals are normally distributed. Use Shapiro-Wilk test and Q-Q plot.\n",
    "shapiro.test(residuals(ols_2015))\n",
    "# high p-value indicates that there is not enough evidence to reject the null hypothesis of normality! Nice, we have normality\n",
    "\n",
    "qqnorm(residuals(ols_2015))\n",
    "qqline(residuals(ols_2015))"
   ]
  },
  {
   "cell_type": "code",
   "execution_count": null,
   "id": "75073c4a-b8e9-4127-a21c-34115edf37df",
   "metadata": {},
   "outputs": [],
   "source": []
  },
  {
   "cell_type": "code",
   "execution_count": null,
   "id": "b01e233c-29d4-4585-94a2-848fd1a09499",
   "metadata": {},
   "outputs": [],
   "source": []
  },
  {
   "cell_type": "code",
   "execution_count": null,
   "id": "b299ccf5-e4e1-4ea5-b812-1a12a3597803",
   "metadata": {},
   "outputs": [],
   "source": []
  },
  {
   "cell_type": "code",
   "execution_count": null,
   "id": "08303ba0-59a1-48b1-8c81-f855bbbe0c05",
   "metadata": {},
   "outputs": [],
   "source": []
  },
  {
   "cell_type": "code",
   "execution_count": null,
   "id": "25d798cb-b7df-4ba4-a298-725dcc51b638",
   "metadata": {},
   "outputs": [],
   "source": []
  },
  {
   "cell_type": "markdown",
   "id": "9b1c133f-4ad1-46df-b270-aeb4487b5ade",
   "metadata": {},
   "source": [
    "### Bootstrap "
   ]
  },
  {
   "cell_type": "code",
   "execution_count": 40,
   "id": "7a79e754-4227-4a14-9a21-dba4a5b6e6a4",
   "metadata": {},
   "outputs": [
    {
     "name": "stderr",
     "output_type": "stream",
     "text": [
      "\n",
      "Attaching package: 'boot'\n",
      "\n",
      "The following object is masked from 'package:car':\n",
      "\n",
      "    logit\n",
      "\n"
     ]
    }
   ],
   "source": [
    "library(boot)"
   ]
  },
  {
   "cell_type": "code",
   "execution_count": 77,
   "id": "24ff5249-7f58-4043-a443-1d539d0395cc",
   "metadata": {},
   "outputs": [
    {
     "data": {
      "text/plain": [
       "\n",
       "ORDINARY NONPARAMETRIC BOOTSTRAP\n",
       "\n",
       "\n",
       "Call:\n",
       "boot(data = data_2018, statistic = boot_function, R = 1e+05)\n",
       "\n",
       "\n",
       "Bootstrap Statistics :\n",
       "        original        bias    std. error\n",
       "t1* 568.00841637 -1.9723239365  46.5271515\n",
       "t2*  -5.07480902  0.1482479860   1.8892671\n",
       "t3*  -2.67781268  0.0095812784   0.7557819\n",
       "t4*   3.11322926 -1.0616838522   2.8879968\n",
       "t5*   0.03781722 -0.0007776415   0.0157523\n",
       "t6*  16.06388201  0.5929726834   6.3457833\n",
       "t7* -12.33733779  0.7551311080   8.5453830\n",
       "t8*   0.47917727 -0.0136017795   0.1875499"
      ]
     },
     "metadata": {},
     "output_type": "display_data"
    }
   ],
   "source": [
    "# given our small sample size, it might be convenient to use bootstrap as an alternative to OLS\n",
    "\n",
    "# Function to obtain regression coefficients\n",
    "boot_function <- function(data, indices) {\n",
    "  boot_data <- data[indices, ] # Resampling with replacement\n",
    "  model <- lm(rating ~ mortality_rate_infant + gini_index + inflation_consumer_prices + \n",
    "                population_density + log(suicide_mortality_rate) + log(tax_revenue) +\n",
    "                taxes_on_income_profits_capital, data = boot_data)\n",
    "  return(coef(model))\n",
    "}\n",
    "\n",
    "# Perform bootstrap\n",
    "set.seed(123) # For reproducibility\n",
    "boot_results_2018 <- boot(data = data_2018, statistic = boot_function, R = 100000)\n",
    "\n",
    "# Summarize results - 100k repetitions!!\n",
    "boot_results_2018\n"
   ]
  },
  {
   "cell_type": "markdown",
   "id": "a43b92a4-b48d-4a98-bbd9-d0c03b39a232",
   "metadata": {},
   "source": [
    "### doing LAD - good for smaller sample - more robust to outliers"
   ]
  },
  {
   "cell_type": "code",
   "execution_count": 97,
   "id": "a4376445-05c7-47cf-81c7-cfe5c0946af9",
   "metadata": {},
   "outputs": [],
   "source": [
    "library(\"quantreg\")\n",
    "#library(\"repr\")"
   ]
  },
  {
   "cell_type": "code",
   "execution_count": 99,
   "id": "c8a1844d-3a23-4d72-a294-0304798bea56",
   "metadata": {},
   "outputs": [
    {
     "name": "stdout",
     "output_type": "stream",
     "text": [
      "Call:\n",
      "rq(formula = rating ~ mortality_rate_infant + gini_index + inflation_consumer_prices + \n",
      "    +population_density + log(suicide_mortality_rate) + log(tax_revenue) + \n",
      "    taxes_on_income_profits_capital, tau = seq(0.05, 0.95, by = 0.05), \n",
      "    data = data_2018)\n",
      "\n",
      "Coefficients:\n",
      "                                   tau= 0.05    tau= 0.10    tau= 0.15\n",
      "(Intercept)                     552.77168882 554.91419706 554.24033660\n",
      "mortality_rate_infant            -6.24270487  -5.22826471  -5.29014738\n",
      "gini_index                       -2.99321912  -2.83260998  -2.82021557\n",
      "inflation_consumer_prices         4.32490424   3.82817049   3.84953771\n",
      "population_density                0.05090579   0.04349391   0.04061554\n",
      "log(suicide_mortality_rate)       7.43403306   8.76314863   8.94563029\n",
      "log(tax_revenue)                 -2.58665129  -7.10830732  -7.35038344\n",
      "taxes_on_income_profits_capital   0.47730528   0.60483193   0.66774175\n",
      "                                   tau= 0.20    tau= 0.25    tau= 0.30\n",
      "(Intercept)                     526.77229460 578.60967689 592.03611688\n",
      "mortality_rate_infant            -5.03975139  -6.02282322  -5.59416459\n",
      "gini_index                       -2.15054462  -2.11927214  -2.51008248\n",
      "inflation_consumer_prices         3.67966813   3.42848411   3.46674141\n",
      "population_density                0.03368767   0.04302915   0.06069707\n",
      "log(suicide_mortality_rate)      15.03313709  11.49771214  12.19572936\n",
      "log(tax_revenue)                 -7.92902625 -21.52441785 -23.14044693\n",
      "taxes_on_income_profits_capital   0.52251636   0.55810865   0.58570421\n",
      "                                   tau= 0.35    tau= 0.40    tau= 0.45\n",
      "(Intercept)                     595.59123979 585.54516553 540.38707132\n",
      "mortality_rate_infant            -5.33227786  -5.94250980  -5.62828100\n",
      "gini_index                       -2.78186704  -2.59884843  -2.17548818\n",
      "inflation_consumer_prices         3.48077808   3.03369749   2.75941413\n",
      "population_density                0.05831782   0.05725661   0.05071079\n",
      "log(suicide_mortality_rate)      12.22704650   8.95449963  11.44973132\n",
      "log(tax_revenue)                -21.58063311 -15.47663396  -5.32673611\n",
      "taxes_on_income_profits_capital   0.63614257   0.67447212   0.60755109\n",
      "                                   tau= 0.50    tau= 0.55    tau= 0.60\n",
      "(Intercept)                     556.01462037 551.71785303 550.12190912\n",
      "mortality_rate_infant            -4.63331416  -4.53493850  -4.55683245\n",
      "gini_index                       -2.65156268  -2.67399065  -2.67610173\n",
      "inflation_consumer_prices         2.80743685   2.84695139   2.83919607\n",
      "population_density                0.04274119   0.03971469   0.03872835\n",
      "log(suicide_mortality_rate)      14.23554093  15.29003172  15.38240401\n",
      "log(tax_revenue)                 -7.20227924  -5.96399453  -5.24004956\n",
      "taxes_on_income_profits_capital   0.51698551   0.49631194   0.49514247\n",
      "                                   tau= 0.65    tau= 0.70    tau= 0.75\n",
      "(Intercept)                     532.23435618 543.53192195 585.29719532\n",
      "mortality_rate_infant            -5.60941278  -5.75610834  -5.38951294\n",
      "gini_index                       -2.19945094  -2.21423605  -2.62903280\n",
      "inflation_consumer_prices         2.82552711   2.77056788   2.40378175\n",
      "population_density                0.03986901   0.03909301   0.03277272\n",
      "log(suicide_mortality_rate)      15.01010433  14.96549799  12.22793121\n",
      "log(tax_revenue)                 -2.16257788  -4.53985834 -11.01926690\n",
      "taxes_on_income_profits_capital   0.45609799   0.37655406   0.35799129\n",
      "                                   tau= 0.80    tau= 0.85    tau= 0.90\n",
      "(Intercept)                     637.22262537 637.00154027 657.12924936\n",
      "mortality_rate_infant            -5.07459064  -5.05405785  -2.93069889\n",
      "gini_index                       -3.27108558  -3.28384181  -4.32923371\n",
      "inflation_consumer_prices         2.18254655   2.19264960   1.79986561\n",
      "population_density                0.01179806   0.01132316   0.01226368\n",
      "log(suicide_mortality_rate)      13.81644309  13.92549194  13.23863058\n",
      "log(tax_revenue)                -17.51998552 -17.45513780 -13.69556341\n",
      "taxes_on_income_profits_capital   0.10513949   0.11425367   0.13059432\n",
      "                                   tau= 0.95\n",
      "(Intercept)                     612.66907038\n",
      "mortality_rate_infant            -1.78206045\n",
      "gini_index                       -4.50852915\n",
      "inflation_consumer_prices         2.36831794\n",
      "population_density                0.04388231\n",
      "log(suicide_mortality_rate)      20.53570418\n",
      "log(tax_revenue)                 -6.62348173\n",
      "taxes_on_income_profits_capital   0.26243639\n",
      "\n",
      "Degrees of freedom: 38 total; 30 residual\n"
     ]
    }
   ],
   "source": [
    "quantile_2018 <- rq(rating ~ mortality_rate_infant+\tgini_index + inflation_consumer_prices + \n",
    "               +population_density\t+log(suicide_mortality_rate)+\tlog(tax_revenue) \n",
    "                    + taxes_on_income_profits_capital, data = data_2018, tau=seq(0.05, 0.95, by=0.05))\n",
    "print(quantile_2018)\n"
   ]
  },
  {
   "cell_type": "code",
   "execution_count": 115,
   "id": "82282070-c6a7-44a7-9ebc-28566c78839f",
   "metadata": {},
   "outputs": [
    {
     "name": "stdout",
     "output_type": "stream",
     "text": [
      "\n",
      "Call: rq(formula = rating ~ mortality_rate_infant + gini_index + inflation_consumer_prices + \n",
      "    population_density + log(suicide_mortality_rate) + log(tax_revenue) + \n",
      "    taxes_on_income_profits_capital, tau = 0.5, data = data_2018)\n",
      "\n",
      "tau: [1] 0.5\n",
      "\n",
      "Coefficients:\n",
      "                                coefficients lower bd  upper bd \n",
      "(Intercept)                     556.01462    479.61178 624.53640\n",
      "mortality_rate_infant            -4.63331     -8.18318  -1.26430\n",
      "gini_index                       -2.65156     -4.41404  -0.99417\n",
      "inflation_consumer_prices         2.80744    -10.13056   9.49112\n",
      "population_density                0.04274     -0.00759   0.06701\n",
      "log(suicide_mortality_rate)      14.23554      6.02422  29.99336\n",
      "log(tax_revenue)                 -7.20228    -19.68188   8.43182\n",
      "taxes_on_income_profits_capital   0.51699      0.18446   0.89771\n"
     ]
    },
    {
     "data": {
      "text/plain": [
       "\n",
       "Call: rq(formula = rating ~ mortality_rate_infant + gini_index + inflation_consumer_prices + \n",
       "    population_density + log(suicide_mortality_rate) + log(tax_revenue) + \n",
       "    taxes_on_income_profits_capital, tau = 0.5, data = data_2018)\n",
       "\n",
       "tau: [1] 0.5\n",
       "\n",
       "Coefficients:\n",
       "                                coefficients lower bd  upper bd \n",
       "(Intercept)                     556.01462    479.61178 624.53640\n",
       "mortality_rate_infant            -4.63331     -8.18318  -1.26430\n",
       "gini_index                       -2.65156     -4.41404  -0.99417\n",
       "inflation_consumer_prices         2.80744    -10.13056   9.49112\n",
       "population_density                0.04274     -0.00759   0.06701\n",
       "log(suicide_mortality_rate)      14.23554      6.02422  29.99336\n",
       "log(tax_revenue)                 -7.20228    -19.68188   8.43182\n",
       "taxes_on_income_profits_capital   0.51699      0.18446   0.89771"
      ]
     },
     "metadata": {},
     "output_type": "display_data"
    }
   ],
   "source": [
    "# LAD regression using rq() from the quantreg package\n",
    "lad_model <- rq(rating ~ mortality_rate_infant + gini_index + inflation_consumer_prices + \n",
    "                population_density + log(suicide_mortality_rate) + log(tax_revenue) + \n",
    "                taxes_on_income_profits_capital, data = data_2018, tau = 0.5)\n",
    "\n",
    "# Print the LAD model summary\n",
    "lad_summary <- summary(lad_model)\n",
    "print(lad_summary)\n",
    "summary(lad_model)"
   ]
  },
  {
   "cell_type": "code",
   "execution_count": 116,
   "id": "57557f7a-701e-4883-a281-99cf887e456b",
   "metadata": {},
   "outputs": [
    {
     "name": "stdout",
     "output_type": "stream",
     "text": [
      "\n",
      "Call: rq(formula = rating ~ mortality_rate_infant + gini_index + inflation_consumer_prices + \n",
      "    population_density + log(suicide_mortality_rate) + log(tax_revenue) + \n",
      "    taxes_on_income_profits_capital, tau = 0.5, data = data_2018)\n",
      "\n",
      "tau: [1] 0.5\n",
      "\n",
      "Coefficients:\n",
      "                                Value     Std. Error t value   Pr(>|t|) \n",
      "(Intercept)                     556.01462  76.98493    7.22238   0.00000\n",
      "mortality_rate_infant            -4.63331   2.87957   -1.60903   0.11808\n",
      "gini_index                       -2.65156   1.37589   -1.92716   0.06348\n",
      "inflation_consumer_prices         2.80744   3.57796    0.78465   0.43881\n",
      "population_density                0.04274   0.02306    1.85344   0.07368\n",
      "log(suicide_mortality_rate)      14.23554   9.91766    1.43537   0.16153\n",
      "log(tax_revenue)                 -7.20228  13.90725   -0.51788   0.60834\n",
      "taxes_on_income_profits_capital   0.51699   0.26518    1.94957   0.06063\n"
     ]
    }
   ],
   "source": [
    "# Assuming lad_model is your LAD regression model fitted using rq()\n",
    "# Summary of the LAD model with bootstrap standard errors\n",
    "lad_summary <- summary(lad_model, se = \"boot\")\n",
    "\n",
    "# Print the summary to see coefficients, standard errors, and more\n",
    "print(lad_summary)\n"
   ]
  },
  {
   "cell_type": "code",
   "execution_count": 117,
   "id": "9f91af34-101e-4fe5-b24f-c163abc06d3b",
   "metadata": {},
   "outputs": [
    {
     "name": "stdout",
     "output_type": "stream",
     "text": [
      "\n",
      "Call: rq(formula = rating ~ mortality_rate_infant + gini_index + inflation_consumer_prices + \n",
      "    population_density + log(suicide_mortality_rate) + log(tax_revenue) + \n",
      "    taxes_on_income_profits_capital, tau = 0.5, data = data_2018)\n",
      "\n",
      "tau: [1] 0.5\n",
      "\n",
      "Coefficients:\n",
      "                                Value     Std. Error t value   Pr(>|t|) \n",
      "(Intercept)                     556.01462  69.97434    7.94598   0.00000\n",
      "mortality_rate_infant            -4.63331   3.05194   -1.51815   0.13944\n",
      "gini_index                       -2.65156   1.36012   -1.94950   0.06064\n",
      "inflation_consumer_prices         2.80744   4.06505    0.69063   0.49511\n",
      "population_density                0.04274   0.02936    1.45593   0.15580\n",
      "log(suicide_mortality_rate)      14.23554  10.59855    1.34316   0.18929\n",
      "log(tax_revenue)                 -7.20228  12.45074   -0.57846   0.56727\n",
      "taxes_on_income_profits_capital   0.51699   0.26752    1.93253   0.06278\n"
     ]
    }
   ],
   "source": [
    "# Summary of the LAD model with bootstrap standard errors explicitly requested\n",
    "lad_summary2 <- summary(lad_model, se = \"boot\", method = \"boot\")\n",
    "\n",
    "# Attempt to print the summary to see if standard errors are included\n",
    "print(lad_summary2)\n"
   ]
  },
  {
   "cell_type": "code",
   "execution_count": 123,
   "id": "54549035-32a0-41f2-9d84-a165f5fdbdbf",
   "metadata": {},
   "outputs": [
    {
     "name": "stdout",
     "output_type": "stream",
     "text": [
      "[1] -5.684342e-14\n",
      "[1] 3.541347e-17\n"
     ]
    }
   ],
   "source": [
    "# Check median/mean of residuals\n",
    "# Median/Mean of residuals\n",
    "print(median_residuals_lad <- median(resid(lad_model)))\n",
    "print(mean_residuals_ols <- mean(resid(ols_2018)))\n"
   ]
  },
  {
   "cell_type": "markdown",
   "id": "a8b9a8c2-5217-49b6-b95d-0be5828b16fe",
   "metadata": {},
   "source": [
    "##  Observing gender differences"
   ]
  },
  {
   "cell_type": "code",
   "execution_count": 154,
   "id": "b04eaf6b-6126-429d-9c24-dc7e797b9a64",
   "metadata": {},
   "outputs": [
    {
     "data": {
      "text/html": [
       "<table>\n",
       "<thead><tr><th></th><th scope=col>index_code</th><th scope=col>educ_exp</th><th scope=col>mortality_rate_infant</th><th scope=col>gini_index</th><th scope=col>gdp_per_capita_ppp</th><th scope=col>inflation_consumer_prices</th><th scope=col>intentional_homicides</th><th scope=col>unemployment</th><th scope=col>gross_fixed_capital_formation</th><th scope=col>population_density</th><th scope=col>...</th><th scope=col>tax_revenue</th><th scope=col>taxes_on_income_profits_capital</th><th scope=col>alcohol_consumption_per_capita</th><th scope=col>government_health_expenditure_pct_gdp</th><th scope=col>urban_population_pct_total</th><th scope=col>country</th><th scope=col>time</th><th scope=col>sex</th><th scope=col>rating</th><th scope=col>girl_dummy</th></tr></thead>\n",
       "<tbody>\n",
       "\t<tr><th scope=row>16</th><td>AUS-2018  </td><td>5.12431   </td><td>3.2       </td><td>34.3      </td><td>50251.34  </td><td>1.911401  </td><td>0.8847350 </td><td>5.300     </td><td>24.36526  </td><td>  3.245345</td><td>...       </td><td>23.17720  </td><td>65.16415  </td><td>NA        </td><td>7.203527  </td><td>86.012    </td><td>AUS       </td><td>2018      </td><td>BOY       </td><td>494       </td><td>0         </td></tr>\n",
       "\t<tr><th scope=row>17</th><td>AUS-2018  </td><td>5.12431   </td><td>3.2       </td><td>34.3      </td><td>50251.34  </td><td>1.911401  </td><td>0.8847350 </td><td>5.300     </td><td>24.36526  </td><td>  3.245345</td><td>...       </td><td>23.17720  </td><td>65.16415  </td><td>NA        </td><td>7.203527  </td><td>86.012    </td><td>AUS       </td><td>2018      </td><td>GIRL      </td><td>488       </td><td>1         </td></tr>\n",
       "\t<tr><th scope=row>31</th><td>AUT-2018  </td><td>5.22655   </td><td>2.9       </td><td>30.8      </td><td>56937.94  </td><td>1.998380  </td><td>0.9727943 </td><td>4.933     </td><td>24.09513  </td><td>107.131859</td><td>...       </td><td>25.41750  </td><td>27.48498  </td><td>NA        </td><td>7.705019  </td><td>58.297    </td><td>AUT       </td><td>2018      </td><td>BOY       </td><td>505       </td><td>0         </td></tr>\n",
       "\t<tr><th scope=row>32</th><td>AUT-2018  </td><td>5.22655   </td><td>2.9       </td><td>30.8      </td><td>56937.94  </td><td>1.998380  </td><td>0.9727943 </td><td>4.933     </td><td>24.09513  </td><td>107.131859</td><td>...       </td><td>25.41750  </td><td>27.48498  </td><td>NA        </td><td>7.705019  </td><td>58.297    </td><td>AUT       </td><td>2018      </td><td>GIRL      </td><td>492       </td><td>1         </td></tr>\n",
       "\t<tr><th scope=row>49</th><td>BEL-2018  </td><td>6.38107   </td><td>3.4       </td><td>27.2      </td><td>52530.56  </td><td>2.053165  </td><td>       NA </td><td>5.948     </td><td>23.62267  </td><td>377.379590</td><td>...       </td><td>24.00857  </td><td>34.00176  </td><td>NA        </td><td>8.333813  </td><td>98.001    </td><td>BEL       </td><td>2018      </td><td>BOY       </td><td>514       </td><td>0         </td></tr>\n",
       "\t<tr><th scope=row>50</th><td>BEL-2018  </td><td>6.38107   </td><td>3.4       </td><td>27.2      </td><td>52530.56  </td><td>2.053165  </td><td>       NA </td><td>5.948     </td><td>23.62267  </td><td>377.379590</td><td>...       </td><td>24.00857  </td><td>34.00176  </td><td>NA        </td><td>8.333813  </td><td>98.001    </td><td>BEL       </td><td>2018      </td><td>GIRL      </td><td>502       </td><td>1         </td></tr>\n",
       "</tbody>\n",
       "</table>\n"
      ],
      "text/latex": [
       "\\begin{tabular}{r|lllllllllllllllllllll}\n",
       "  & index\\_code & educ\\_exp & mortality\\_rate\\_infant & gini\\_index & gdp\\_per\\_capita\\_ppp & inflation\\_consumer\\_prices & intentional\\_homicides & unemployment & gross\\_fixed\\_capital\\_formation & population\\_density & ... & tax\\_revenue & taxes\\_on\\_income\\_profits\\_capital & alcohol\\_consumption\\_per\\_capita & government\\_health\\_expenditure\\_pct\\_gdp & urban\\_population\\_pct\\_total & country & time & sex & rating & girl\\_dummy\\\\\n",
       "\\hline\n",
       "\t16 & AUS-2018   & 5.12431    & 3.2        & 34.3       & 50251.34   & 1.911401   & 0.8847350  & 5.300      & 24.36526   &   3.245345 & ...        & 23.17720   & 65.16415   & NA         & 7.203527   & 86.012     & AUS        & 2018       & BOY        & 494        & 0         \\\\\n",
       "\t17 & AUS-2018   & 5.12431    & 3.2        & 34.3       & 50251.34   & 1.911401   & 0.8847350  & 5.300      & 24.36526   &   3.245345 & ...        & 23.17720   & 65.16415   & NA         & 7.203527   & 86.012     & AUS        & 2018       & GIRL       & 488        & 1         \\\\\n",
       "\t31 & AUT-2018   & 5.22655    & 2.9        & 30.8       & 56937.94   & 1.998380   & 0.9727943  & 4.933      & 24.09513   & 107.131859 & ...        & 25.41750   & 27.48498   & NA         & 7.705019   & 58.297     & AUT        & 2018       & BOY        & 505        & 0         \\\\\n",
       "\t32 & AUT-2018   & 5.22655    & 2.9        & 30.8       & 56937.94   & 1.998380   & 0.9727943  & 4.933      & 24.09513   & 107.131859 & ...        & 25.41750   & 27.48498   & NA         & 7.705019   & 58.297     & AUT        & 2018       & GIRL       & 492        & 1         \\\\\n",
       "\t49 & BEL-2018   & 6.38107    & 3.4        & 27.2       & 52530.56   & 2.053165   &        NA  & 5.948      & 23.62267   & 377.379590 & ...        & 24.00857   & 34.00176   & NA         & 8.333813   & 98.001     & BEL        & 2018       & BOY        & 514        & 0         \\\\\n",
       "\t50 & BEL-2018   & 6.38107    & 3.4        & 27.2       & 52530.56   & 2.053165   &        NA  & 5.948      & 23.62267   & 377.379590 & ...        & 24.00857   & 34.00176   & NA         & 8.333813   & 98.001     & BEL        & 2018       & GIRL       & 502        & 1         \\\\\n",
       "\\end{tabular}\n"
      ],
      "text/markdown": [
       "\n",
       "| <!--/--> | index_code | educ_exp | mortality_rate_infant | gini_index | gdp_per_capita_ppp | inflation_consumer_prices | intentional_homicides | unemployment | gross_fixed_capital_formation | population_density | ... | tax_revenue | taxes_on_income_profits_capital | alcohol_consumption_per_capita | government_health_expenditure_pct_gdp | urban_population_pct_total | country | time | sex | rating | girl_dummy |\n",
       "|---|---|---|---|---|---|---|---|---|---|---|---|---|---|---|---|---|---|---|---|---|---|\n",
       "| 16 | AUS-2018   | 5.12431    | 3.2        | 34.3       | 50251.34   | 1.911401   | 0.8847350  | 5.300      | 24.36526   |   3.245345 | ...        | 23.17720   | 65.16415   | NA         | 7.203527   | 86.012     | AUS        | 2018       | BOY        | 494        | 0          |\n",
       "| 17 | AUS-2018   | 5.12431    | 3.2        | 34.3       | 50251.34   | 1.911401   | 0.8847350  | 5.300      | 24.36526   |   3.245345 | ...        | 23.17720   | 65.16415   | NA         | 7.203527   | 86.012     | AUS        | 2018       | GIRL       | 488        | 1          |\n",
       "| 31 | AUT-2018   | 5.22655    | 2.9        | 30.8       | 56937.94   | 1.998380   | 0.9727943  | 4.933      | 24.09513   | 107.131859 | ...        | 25.41750   | 27.48498   | NA         | 7.705019   | 58.297     | AUT        | 2018       | BOY        | 505        | 0          |\n",
       "| 32 | AUT-2018   | 5.22655    | 2.9        | 30.8       | 56937.94   | 1.998380   | 0.9727943  | 4.933      | 24.09513   | 107.131859 | ...        | 25.41750   | 27.48498   | NA         | 7.705019   | 58.297     | AUT        | 2018       | GIRL       | 492        | 1          |\n",
       "| 49 | BEL-2018   | 6.38107    | 3.4        | 27.2       | 52530.56   | 2.053165   |        NA  | 5.948      | 23.62267   | 377.379590 | ...        | 24.00857   | 34.00176   | NA         | 8.333813   | 98.001     | BEL        | 2018       | BOY        | 514        | 0          |\n",
       "| 50 | BEL-2018   | 6.38107    | 3.4        | 27.2       | 52530.56   | 2.053165   |        NA  | 5.948      | 23.62267   | 377.379590 | ...        | 24.00857   | 34.00176   | NA         | 8.333813   | 98.001     | BEL        | 2018       | GIRL       | 502        | 1          |\n",
       "\n"
      ],
      "text/plain": [
       "   index_code educ_exp mortality_rate_infant gini_index gdp_per_capita_ppp\n",
       "16 AUS-2018   5.12431  3.2                   34.3       50251.34          \n",
       "17 AUS-2018   5.12431  3.2                   34.3       50251.34          \n",
       "31 AUT-2018   5.22655  2.9                   30.8       56937.94          \n",
       "32 AUT-2018   5.22655  2.9                   30.8       56937.94          \n",
       "49 BEL-2018   6.38107  3.4                   27.2       52530.56          \n",
       "50 BEL-2018   6.38107  3.4                   27.2       52530.56          \n",
       "   inflation_consumer_prices intentional_homicides unemployment\n",
       "16 1.911401                  0.8847350             5.300       \n",
       "17 1.911401                  0.8847350             5.300       \n",
       "31 1.998380                  0.9727943             4.933       \n",
       "32 1.998380                  0.9727943             4.933       \n",
       "49 2.053165                         NA             5.948       \n",
       "50 2.053165                         NA             5.948       \n",
       "   gross_fixed_capital_formation population_density ... tax_revenue\n",
       "16 24.36526                        3.245345         ... 23.17720   \n",
       "17 24.36526                        3.245345         ... 23.17720   \n",
       "31 24.09513                      107.131859         ... 25.41750   \n",
       "32 24.09513                      107.131859         ... 25.41750   \n",
       "49 23.62267                      377.379590         ... 24.00857   \n",
       "50 23.62267                      377.379590         ... 24.00857   \n",
       "   taxes_on_income_profits_capital alcohol_consumption_per_capita\n",
       "16 65.16415                        NA                            \n",
       "17 65.16415                        NA                            \n",
       "31 27.48498                        NA                            \n",
       "32 27.48498                        NA                            \n",
       "49 34.00176                        NA                            \n",
       "50 34.00176                        NA                            \n",
       "   government_health_expenditure_pct_gdp urban_population_pct_total country\n",
       "16 7.203527                              86.012                     AUS    \n",
       "17 7.203527                              86.012                     AUS    \n",
       "31 7.705019                              58.297                     AUT    \n",
       "32 7.705019                              58.297                     AUT    \n",
       "49 8.333813                              98.001                     BEL    \n",
       "50 8.333813                              98.001                     BEL    \n",
       "   time sex  rating girl_dummy\n",
       "16 2018 BOY  494    0         \n",
       "17 2018 GIRL 488    1         \n",
       "31 2018 BOY  505    0         \n",
       "32 2018 GIRL 492    1         \n",
       "49 2018 BOY  514    0         \n",
       "50 2018 GIRL 502    1         "
      ]
     },
     "metadata": {},
     "output_type": "display_data"
    }
   ],
   "source": [
    "#we will start with observing only effect on all individuals together, later we will also explore differences between males and females\n",
    "# we will look only at year 2018, but this time we will use both genders\n",
    "# Creating a subset of the data for the year 2018 and gender either BOY or GIRL\n",
    "gender_data <- data[data$time == 2018 & (data$sex == \"BOY\" | data$sex == \"GIRL\"), ]\n",
    "\n",
    "# Creating a dummy variable for girls\n",
    "gender_data$girl_dummy <- ifelse(gender_data$sex == \"GIRL\", 1, 0)\n",
    "\n",
    "# Display the first few rows of the subset to verify\n",
    "head(gender_data)"
   ]
  },
  {
   "cell_type": "code",
   "execution_count": 155,
   "id": "5ba635c3-d59a-4400-908b-d8865fb7aacc",
   "metadata": {},
   "outputs": [
    {
     "data": {
      "text/plain": [
       "\n",
       "Call:\n",
       "lm(formula = rating ~ girl_dummy, data = gender_data)\n",
       "\n",
       "Residuals:\n",
       "     Min       1Q   Median       3Q      Max \n",
       "-102.564   -4.314   10.936   23.051   44.897 \n",
       "\n",
       "Coefficients:\n",
       "            Estimate Std. Error t value Pr(>|t|)    \n",
       "(Intercept)  487.103      5.950  81.860   <2e-16 ***\n",
       "girl_dummy    -5.538      8.415  -0.658    0.512    \n",
       "---\n",
       "Signif. codes:  0 '***' 0.001 '**' 0.01 '*' 0.05 '.' 0.1 ' ' 1\n",
       "\n",
       "Residual standard error: 37.16 on 76 degrees of freedom\n",
       "Multiple R-squared:  0.005667,\tAdjusted R-squared:  -0.007416 \n",
       "F-statistic: 0.4332 on 1 and 76 DF,  p-value: 0.5124\n"
      ]
     },
     "metadata": {},
     "output_type": "display_data"
    }
   ],
   "source": [
    "#simple  OLS\n",
    "ols_gender <- lm(rating ~ girl_dummy, data = gender_data)\n",
    "# Get the summary of the model\n",
    "summary(ols_gender)\n",
    "#so women tent to score worse, on average, but insignificantly"
   ]
  },
  {
   "cell_type": "code",
   "execution_count": 156,
   "id": "fabaecb3-c9cb-4f17-a399-85996ea61f5d",
   "metadata": {},
   "outputs": [
    {
     "data": {
      "text/plain": [
       "\n",
       "Call:\n",
       "lm(formula = rating ~ girl_dummy + mortality_rate_infant + gini_index + \n",
       "    inflation_consumer_prices + +population_density + log(suicide_mortality_rate) + \n",
       "    tax_revenue + taxes_on_income_profits_capital, data = gender_data)\n",
       "\n",
       "Residuals:\n",
       "    Min      1Q  Median      3Q     Max \n",
       "-25.153  -8.633   2.007   7.510  27.955 \n",
       "\n",
       "Coefficients:\n",
       "                                 Estimate Std. Error t value Pr(>|t|)    \n",
       "(Intercept)                     542.73895   22.10448  24.553  < 2e-16 ***\n",
       "girl_dummy                       -5.42105    3.00247  -1.806 0.075484 .  \n",
       "mortality_rate_infant            -5.00793    1.08104  -4.633 1.72e-05 ***\n",
       "gini_index                       -2.64219    0.41441  -6.376 1.95e-08 ***\n",
       "inflation_consumer_prices         3.05653    0.76959   3.972 0.000177 ***\n",
       "population_density                0.03755    0.01152   3.258 0.001761 ** \n",
       "log(suicide_mortality_rate)      16.57909    4.22890   3.920 0.000210 ***\n",
       "tax_revenue                      -0.55089    0.32535  -1.693 0.095056 .  \n",
       "taxes_on_income_profits_capital   0.48285    0.12136   3.979 0.000173 ***\n",
       "---\n",
       "Signif. codes:  0 '***' 0.001 '**' 0.01 '*' 0.05 '.' 0.1 ' ' 1\n",
       "\n",
       "Residual standard error: 13.09 on 67 degrees of freedom\n",
       "  (2 observations deleted due to missingness)\n",
       "Multiple R-squared:  0.8872,\tAdjusted R-squared:  0.8738 \n",
       "F-statistic: 65.89 on 8 and 67 DF,  p-value: < 2.2e-16\n"
      ]
     },
     "metadata": {},
     "output_type": "display_data"
    }
   ],
   "source": [
    "ols_gender_full <- lm(rating ~ girl_dummy +mortality_rate_infant+\tgini_index + inflation_consumer_prices + \n",
    "               +population_density\t+log(suicide_mortality_rate)+\ttax_revenue + taxes_on_income_profits_capital, data = gender_data)\n",
    "# Get the summary of the model\n",
    "summary(ols_gender_full)\n",
    "#so women tend to score worse, on average"
   ]
  },
  {
   "cell_type": "markdown",
   "id": "51907e11-cbb6-41c5-b204-a728c63e1f79",
   "metadata": {},
   "source": [
    "### Checking if regression is different for males and females"
   ]
  },
  {
   "cell_type": "code",
   "execution_count": 157,
   "id": "c3772f88-239b-4b0c-9ac3-c1e0bf8d7e16",
   "metadata": {},
   "outputs": [
    {
     "data": {
      "text/html": [
       "<table>\n",
       "<thead><tr><th></th><th scope=col>index_code</th><th scope=col>educ_exp</th><th scope=col>mortality_rate_infant</th><th scope=col>gini_index</th><th scope=col>gdp_per_capita_ppp</th><th scope=col>inflation_consumer_prices</th><th scope=col>intentional_homicides</th><th scope=col>unemployment</th><th scope=col>gross_fixed_capital_formation</th><th scope=col>population_density</th><th scope=col>suicide_mortality_rate</th><th scope=col>tax_revenue</th><th scope=col>taxes_on_income_profits_capital</th><th scope=col>alcohol_consumption_per_capita</th><th scope=col>government_health_expenditure_pct_gdp</th><th scope=col>urban_population_pct_total</th><th scope=col>country</th><th scope=col>time</th><th scope=col>sex</th><th scope=col>rating</th></tr></thead>\n",
       "<tbody>\n",
       "\t<tr><th scope=row>16</th><td>AUS-2018  </td><td>5.12431   </td><td> 3.2      </td><td>34.3      </td><td>50251.34  </td><td>1.911401  </td><td> 0.8847350</td><td>5.300     </td><td>24.36526  </td><td>  3.245345</td><td>12.4      </td><td>23.17720  </td><td>65.16415  </td><td>NA        </td><td>7.203527  </td><td>86.012    </td><td>AUS       </td><td>2018      </td><td>BOY       </td><td>494       </td></tr>\n",
       "\t<tr><th scope=row>31</th><td>AUT-2018  </td><td>5.22655   </td><td> 2.9      </td><td>30.8      </td><td>56937.94  </td><td>1.998380  </td><td> 0.9727943</td><td>4.933     </td><td>24.09513  </td><td>107.131859</td><td>15.7      </td><td>25.41750  </td><td>27.48498  </td><td>NA        </td><td>7.705019  </td><td>58.297    </td><td>AUT       </td><td>2018      </td><td>BOY       </td><td>505       </td></tr>\n",
       "\t<tr><th scope=row>49</th><td>BEL-2018  </td><td>6.38107   </td><td> 3.4      </td><td>27.2      </td><td>52530.56  </td><td>2.053165  </td><td>        NA</td><td>5.948     </td><td>23.62267  </td><td>377.379590</td><td>18.7      </td><td>24.00857  </td><td>34.00176  </td><td>NA        </td><td>8.333813  </td><td>98.001    </td><td>BEL       </td><td>2018      </td><td>BOY       </td><td>514       </td></tr>\n",
       "\t<tr><th scope=row>67</th><td>CAN-2018  </td><td>4.88898   </td><td> 4.6      </td><td>32.5      </td><td>49992.76  </td><td>2.268226  </td><td> 1.7874861</td><td>5.837     </td><td>22.67609  </td><td>  4.134149</td><td>12.0      </td><td>13.05768  </td><td>55.21804  </td><td>NA        </td><td>7.577101  </td><td>81.411    </td><td>CAN       </td><td>2018      </td><td>BOY       </td><td>514       </td></tr>\n",
       "\t<tr><th scope=row>82</th><td>CHL-2018  </td><td>5.47306   </td><td> 6.3      </td><td>44.9      </td><td>25564.54  </td><td>2.434890  </td><td> 4.4114225</td><td>7.235     </td><td>23.04979  </td><td> 25.152179</td><td> 8.8      </td><td>18.39552  </td><td>36.67938  </td><td>NA        </td><td>4.654511  </td><td>87.564    </td><td>CHL       </td><td>2018      </td><td>BOY       </td><td>421       </td></tr>\n",
       "\t<tr><th scope=row>89</th><td>COL-2018  </td><td>4.44910   </td><td>12.2      </td><td>50.4      </td><td>15161.32  </td><td>3.240569  </td><td>26.2313252</td><td>9.360     </td><td>21.22787  </td><td> 44.413665</td><td> 4.0      </td><td>14.60984  </td><td>26.56603  </td><td>NA        </td><td>5.460899  </td><td>80.778    </td><td>COL       </td><td>2018      </td><td>BOY       </td><td>401       </td></tr>\n",
       "</tbody>\n",
       "</table>\n"
      ],
      "text/latex": [
       "\\begin{tabular}{r|llllllllllllllllllll}\n",
       "  & index\\_code & educ\\_exp & mortality\\_rate\\_infant & gini\\_index & gdp\\_per\\_capita\\_ppp & inflation\\_consumer\\_prices & intentional\\_homicides & unemployment & gross\\_fixed\\_capital\\_formation & population\\_density & suicide\\_mortality\\_rate & tax\\_revenue & taxes\\_on\\_income\\_profits\\_capital & alcohol\\_consumption\\_per\\_capita & government\\_health\\_expenditure\\_pct\\_gdp & urban\\_population\\_pct\\_total & country & time & sex & rating\\\\\n",
       "\\hline\n",
       "\t16 & AUS-2018   & 5.12431    &  3.2       & 34.3       & 50251.34   & 1.911401   &  0.8847350 & 5.300      & 24.36526   &   3.245345 & 12.4       & 23.17720   & 65.16415   & NA         & 7.203527   & 86.012     & AUS        & 2018       & BOY        & 494       \\\\\n",
       "\t31 & AUT-2018   & 5.22655    &  2.9       & 30.8       & 56937.94   & 1.998380   &  0.9727943 & 4.933      & 24.09513   & 107.131859 & 15.7       & 25.41750   & 27.48498   & NA         & 7.705019   & 58.297     & AUT        & 2018       & BOY        & 505       \\\\\n",
       "\t49 & BEL-2018   & 6.38107    &  3.4       & 27.2       & 52530.56   & 2.053165   &         NA & 5.948      & 23.62267   & 377.379590 & 18.7       & 24.00857   & 34.00176   & NA         & 8.333813   & 98.001     & BEL        & 2018       & BOY        & 514       \\\\\n",
       "\t67 & CAN-2018   & 4.88898    &  4.6       & 32.5       & 49992.76   & 2.268226   &  1.7874861 & 5.837      & 22.67609   &   4.134149 & 12.0       & 13.05768   & 55.21804   & NA         & 7.577101   & 81.411     & CAN        & 2018       & BOY        & 514       \\\\\n",
       "\t82 & CHL-2018   & 5.47306    &  6.3       & 44.9       & 25564.54   & 2.434890   &  4.4114225 & 7.235      & 23.04979   &  25.152179 &  8.8       & 18.39552   & 36.67938   & NA         & 4.654511   & 87.564     & CHL        & 2018       & BOY        & 421       \\\\\n",
       "\t89 & COL-2018   & 4.44910    & 12.2       & 50.4       & 15161.32   & 3.240569   & 26.2313252 & 9.360      & 21.22787   &  44.413665 &  4.0       & 14.60984   & 26.56603   & NA         & 5.460899   & 80.778     & COL        & 2018       & BOY        & 401       \\\\\n",
       "\\end{tabular}\n"
      ],
      "text/markdown": [
       "\n",
       "| <!--/--> | index_code | educ_exp | mortality_rate_infant | gini_index | gdp_per_capita_ppp | inflation_consumer_prices | intentional_homicides | unemployment | gross_fixed_capital_formation | population_density | suicide_mortality_rate | tax_revenue | taxes_on_income_profits_capital | alcohol_consumption_per_capita | government_health_expenditure_pct_gdp | urban_population_pct_total | country | time | sex | rating |\n",
       "|---|---|---|---|---|---|---|---|---|---|---|---|---|---|---|---|---|---|---|---|---|\n",
       "| 16 | AUS-2018   | 5.12431    |  3.2       | 34.3       | 50251.34   | 1.911401   |  0.8847350 | 5.300      | 24.36526   |   3.245345 | 12.4       | 23.17720   | 65.16415   | NA         | 7.203527   | 86.012     | AUS        | 2018       | BOY        | 494        |\n",
       "| 31 | AUT-2018   | 5.22655    |  2.9       | 30.8       | 56937.94   | 1.998380   |  0.9727943 | 4.933      | 24.09513   | 107.131859 | 15.7       | 25.41750   | 27.48498   | NA         | 7.705019   | 58.297     | AUT        | 2018       | BOY        | 505        |\n",
       "| 49 | BEL-2018   | 6.38107    |  3.4       | 27.2       | 52530.56   | 2.053165   |         NA | 5.948      | 23.62267   | 377.379590 | 18.7       | 24.00857   | 34.00176   | NA         | 8.333813   | 98.001     | BEL        | 2018       | BOY        | 514        |\n",
       "| 67 | CAN-2018   | 4.88898    |  4.6       | 32.5       | 49992.76   | 2.268226   |  1.7874861 | 5.837      | 22.67609   |   4.134149 | 12.0       | 13.05768   | 55.21804   | NA         | 7.577101   | 81.411     | CAN        | 2018       | BOY        | 514        |\n",
       "| 82 | CHL-2018   | 5.47306    |  6.3       | 44.9       | 25564.54   | 2.434890   |  4.4114225 | 7.235      | 23.04979   |  25.152179 |  8.8       | 18.39552   | 36.67938   | NA         | 4.654511   | 87.564     | CHL        | 2018       | BOY        | 421        |\n",
       "| 89 | COL-2018   | 4.44910    | 12.2       | 50.4       | 15161.32   | 3.240569   | 26.2313252 | 9.360      | 21.22787   |  44.413665 |  4.0       | 14.60984   | 26.56603   | NA         | 5.460899   | 80.778     | COL        | 2018       | BOY        | 401        |\n",
       "\n"
      ],
      "text/plain": [
       "   index_code educ_exp mortality_rate_infant gini_index gdp_per_capita_ppp\n",
       "16 AUS-2018   5.12431   3.2                  34.3       50251.34          \n",
       "31 AUT-2018   5.22655   2.9                  30.8       56937.94          \n",
       "49 BEL-2018   6.38107   3.4                  27.2       52530.56          \n",
       "67 CAN-2018   4.88898   4.6                  32.5       49992.76          \n",
       "82 CHL-2018   5.47306   6.3                  44.9       25564.54          \n",
       "89 COL-2018   4.44910  12.2                  50.4       15161.32          \n",
       "   inflation_consumer_prices intentional_homicides unemployment\n",
       "16 1.911401                   0.8847350            5.300       \n",
       "31 1.998380                   0.9727943            4.933       \n",
       "49 2.053165                          NA            5.948       \n",
       "67 2.268226                   1.7874861            5.837       \n",
       "82 2.434890                   4.4114225            7.235       \n",
       "89 3.240569                  26.2313252            9.360       \n",
       "   gross_fixed_capital_formation population_density suicide_mortality_rate\n",
       "16 24.36526                        3.245345         12.4                  \n",
       "31 24.09513                      107.131859         15.7                  \n",
       "49 23.62267                      377.379590         18.7                  \n",
       "67 22.67609                        4.134149         12.0                  \n",
       "82 23.04979                       25.152179          8.8                  \n",
       "89 21.22787                       44.413665          4.0                  \n",
       "   tax_revenue taxes_on_income_profits_capital alcohol_consumption_per_capita\n",
       "16 23.17720    65.16415                        NA                            \n",
       "31 25.41750    27.48498                        NA                            \n",
       "49 24.00857    34.00176                        NA                            \n",
       "67 13.05768    55.21804                        NA                            \n",
       "82 18.39552    36.67938                        NA                            \n",
       "89 14.60984    26.56603                        NA                            \n",
       "   government_health_expenditure_pct_gdp urban_population_pct_total country\n",
       "16 7.203527                              86.012                     AUS    \n",
       "31 7.705019                              58.297                     AUT    \n",
       "49 8.333813                              98.001                     BEL    \n",
       "67 7.577101                              81.411                     CAN    \n",
       "82 4.654511                              87.564                     CHL    \n",
       "89 5.460899                              80.778                     COL    \n",
       "   time sex rating\n",
       "16 2018 BOY 494   \n",
       "31 2018 BOY 505   \n",
       "49 2018 BOY 514   \n",
       "67 2018 BOY 514   \n",
       "82 2018 BOY 421   \n",
       "89 2018 BOY 401   "
      ]
     },
     "metadata": {},
     "output_type": "display_data"
    }
   ],
   "source": [
    "boys <- data[data$time == 2018 & (data$sex == \"BOY\"), ]\n",
    "# Display the first few rows of the subset to verify\n",
    "head(boys)"
   ]
  },
  {
   "cell_type": "code",
   "execution_count": 158,
   "id": "7bfff028-7c3d-4e39-9ea6-43b1b4de9b00",
   "metadata": {},
   "outputs": [
    {
     "data": {
      "text/html": [
       "<table>\n",
       "<thead><tr><th></th><th scope=col>index_code</th><th scope=col>educ_exp</th><th scope=col>mortality_rate_infant</th><th scope=col>gini_index</th><th scope=col>gdp_per_capita_ppp</th><th scope=col>inflation_consumer_prices</th><th scope=col>intentional_homicides</th><th scope=col>unemployment</th><th scope=col>gross_fixed_capital_formation</th><th scope=col>population_density</th><th scope=col>suicide_mortality_rate</th><th scope=col>tax_revenue</th><th scope=col>taxes_on_income_profits_capital</th><th scope=col>alcohol_consumption_per_capita</th><th scope=col>government_health_expenditure_pct_gdp</th><th scope=col>urban_population_pct_total</th><th scope=col>country</th><th scope=col>time</th><th scope=col>sex</th><th scope=col>rating</th></tr></thead>\n",
       "<tbody>\n",
       "\t<tr><th scope=row>17</th><td>AUS-2018  </td><td>5.12431   </td><td> 3.2      </td><td>34.3      </td><td>50251.34  </td><td>1.911401  </td><td> 0.8847350</td><td>5.300     </td><td>24.36526  </td><td>  3.245345</td><td>12.4      </td><td>23.17720  </td><td>65.16415  </td><td>NA        </td><td>7.203527  </td><td>86.012    </td><td>AUS       </td><td>2018      </td><td>GIRL      </td><td>488       </td></tr>\n",
       "\t<tr><th scope=row>32</th><td>AUT-2018  </td><td>5.22655   </td><td> 2.9      </td><td>30.8      </td><td>56937.94  </td><td>1.998380  </td><td> 0.9727943</td><td>4.933     </td><td>24.09513  </td><td>107.131859</td><td>15.7      </td><td>25.41750  </td><td>27.48498  </td><td>NA        </td><td>7.705019  </td><td>58.297    </td><td>AUT       </td><td>2018      </td><td>GIRL      </td><td>492       </td></tr>\n",
       "\t<tr><th scope=row>50</th><td>BEL-2018  </td><td>6.38107   </td><td> 3.4      </td><td>27.2      </td><td>52530.56  </td><td>2.053165  </td><td>        NA</td><td>5.948     </td><td>23.62267  </td><td>377.379590</td><td>18.7      </td><td>24.00857  </td><td>34.00176  </td><td>NA        </td><td>8.333813  </td><td>98.001    </td><td>BEL       </td><td>2018      </td><td>GIRL      </td><td>502       </td></tr>\n",
       "\t<tr><th scope=row>68</th><td>CAN-2018  </td><td>4.88898   </td><td> 4.6      </td><td>32.5      </td><td>49992.76  </td><td>2.268226  </td><td> 1.7874861</td><td>5.837     </td><td>22.67609  </td><td>  4.134149</td><td>12.0      </td><td>13.05768  </td><td>55.21804  </td><td>NA        </td><td>7.577101  </td><td>81.411    </td><td>CAN       </td><td>2018      </td><td>GIRL      </td><td>510       </td></tr>\n",
       "\t<tr><th scope=row>83</th><td>CHL-2018  </td><td>5.47306   </td><td> 6.3      </td><td>44.9      </td><td>25564.54  </td><td>2.434890  </td><td> 4.4114225</td><td>7.235     </td><td>23.04979  </td><td> 25.152179</td><td> 8.8      </td><td>18.39552  </td><td>36.67938  </td><td>NA        </td><td>4.654511  </td><td>87.564    </td><td>CHL       </td><td>2018      </td><td>GIRL      </td><td>414       </td></tr>\n",
       "\t<tr><th scope=row>90</th><td>COL-2018  </td><td>4.44910   </td><td>12.2      </td><td>50.4      </td><td>15161.32  </td><td>3.240569  </td><td>26.2313252</td><td>9.360     </td><td>21.22787  </td><td> 44.413665</td><td> 4.0      </td><td>14.60984  </td><td>26.56603  </td><td>NA        </td><td>5.460899  </td><td>80.778    </td><td>COL       </td><td>2018      </td><td>GIRL      </td><td>381       </td></tr>\n",
       "</tbody>\n",
       "</table>\n"
      ],
      "text/latex": [
       "\\begin{tabular}{r|llllllllllllllllllll}\n",
       "  & index\\_code & educ\\_exp & mortality\\_rate\\_infant & gini\\_index & gdp\\_per\\_capita\\_ppp & inflation\\_consumer\\_prices & intentional\\_homicides & unemployment & gross\\_fixed\\_capital\\_formation & population\\_density & suicide\\_mortality\\_rate & tax\\_revenue & taxes\\_on\\_income\\_profits\\_capital & alcohol\\_consumption\\_per\\_capita & government\\_health\\_expenditure\\_pct\\_gdp & urban\\_population\\_pct\\_total & country & time & sex & rating\\\\\n",
       "\\hline\n",
       "\t17 & AUS-2018   & 5.12431    &  3.2       & 34.3       & 50251.34   & 1.911401   &  0.8847350 & 5.300      & 24.36526   &   3.245345 & 12.4       & 23.17720   & 65.16415   & NA         & 7.203527   & 86.012     & AUS        & 2018       & GIRL       & 488       \\\\\n",
       "\t32 & AUT-2018   & 5.22655    &  2.9       & 30.8       & 56937.94   & 1.998380   &  0.9727943 & 4.933      & 24.09513   & 107.131859 & 15.7       & 25.41750   & 27.48498   & NA         & 7.705019   & 58.297     & AUT        & 2018       & GIRL       & 492       \\\\\n",
       "\t50 & BEL-2018   & 6.38107    &  3.4       & 27.2       & 52530.56   & 2.053165   &         NA & 5.948      & 23.62267   & 377.379590 & 18.7       & 24.00857   & 34.00176   & NA         & 8.333813   & 98.001     & BEL        & 2018       & GIRL       & 502       \\\\\n",
       "\t68 & CAN-2018   & 4.88898    &  4.6       & 32.5       & 49992.76   & 2.268226   &  1.7874861 & 5.837      & 22.67609   &   4.134149 & 12.0       & 13.05768   & 55.21804   & NA         & 7.577101   & 81.411     & CAN        & 2018       & GIRL       & 510       \\\\\n",
       "\t83 & CHL-2018   & 5.47306    &  6.3       & 44.9       & 25564.54   & 2.434890   &  4.4114225 & 7.235      & 23.04979   &  25.152179 &  8.8       & 18.39552   & 36.67938   & NA         & 4.654511   & 87.564     & CHL        & 2018       & GIRL       & 414       \\\\\n",
       "\t90 & COL-2018   & 4.44910    & 12.2       & 50.4       & 15161.32   & 3.240569   & 26.2313252 & 9.360      & 21.22787   &  44.413665 &  4.0       & 14.60984   & 26.56603   & NA         & 5.460899   & 80.778     & COL        & 2018       & GIRL       & 381       \\\\\n",
       "\\end{tabular}\n"
      ],
      "text/markdown": [
       "\n",
       "| <!--/--> | index_code | educ_exp | mortality_rate_infant | gini_index | gdp_per_capita_ppp | inflation_consumer_prices | intentional_homicides | unemployment | gross_fixed_capital_formation | population_density | suicide_mortality_rate | tax_revenue | taxes_on_income_profits_capital | alcohol_consumption_per_capita | government_health_expenditure_pct_gdp | urban_population_pct_total | country | time | sex | rating |\n",
       "|---|---|---|---|---|---|---|---|---|---|---|---|---|---|---|---|---|---|---|---|---|\n",
       "| 17 | AUS-2018   | 5.12431    |  3.2       | 34.3       | 50251.34   | 1.911401   |  0.8847350 | 5.300      | 24.36526   |   3.245345 | 12.4       | 23.17720   | 65.16415   | NA         | 7.203527   | 86.012     | AUS        | 2018       | GIRL       | 488        |\n",
       "| 32 | AUT-2018   | 5.22655    |  2.9       | 30.8       | 56937.94   | 1.998380   |  0.9727943 | 4.933      | 24.09513   | 107.131859 | 15.7       | 25.41750   | 27.48498   | NA         | 7.705019   | 58.297     | AUT        | 2018       | GIRL       | 492        |\n",
       "| 50 | BEL-2018   | 6.38107    |  3.4       | 27.2       | 52530.56   | 2.053165   |         NA | 5.948      | 23.62267   | 377.379590 | 18.7       | 24.00857   | 34.00176   | NA         | 8.333813   | 98.001     | BEL        | 2018       | GIRL       | 502        |\n",
       "| 68 | CAN-2018   | 4.88898    |  4.6       | 32.5       | 49992.76   | 2.268226   |  1.7874861 | 5.837      | 22.67609   |   4.134149 | 12.0       | 13.05768   | 55.21804   | NA         | 7.577101   | 81.411     | CAN        | 2018       | GIRL       | 510        |\n",
       "| 83 | CHL-2018   | 5.47306    |  6.3       | 44.9       | 25564.54   | 2.434890   |  4.4114225 | 7.235      | 23.04979   |  25.152179 |  8.8       | 18.39552   | 36.67938   | NA         | 4.654511   | 87.564     | CHL        | 2018       | GIRL       | 414        |\n",
       "| 90 | COL-2018   | 4.44910    | 12.2       | 50.4       | 15161.32   | 3.240569   | 26.2313252 | 9.360      | 21.22787   |  44.413665 |  4.0       | 14.60984   | 26.56603   | NA         | 5.460899   | 80.778     | COL        | 2018       | GIRL       | 381        |\n",
       "\n"
      ],
      "text/plain": [
       "   index_code educ_exp mortality_rate_infant gini_index gdp_per_capita_ppp\n",
       "17 AUS-2018   5.12431   3.2                  34.3       50251.34          \n",
       "32 AUT-2018   5.22655   2.9                  30.8       56937.94          \n",
       "50 BEL-2018   6.38107   3.4                  27.2       52530.56          \n",
       "68 CAN-2018   4.88898   4.6                  32.5       49992.76          \n",
       "83 CHL-2018   5.47306   6.3                  44.9       25564.54          \n",
       "90 COL-2018   4.44910  12.2                  50.4       15161.32          \n",
       "   inflation_consumer_prices intentional_homicides unemployment\n",
       "17 1.911401                   0.8847350            5.300       \n",
       "32 1.998380                   0.9727943            4.933       \n",
       "50 2.053165                          NA            5.948       \n",
       "68 2.268226                   1.7874861            5.837       \n",
       "83 2.434890                   4.4114225            7.235       \n",
       "90 3.240569                  26.2313252            9.360       \n",
       "   gross_fixed_capital_formation population_density suicide_mortality_rate\n",
       "17 24.36526                        3.245345         12.4                  \n",
       "32 24.09513                      107.131859         15.7                  \n",
       "50 23.62267                      377.379590         18.7                  \n",
       "68 22.67609                        4.134149         12.0                  \n",
       "83 23.04979                       25.152179          8.8                  \n",
       "90 21.22787                       44.413665          4.0                  \n",
       "   tax_revenue taxes_on_income_profits_capital alcohol_consumption_per_capita\n",
       "17 23.17720    65.16415                        NA                            \n",
       "32 25.41750    27.48498                        NA                            \n",
       "50 24.00857    34.00176                        NA                            \n",
       "68 13.05768    55.21804                        NA                            \n",
       "83 18.39552    36.67938                        NA                            \n",
       "90 14.60984    26.56603                        NA                            \n",
       "   government_health_expenditure_pct_gdp urban_population_pct_total country\n",
       "17 7.203527                              86.012                     AUS    \n",
       "32 7.705019                              58.297                     AUT    \n",
       "50 8.333813                              98.001                     BEL    \n",
       "68 7.577101                              81.411                     CAN    \n",
       "83 4.654511                              87.564                     CHL    \n",
       "90 5.460899                              80.778                     COL    \n",
       "   time sex  rating\n",
       "17 2018 GIRL 488   \n",
       "32 2018 GIRL 492   \n",
       "50 2018 GIRL 502   \n",
       "68 2018 GIRL 510   \n",
       "83 2018 GIRL 414   \n",
       "90 2018 GIRL 381   "
      ]
     },
     "metadata": {},
     "output_type": "display_data"
    }
   ],
   "source": [
    "girls <- data[data$time == 2018 & (data$sex == \"GIRL\"), ]\n",
    "\n",
    "# Display the first few rows of the subset to verify\n",
    "head(girls)"
   ]
  },
  {
   "cell_type": "code",
   "execution_count": 159,
   "id": "e92d0807-fac7-486a-8457-44a1c491c1e6",
   "metadata": {},
   "outputs": [
    {
     "data": {
      "text/plain": [
       "\n",
       "Call:\n",
       "lm(formula = rating ~ mortality_rate_infant + gini_index + inflation_consumer_prices + \n",
       "    +population_density + log(suicide_mortality_rate) + log(tax_revenue) + \n",
       "    taxes_on_income_profits_capital, data = boys)\n",
       "\n",
       "Residuals:\n",
       "    Min      1Q  Median      3Q     Max \n",
       "-24.888 -10.727   1.026   7.749  24.494 \n",
       "\n",
       "Coefficients:\n",
       "                                 Estimate Std. Error t value Pr(>|t|)    \n",
       "(Intercept)                     559.76179   45.58302  12.280 3.13e-13 ***\n",
       "mortality_rate_infant            -4.67880    1.64451  -2.845 0.007926 ** \n",
       "gini_index                       -2.52963    0.63015  -4.014 0.000367 ***\n",
       "inflation_consumer_prices         2.94688    1.16764   2.524 0.017139 *  \n",
       "population_density                0.03967    0.01752   2.264 0.030972 *  \n",
       "log(suicide_mortality_rate)      16.92579    6.42026   2.636 0.013144 *  \n",
       "log(tax_revenue)                -11.68894    9.05559  -1.291 0.206633    \n",
       "taxes_on_income_profits_capital   0.49728    0.18346   2.711 0.011000 *  \n",
       "---\n",
       "Signif. codes:  0 '***' 0.001 '**' 0.01 '*' 0.05 '.' 0.1 ' ' 1\n",
       "\n",
       "Residual standard error: 14.07 on 30 degrees of freedom\n",
       "  (1 observation deleted due to missingness)\n",
       "Multiple R-squared:  0.8741,\tAdjusted R-squared:  0.8447 \n",
       "F-statistic: 29.74 on 7 and 30 DF,  p-value: 8.012e-12\n"
      ]
     },
     "metadata": {},
     "output_type": "display_data"
    }
   ],
   "source": [
    "#simple  OLS\n",
    "ols_2018_boys <- lm(rating ~ mortality_rate_infant+\tgini_index + inflation_consumer_prices + \n",
    "               +population_density\t+log(suicide_mortality_rate)+\tlog(tax_revenue) + taxes_on_income_profits_capital, data = boys)\n",
    "# Get the summary of the model\n",
    "summary(ols_2018_boys)"
   ]
  },
  {
   "cell_type": "code",
   "execution_count": 160,
   "id": "a7198ac7-eab1-4d77-8d5d-49755650e195",
   "metadata": {},
   "outputs": [
    {
     "data": {
      "text/plain": [
       "\n",
       "Call:\n",
       "lm(formula = rating ~ mortality_rate_infant + gini_index + inflation_consumer_prices + \n",
       "    +population_density + log(suicide_mortality_rate) + log(tax_revenue) + \n",
       "    taxes_on_income_profits_capital, data = girls)\n",
       "\n",
       "Residuals:\n",
       "    Min      1Q  Median      3Q     Max \n",
       "-22.250  -7.703   1.193   7.488  27.157 \n",
       "\n",
       "Coefficients:\n",
       "                                 Estimate Std. Error t value Pr(>|t|)    \n",
       "(Intercept)                     575.31035   42.11807  13.659 2.05e-14 ***\n",
       "mortality_rate_infant            -5.52249    1.51950  -3.634  0.00103 ** \n",
       "gini_index                       -2.80708    0.58225  -4.821 3.86e-05 ***\n",
       "inflation_consumer_prices         3.22305    1.07888   2.987  0.00556 ** \n",
       "population_density                0.03504    0.01619   2.164  0.03856 *  \n",
       "log(suicide_mortality_rate)      15.37954    5.93223   2.593  0.01458 *  \n",
       "log(tax_revenue)                -12.73507    8.36724  -1.522  0.13848    \n",
       "taxes_on_income_profits_capital   0.45473    0.16951   2.683  0.01177 *  \n",
       "---\n",
       "Signif. codes:  0 '***' 0.001 '**' 0.01 '*' 0.05 '.' 0.1 ' ' 1\n",
       "\n",
       "Residual standard error: 13 on 30 degrees of freedom\n",
       "  (1 observation deleted due to missingness)\n",
       "Multiple R-squared:  0.9062,\tAdjusted R-squared:  0.8843 \n",
       "F-statistic: 41.39 on 7 and 30 DF,  p-value: 1.055e-13\n"
      ]
     },
     "metadata": {},
     "output_type": "display_data"
    }
   ],
   "source": [
    "#simple  OLS\n",
    "ols_2018_girls <- lm(rating ~ mortality_rate_infant+\tgini_index + inflation_consumer_prices + \n",
    "               +population_density\t+log(suicide_mortality_rate)+\tlog(tax_revenue) + taxes_on_income_profits_capital, data = girls)\n",
    "# Get the summary of the model\n",
    "summary(ols_2018_girls)"
   ]
  },
  {
   "cell_type": "code",
   "execution_count": 161,
   "id": "a1bef55a-6d17-44d3-abda-b91555f9324d",
   "metadata": {},
   "outputs": [
    {
     "name": "stdout",
     "output_type": "stream",
     "text": [
      "Analysis of Variance Table\n",
      "\n",
      "Model 1: rating ~ mortality_rate_infant + gini_index + inflation_consumer_prices + \n",
      "    population_density + suicide_mortality_rate_log + tax_revenue_log + \n",
      "    taxes_on_income_profits_capital + factor(gender)\n",
      "Model 2: rating ~ mortality_rate_infant * factor(gender) + gini_index * \n",
      "    factor(gender) + inflation_consumer_prices * factor(gender) + \n",
      "    population_density * factor(gender) + suicide_mortality_rate_log * \n",
      "    factor(gender) + tax_revenue_log * factor(gender) + taxes_on_income_profits_capital * \n",
      "    factor(gender)\n",
      "  Res.Df   RSS Df Sum of Sq      F Pr(>F)\n",
      "1     67 11247                           \n",
      "2     60 11010  7    236.62 0.1842 0.9877\n"
     ]
    }
   ],
   "source": [
    "# Combine the datasets and add an indicator variable for gender\n",
    "data_combined <- rbind(boys, girls)\n",
    "data_combined$gender <- rep(c(\"Boy\", \"Girl\"), c(nrow(boys), nrow(girls)))\n",
    "\n",
    "# Adjust variables for combined data\n",
    "data_combined$suicide_mortality_rate_log <- log(data_combined$suicide_mortality_rate)\n",
    "data_combined$tax_revenue_log <- log(data_combined$tax_revenue)\n",
    "\n",
    "# Fit a pooled model without interaction terms, using gender as a factor\n",
    "model_pooled <- lm(rating ~ mortality_rate_infant + gini_index + inflation_consumer_prices + \n",
    "                   population_density + suicide_mortality_rate_log + tax_revenue_log + \n",
    "                   taxes_on_income_profits_capital + factor(gender), data = data_combined)\n",
    "\n",
    "# Fit a model with interaction terms to allow different slopes\n",
    "model_interaction <- lm(rating ~ mortality_rate_infant * factor(gender) + gini_index * factor(gender) + \n",
    "                        inflation_consumer_prices * factor(gender) + population_density * factor(gender) + \n",
    "                        suicide_mortality_rate_log * factor(gender) + tax_revenue_log * factor(gender) + \n",
    "                        taxes_on_income_profits_capital * factor(gender), data = data_combined)\n",
    "\n",
    "# Perform the Chow test by comparing the pooled model with the interaction model using anova\n",
    "chow_test <- anova(model_pooled, model_interaction)\n",
    "\n",
    "# Print the test results\n",
    "print(chow_test)\n"
   ]
  },
  {
   "cell_type": "code",
   "execution_count": 168,
   "id": "7bdea662-da01-47bf-b340-e485f632c708",
   "metadata": {},
   "outputs": [
    {
     "data": {
      "text/html": [
       "<table>\n",
       "<thead><tr><th></th><th scope=col>index_code</th><th scope=col>expenditure_on._education_pct_gdp</th><th scope=col>mortality_rate_infant</th><th scope=col>gini_index</th><th scope=col>gdp_per_capita_ppp</th><th scope=col>inflation_consumer_prices</th><th scope=col>intentional_homicides</th><th scope=col>unemployment</th><th scope=col>gross_fixed_capital_formation</th><th scope=col>population_density</th><th scope=col>...</th><th scope=col>tax_revenue</th><th scope=col>taxes_on_income_profits_capital</th><th scope=col>alcohol_consumption_per_capita</th><th scope=col>government_health_expenditure_pct_gdp</th><th scope=col>urban_population_pct_total</th><th scope=col>country</th><th scope=col>time</th><th scope=col>sex</th><th scope=col>rating</th><th scope=col>girl_dummy</th></tr></thead>\n",
       "<tbody>\n",
       "\t<tr><th scope=row>1</th><td>AUS-2003</td><td>5.246357</td><td>4.9     </td><td>33.5    </td><td>30121.82</td><td>2.732596</td><td>1.533073</td><td>5.933   </td><td>26.05029</td><td>2.567036</td><td>...     </td><td>24.29997</td><td>62.72655</td><td>NA      </td><td>5.623778</td><td>84.343  </td><td>AUS     </td><td>2003    </td><td>BOY     </td><td>527     </td><td>0       </td></tr>\n",
       "\t<tr><th scope=row>2</th><td>AUS-2003</td><td>5.246357</td><td>4.9     </td><td>33.5    </td><td>30121.82</td><td>2.732596</td><td>1.533073</td><td>5.933   </td><td>26.05029</td><td>2.567036</td><td>...     </td><td>24.29997</td><td>62.72655</td><td>NA      </td><td>5.623778</td><td>84.343  </td><td>AUS     </td><td>2003    </td><td>GIRL    </td><td>522     </td><td>1       </td></tr>\n",
       "\t<tr><th scope=row>4</th><td>AUS-2006</td><td>4.738430</td><td>4.7     </td><td>33.5    </td><td>34846.72</td><td>3.555288</td><td>1.372940</td><td>4.785   </td><td>27.78913</td><td>2.662089</td><td>...     </td><td>24.51177</td><td>65.23156</td><td>NA      </td><td>5.719998</td><td>84.700  </td><td>AUS     </td><td>2006    </td><td>BOY     </td><td>527     </td><td>0       </td></tr>\n",
       "\t<tr><th scope=row>5</th><td>AUS-2006</td><td>4.738430</td><td>4.7     </td><td>33.5    </td><td>34846.72</td><td>3.555288</td><td>1.372940</td><td>4.785   </td><td>27.78913</td><td>2.662089</td><td>...     </td><td>24.51177</td><td>65.23156</td><td>NA      </td><td>5.719998</td><td>84.700  </td><td>AUS     </td><td>2006    </td><td>GIRL    </td><td>513     </td><td>1       </td></tr>\n",
       "\t<tr><th scope=row>7</th><td>AUS-2009</td><td>5.081320</td><td>4.2     </td><td>33.5    </td><td>40312.40</td><td>1.771117</td><td>1.214170</td><td>5.565   </td><td>27.60185</td><td>2.823588</td><td>...     </td><td>22.02101</td><td>64.95108</td><td>NA      </td><td>6.244110</td><td>85.063  </td><td>AUS     </td><td>2009    </td><td>BOY     </td><td>519     </td><td>0       </td></tr>\n",
       "\t<tr><th scope=row>8</th><td>AUS-2009</td><td>5.081320</td><td>4.2     </td><td>33.5    </td><td>40312.40</td><td>1.771117</td><td>1.214170</td><td>5.565   </td><td>27.60185</td><td>2.823588</td><td>...     </td><td>22.02101</td><td>64.95108</td><td>NA      </td><td>6.244110</td><td>85.063  </td><td>AUS     </td><td>2009    </td><td>GIRL    </td><td>509     </td><td>1       </td></tr>\n",
       "</tbody>\n",
       "</table>\n"
      ],
      "text/latex": [
       "\\begin{tabular}{r|lllllllllllllllllllll}\n",
       "  & index\\_code & expenditure\\_on.\\_education\\_pct\\_gdp & mortality\\_rate\\_infant & gini\\_index & gdp\\_per\\_capita\\_ppp & inflation\\_consumer\\_prices & intentional\\_homicides & unemployment & gross\\_fixed\\_capital\\_formation & population\\_density & ... & tax\\_revenue & taxes\\_on\\_income\\_profits\\_capital & alcohol\\_consumption\\_per\\_capita & government\\_health\\_expenditure\\_pct\\_gdp & urban\\_population\\_pct\\_total & country & time & sex & rating & girl\\_dummy\\\\\n",
       "\\hline\n",
       "\t1 & AUS-2003 & 5.246357 & 4.9      & 33.5     & 30121.82 & 2.732596 & 1.533073 & 5.933    & 26.05029 & 2.567036 & ...      & 24.29997 & 62.72655 & NA       & 5.623778 & 84.343   & AUS      & 2003     & BOY      & 527      & 0       \\\\\n",
       "\t2 & AUS-2003 & 5.246357 & 4.9      & 33.5     & 30121.82 & 2.732596 & 1.533073 & 5.933    & 26.05029 & 2.567036 & ...      & 24.29997 & 62.72655 & NA       & 5.623778 & 84.343   & AUS      & 2003     & GIRL     & 522      & 1       \\\\\n",
       "\t4 & AUS-2006 & 4.738430 & 4.7      & 33.5     & 34846.72 & 3.555288 & 1.372940 & 4.785    & 27.78913 & 2.662089 & ...      & 24.51177 & 65.23156 & NA       & 5.719998 & 84.700   & AUS      & 2006     & BOY      & 527      & 0       \\\\\n",
       "\t5 & AUS-2006 & 4.738430 & 4.7      & 33.5     & 34846.72 & 3.555288 & 1.372940 & 4.785    & 27.78913 & 2.662089 & ...      & 24.51177 & 65.23156 & NA       & 5.719998 & 84.700   & AUS      & 2006     & GIRL     & 513      & 1       \\\\\n",
       "\t7 & AUS-2009 & 5.081320 & 4.2      & 33.5     & 40312.40 & 1.771117 & 1.214170 & 5.565    & 27.60185 & 2.823588 & ...      & 22.02101 & 64.95108 & NA       & 6.244110 & 85.063   & AUS      & 2009     & BOY      & 519      & 0       \\\\\n",
       "\t8 & AUS-2009 & 5.081320 & 4.2      & 33.5     & 40312.40 & 1.771117 & 1.214170 & 5.565    & 27.60185 & 2.823588 & ...      & 22.02101 & 64.95108 & NA       & 6.244110 & 85.063   & AUS      & 2009     & GIRL     & 509      & 1       \\\\\n",
       "\\end{tabular}\n"
      ],
      "text/markdown": [
       "\n",
       "| <!--/--> | index_code | expenditure_on._education_pct_gdp | mortality_rate_infant | gini_index | gdp_per_capita_ppp | inflation_consumer_prices | intentional_homicides | unemployment | gross_fixed_capital_formation | population_density | ... | tax_revenue | taxes_on_income_profits_capital | alcohol_consumption_per_capita | government_health_expenditure_pct_gdp | urban_population_pct_total | country | time | sex | rating | girl_dummy |\n",
       "|---|---|---|---|---|---|---|---|---|---|---|---|---|---|---|---|---|---|---|---|---|---|\n",
       "| 1 | AUS-2003 | 5.246357 | 4.9      | 33.5     | 30121.82 | 2.732596 | 1.533073 | 5.933    | 26.05029 | 2.567036 | ...      | 24.29997 | 62.72655 | NA       | 5.623778 | 84.343   | AUS      | 2003     | BOY      | 527      | 0        |\n",
       "| 2 | AUS-2003 | 5.246357 | 4.9      | 33.5     | 30121.82 | 2.732596 | 1.533073 | 5.933    | 26.05029 | 2.567036 | ...      | 24.29997 | 62.72655 | NA       | 5.623778 | 84.343   | AUS      | 2003     | GIRL     | 522      | 1        |\n",
       "| 4 | AUS-2006 | 4.738430 | 4.7      | 33.5     | 34846.72 | 3.555288 | 1.372940 | 4.785    | 27.78913 | 2.662089 | ...      | 24.51177 | 65.23156 | NA       | 5.719998 | 84.700   | AUS      | 2006     | BOY      | 527      | 0        |\n",
       "| 5 | AUS-2006 | 4.738430 | 4.7      | 33.5     | 34846.72 | 3.555288 | 1.372940 | 4.785    | 27.78913 | 2.662089 | ...      | 24.51177 | 65.23156 | NA       | 5.719998 | 84.700   | AUS      | 2006     | GIRL     | 513      | 1        |\n",
       "| 7 | AUS-2009 | 5.081320 | 4.2      | 33.5     | 40312.40 | 1.771117 | 1.214170 | 5.565    | 27.60185 | 2.823588 | ...      | 22.02101 | 64.95108 | NA       | 6.244110 | 85.063   | AUS      | 2009     | BOY      | 519      | 0        |\n",
       "| 8 | AUS-2009 | 5.081320 | 4.2      | 33.5     | 40312.40 | 1.771117 | 1.214170 | 5.565    | 27.60185 | 2.823588 | ...      | 22.02101 | 64.95108 | NA       | 6.244110 | 85.063   | AUS      | 2009     | GIRL     | 509      | 1        |\n",
       "\n"
      ],
      "text/plain": [
       "  index_code expenditure_on._education_pct_gdp mortality_rate_infant gini_index\n",
       "1 AUS-2003   5.246357                          4.9                   33.5      \n",
       "2 AUS-2003   5.246357                          4.9                   33.5      \n",
       "4 AUS-2006   4.738430                          4.7                   33.5      \n",
       "5 AUS-2006   4.738430                          4.7                   33.5      \n",
       "7 AUS-2009   5.081320                          4.2                   33.5      \n",
       "8 AUS-2009   5.081320                          4.2                   33.5      \n",
       "  gdp_per_capita_ppp inflation_consumer_prices intentional_homicides\n",
       "1 30121.82           2.732596                  1.533073             \n",
       "2 30121.82           2.732596                  1.533073             \n",
       "4 34846.72           3.555288                  1.372940             \n",
       "5 34846.72           3.555288                  1.372940             \n",
       "7 40312.40           1.771117                  1.214170             \n",
       "8 40312.40           1.771117                  1.214170             \n",
       "  unemployment gross_fixed_capital_formation population_density ... tax_revenue\n",
       "1 5.933        26.05029                      2.567036           ... 24.29997   \n",
       "2 5.933        26.05029                      2.567036           ... 24.29997   \n",
       "4 4.785        27.78913                      2.662089           ... 24.51177   \n",
       "5 4.785        27.78913                      2.662089           ... 24.51177   \n",
       "7 5.565        27.60185                      2.823588           ... 22.02101   \n",
       "8 5.565        27.60185                      2.823588           ... 22.02101   \n",
       "  taxes_on_income_profits_capital alcohol_consumption_per_capita\n",
       "1 62.72655                        NA                            \n",
       "2 62.72655                        NA                            \n",
       "4 65.23156                        NA                            \n",
       "5 65.23156                        NA                            \n",
       "7 64.95108                        NA                            \n",
       "8 64.95108                        NA                            \n",
       "  government_health_expenditure_pct_gdp urban_population_pct_total country time\n",
       "1 5.623778                              84.343                     AUS     2003\n",
       "2 5.623778                              84.343                     AUS     2003\n",
       "4 5.719998                              84.700                     AUS     2006\n",
       "5 5.719998                              84.700                     AUS     2006\n",
       "7 6.244110                              85.063                     AUS     2009\n",
       "8 6.244110                              85.063                     AUS     2009\n",
       "  sex  rating girl_dummy\n",
       "1 BOY  527    0         \n",
       "2 GIRL 522    1         \n",
       "4 BOY  527    0         \n",
       "5 GIRL 513    1         \n",
       "7 BOY  519    0         \n",
       "8 GIRL 509    1         "
      ]
     },
     "metadata": {},
     "output_type": "display_data"
    }
   ],
   "source": [
    "# Creating a subset of the data for individuals identified as either BOY or GIRL\n",
    "# Assuming 'data' is your dataframe and it contains a column named 'sex' for gender\n",
    "gender_data_time_series <- data[data$sex == \"BOY\" | data$sex == \"GIRL\", ]\n",
    "\n",
    "# Creating a dummy variable for girls\n",
    "gender_data_time_series$girl_dummy <- ifelse(gender_data_time_series$sex == \"GIRL\", 1, 0)\n",
    "\n",
    "# Display the first few rows of the subset to verify\n",
    "head(gender_data_time_series)\n"
   ]
  },
  {
   "cell_type": "code",
   "execution_count": 174,
   "id": "1e28e213-c8f8-412c-ae30-02f9b2cbe0d9",
   "metadata": {},
   "outputs": [
    {
     "data": {
      "text/plain": [
       "\n",
       "Call:\n",
       "lm(formula = rating ~ girl_dummy, data = gender_data_time_series)\n",
       "\n",
       "Residuals:\n",
       "     Min       1Q   Median       3Q      Max \n",
       "-136.546   -8.248    7.454   23.454   67.966 \n",
       "\n",
       "Coefficients:\n",
       "            Estimate Std. Error t value Pr(>|t|)    \n",
       "(Intercept)  494.148      2.602  189.94  < 2e-16 ***\n",
       "girl_dummy    -9.602      3.679   -2.61  0.00939 ** \n",
       "---\n",
       "Signif. codes:  0 '***' 0.001 '**' 0.01 '*' 0.05 '.' 0.1 ' ' 1\n",
       "\n",
       "Residual standard error: 37.7 on 418 degrees of freedom\n",
       "Multiple R-squared:  0.01603,\tAdjusted R-squared:  0.01368 \n",
       "F-statistic: 6.811 on 1 and 418 DF,  p-value: 0.009386\n"
      ]
     },
     "metadata": {},
     "output_type": "display_data"
    }
   ],
   "source": [
    "# OLS from more years combined\n",
    "ols_gender_time <- lm(rating ~ girl_dummy, gender_data_time_series)\n",
    "# Get the summary of the model\n",
    "summary(ols_gender_time)\n",
    "\n"
   ]
  },
  {
   "cell_type": "code",
   "execution_count": 177,
   "id": "2b34b125-2ad7-4439-bcef-5c0762a76d81",
   "metadata": {},
   "outputs": [
    {
     "data": {
      "image/png": "[encoded data removed]",
      "text/plain": [
       "Plot with title \"Residuals vs. Fitted\""
      ]
     },
     "metadata": {},
     "output_type": "display_data"
    }
   ],
   "source": [
    "# linearity - Plotting the fitted values vs. residuals\n",
    "plot(ols_gender_time$fitted.values, resid(ols_gender_time),\n",
    "     xlab = \"Fitted values\", ylab = \"Residuals\", main = \"Residuals vs. Fitted\")\n",
    "abline(h = 0, col = \"red\")"
   ]
  },
  {
   "cell_type": "code",
   "execution_count": 178,
   "id": "56c247e2-1e75-4112-96df-a13b38cf36c2",
   "metadata": {},
   "outputs": [
    {
     "data": {
      "image/png": "[encoded data removed]",
      "text/plain": [
       "Plot with title \"Residuals vs. Time\""
      ]
     },
     "metadata": {},
     "output_type": "display_data"
    }
   ],
   "source": [
    "#independence of errors\n",
    "plot(gender_data_time_series$time, resid(ols_gender_time),\n",
    "     xlab = \"Time\", ylab = \"Residuals\", main = \"Residuals vs. Time\")"
   ]
  },
  {
   "cell_type": "code",
   "execution_count": 181,
   "id": "900db5d5-7217-4020-ae92-d96657bd1581",
   "metadata": {},
   "outputs": [
    {
     "data": {
      "text/plain": [
       "Non-constant Variance Score Test \n",
       "Variance formula: ~ fitted.values \n",
       "Chisquare = 0.2369695, Df = 1, p = 0.6264"
      ]
     },
     "metadata": {},
     "output_type": "display_data"
    }
   ],
   "source": [
    "# homoscedasticity\n",
    "library(car)\n",
    "ncvTest(ols_gender_time)"
   ]
  },
  {
   "cell_type": "code",
   "execution_count": 182,
   "id": "008df7e8-9d52-4092-837d-a2c516595713",
   "metadata": {},
   "outputs": [
    {
     "data": {
      "image/png": "[encoded data removed]",
      "text/plain": [
       "Plot with title \"Histogram of Residuals\""
      ]
     },
     "metadata": {},
     "output_type": "display_data"
    },
    {
     "data": {
      "image/png": "[encoded data removed]",
      "text/plain": [
       "Plot with title \"Normal Q-Q Plot\""
      ]
     },
     "metadata": {},
     "output_type": "display_data"
    }
   ],
   "source": [
    "# Histogram of residuals\n",
    "hist(resid(ols_gender_time), breaks = \"Scott\", main = \"Histogram of Residuals\", xlab = \"Residuals\")\n",
    "\n",
    "# QQ plot of residuals\n",
    "qqnorm(resid(ols_gender_time))\n",
    "qqline(resid(ols_gender_time))\n",
    "\n"
   ]
  },
  {
   "cell_type": "code",
   "execution_count": 183,
   "id": "0e0008c9-73be-4e01-b4dc-3b84eae4aaf3",
   "metadata": {},
   "outputs": [
    {
     "name": "stdout",
     "output_type": "stream",
     "text": [
      "\n",
      "t test of coefficients:\n",
      "\n",
      "            Estimate Std. Error  t value  Pr(>|t|)    \n",
      "(Intercept) 494.1481     2.5576 193.2102 < 2.2e-16 ***\n",
      "girl_dummy   -9.6020     3.6793  -2.6098  0.009386 ** \n",
      "---\n",
      "Signif. codes:  0 '***' 0.001 '**' 0.01 '*' 0.05 '.' 0.1 ' ' 1\n",
      "\n"
     ]
    }
   ],
   "source": [
    "# White estimator\n",
    "# Load necessary libraries\n",
    "library(sandwich)\n",
    "library(lmtest)\n",
    "\n",
    "# Fit your OLS model (assuming this has already been done)\n",
    "# ols_gender_time <- lm(rating ~ girl_dummy, data = gender_data_time_series)\n",
    "\n",
    "# Calculate robust standard errors using the White estimator\n",
    "robust_se <- vcovHC(ols_gender_time, type = \"HC1\")\n",
    "\n",
    "# Display the summary of the model with robust standard errors\n",
    "summary_robust <- coeftest(ols_gender_time, robust_se)\n",
    "\n",
    "# Print the summary with robust standard errors\n",
    "print(summary_robust)"
   ]
  },
  {
   "cell_type": "code",
   "execution_count": 184,
   "id": "93cc641d-9d3d-4363-9671-f6c4aefc5b51",
   "metadata": {},
   "outputs": [
    {
     "data": {
      "text/plain": [
       "Generalized least squares fit by REML\n",
       "  Model: rating ~ girl_dummy \n",
       "  Data: gender_data_time_series \n",
       "       AIC      BIC    logLik\n",
       "  4239.116 4255.258 -2115.558\n",
       "\n",
       "Variance function:\n",
       " Structure: Different standard deviations per stratum\n",
       " Formula: ~1 | girl_dummy \n",
       " Parameter estimates:\n",
       "       0        1 \n",
       "1.000000 1.034182 \n",
       "\n",
       "Coefficients:\n",
       "               Value Std.Error   t-value p-value\n",
       "(Intercept) 494.1481  2.557559 193.21080  0.0000\n",
       "girl_dummy   -9.6020  3.679271  -2.60976  0.0094\n",
       "\n",
       " Correlation: \n",
       "           (Intr)\n",
       "girl_dummy -0.695\n",
       "\n",
       "Standardized residuals:\n",
       "       Min         Q1        Med         Q3        Max \n",
       "-3.5624334 -0.2206251  0.1944714  0.6192152  1.8338172 \n",
       "\n",
       "Residual standard error: 37.06255 \n",
       "Degrees of freedom: 420 total; 418 residual"
      ]
     },
     "metadata": {},
     "output_type": "display_data"
    }
   ],
   "source": [
    "# FGLS\n",
    "# Load the nlme package\n",
    "library(nlme)\n",
    "\n",
    "# Fit an FGLS model assuming heteroskedastic errors\n",
    "# We use varIdent() to allow different variances per level of a factor\n",
    "# Since you're concerned with gender, we might allow variance to differ by the 'girl_dummy' variable\n",
    "fgls_model <- gls(rating ~ girl_dummy, data = gender_data_time_series,\n",
    "                  weights = varIdent(form = ~ 1 | girl_dummy))\n",
    "\n",
    "# Summary of the FGLS model\n",
    "summary(fgls_model)\n"
   ]
  },
  {
   "cell_type": "code",
   "execution_count": null,
   "id": "36e63ced-b74d-4244-ade4-de45c193b9c0",
   "metadata": {},
   "outputs": [],
   "source": []
  },
  {
   "cell_type": "code",
   "execution_count": null,
   "id": "a0152b44-5756-4992-947a-dd6470f9cfe7",
   "metadata": {},
   "outputs": [],
   "source": []
  },
  {
   "cell_type": "code",
   "execution_count": null,
   "id": "e927c8b8-734e-483d-8108-0d8a46759282",
   "metadata": {},
   "outputs": [],
   "source": []
  },
  {
   "cell_type": "code",
   "execution_count": null,
   "id": "84a4d97e-04f0-409c-a646-91c6b34b14b6",
   "metadata": {},
   "outputs": [],
   "source": []
  },
  {
   "cell_type": "markdown",
   "id": "59139f7a-65ba-406e-8adf-f1c6ef7f5619",
   "metadata": {},
   "source": [
    "## ANALYSIS OF PANEL DATA"
   ]
  },
  {
   "cell_type": "code",
   "execution_count": null,
   "id": "4bc537e3-6816-46ba-9533-9e3801aa92d2",
   "metadata": {},
   "outputs": [],
   "source": []
  },
  {
   "cell_type": "code",
   "execution_count": 170,
   "id": "0c1b6566-8616-4a66-8578-f2a21ddd3023",
   "metadata": {},
   "outputs": [
    {
     "name": "stderr",
     "output_type": "stream",
     "text": [
      "Loading required package: gplots\n",
      "\n",
      "Attaching package: 'gplots'\n",
      "\n",
      "The following object is masked from 'package:stats':\n",
      "\n",
      "    lowess\n",
      "\n",
      "Loading required package: plm\n",
      "Loading required package: Formula\n",
      "Warning message:\n",
      "\"package 'readr' was built under R version 3.6.3\""
     ]
    },
    {
     "ename": "ERROR",
     "evalue": "Error: package or namespace load failed for 'readr' in loadNamespace(j <- i[[1L]], c(lib.loc, .libPaths()), versionCheck = vI[[j]]):\n there is no package called 'hms'\n",
     "output_type": "error",
     "traceback": [
      "Error: package or namespace load failed for 'readr' in loadNamespace(j <- i[[1L]], c(lib.loc, .libPaths()), versionCheck = vI[[j]]):\n there is no package called 'hms'\nTraceback:\n",
      "1. library(readr)",
      "2. tryCatch({\n .     attr(package, \"LibPath\") <- which.lib.loc\n .     ns <- loadNamespace(package, lib.loc)\n .     env <- attachNamespace(ns, pos = pos, deps, exclude, include.only)\n . }, error = function(e) {\n .     P <- if (!is.null(cc <- conditionCall(e))) \n .         paste(\" in\", deparse(cc)[1L])\n .     else \"\"\n .     msg <- gettextf(\"package or namespace load failed for %s%s:\\n %s\", \n .         sQuote(package), P, conditionMessage(e))\n .     if (logical.return) \n .         message(paste(\"Error:\", msg), domain = NA)\n .     else stop(msg, call. = FALSE, domain = NA)\n . })",
      "3. tryCatchList(expr, classes, parentenv, handlers)",
      "4. tryCatchOne(expr, names, parentenv, handlers[[1L]])",
      "5. value[[3L]](cond)",
      "6. stop(msg, call. = FALSE, domain = NA)"
     ]
    }
   ],
   "source": [
    "if (!require(gplots)) install.packages(\"gplots\")\n",
    "if (!require(plm)) install.packages(\"plm\")\n",
    "if (!require(car)) install.packages(\"car\")\n",
    "\n",
    "library(sandwich)\n",
    "library(foreign)\n",
    "library(lmtest)\n",
    "library(plm)\n",
    "library(readr)\n",
    "library(gplots) \n",
    "library(car)\n",
    "\n",
    "library(repr)\n",
    "options(repr.plot.width = 10, repr.plot.height = 8)"
   ]
  },
  {
   "cell_type": "code",
   "execution_count": null,
   "id": "1c8dd8ce-11df-45c5-af31-0efd1df94538",
   "metadata": {},
   "outputs": [],
   "source": [
    "#we have unbalanced panel, oh no - I would like to do both, once drop all countries that cause imbalance once try to fix it somehow\n",
    "pdim(data_f)"
   ]
  },
  {
   "cell_type": "code",
   "execution_count": null,
   "id": "0806ff28-de01-4462-ab78-edbee474e9ea",
   "metadata": {},
   "outputs": [],
   "source": [
    "coplot(rating ~ country|time, type = \"b\", data = data_f)\n",
    "      "
   ]
  },
  {
   "cell_type": "code",
   "execution_count": null,
   "id": "791ddd81-c998-42c0-9576-261440ba1fbf",
   "metadata": {},
   "outputs": [],
   "source": [
    "plot(rating ~ gini_index, data_f)"
   ]
  },
  {
   "cell_type": "code",
   "execution_count": null,
   "id": "af0818c6-f1df-4b30-84c3-4fab636d80d9",
   "metadata": {},
   "outputs": [],
   "source": [
    "# Pooled OLS\n",
    "pols <- plm(rating ~ mortality_rate_infant+\tgini_index+\tinflation_consumer_prices+population_density\n",
    "            +log(suicide_mortality_rate)+log(tax_revenue)+taxes_on_income_profits_capital, data = data_f,\n",
    "           index = c(\"country\", \"time\"), model = \"pooling\")\n",
    "\n",
    "            \n",
    "summary(pols)"
   ]
  },
  {
   "cell_type": "code",
   "execution_count": null,
   "id": "e0e7e9c5-3f4a-40d9-9e95-ad94bd464b16",
   "metadata": {},
   "outputs": [],
   "source": [
    "#pooled OLS with robust standard errors\n",
    "coeftest(pols, vcov = vcovHC(pols, type = \"HC0\", cluster = 'group'))"
   ]
  },
  {
   "cell_type": "code",
   "execution_count": null,
   "id": "1c3d9bdc-c9c6-40c4-9878-b86a2e95bb6b",
   "metadata": {},
   "outputs": [],
   "source": [
    "# lovely how significant, however, we need to chceck the assumptions to know if it is legit to use pooled OLS"
   ]
  },
  {
   "cell_type": "code",
   "execution_count": null,
   "id": "00f70c61-2ed7-49c7-b8a5-12346ab8c604",
   "metadata": {},
   "outputs": [],
   "source": [
    "# Convert data to a panel data frame\n",
    "pdata <- pdata.frame(data_f, index = c(\"country\", \"time\"))\n",
    "head(pdata)"
   ]
  },
  {
   "cell_type": "code",
   "execution_count": 36,
   "id": "7b535077-f6c3-4fb2-b070-7cd4f1e9427c",
   "metadata": {},
   "outputs": [
    {
     "data": {
      "text/plain": [
       "Oneway (individual) effect Within Model\n",
       "\n",
       "Call:\n",
       "plm(formula = rating ~ mortality_rate_infant + gini_index + inflation_consumer_prices + \n",
       "    population_density + log(suicide_mortality_rate) + log(tax_revenue) + \n",
       "    taxes_on_income_profits_capital, data = pdata, model = \"within\")\n",
       "\n",
       "Unbalanced Panel: n = 37, T = 1-6, N = 172\n",
       "\n",
       "Residuals:\n",
       "    Min.  1st Qu.   Median  3rd Qu.     Max. \n",
       "-21.2331  -4.4108   0.3799   4.8188  20.3861 \n",
       "\n",
       "Coefficients:\n",
       "                                 Estimate Std. Error t-value Pr(>|t|)  \n",
       "mortality_rate_infant            0.502861   0.983067  0.5115  0.60987  \n",
       "gini_index                      -1.481656   0.638455 -2.3207  0.02189 *\n",
       "inflation_consumer_prices        0.559815   0.433325  1.2919  0.19872  \n",
       "population_density               0.022759   0.092367  0.2464  0.80577  \n",
       "log(suicide_mortality_rate)      2.479659   6.896282  0.3596  0.71977  \n",
       "log(tax_revenue)                -2.125452  11.880317 -0.1789  0.85829  \n",
       "taxes_on_income_profits_capital -0.244001   0.370812 -0.6580  0.51171  \n",
       "---\n",
       "Signif. codes:  0 '***' 0.001 '**' 0.01 '*' 0.05 '.' 0.1 ' ' 1\n",
       "\n",
       "Total Sum of Squares:    10279\n",
       "Residual Sum of Squares: 9697.7\n",
       "R-Squared:      0.056567\n",
       "Adj. R-Squared: -0.26037\n",
       "F-statistic: 1.09638 on 7 and 128 DF, p-value: 0.36943"
      ]
     },
     "metadata": {},
     "output_type": "display_data"
    }
   ],
   "source": [
    "#Let's first assume that the heterogeneity is correlated to the explanatory variables.\n",
    "#Run the fixed effects model\n",
    "fe_model <- plm(rating ~ mortality_rate_infant+\tgini_index+\tinflation_consumer_prices+population_density\n",
    "            +log(suicide_mortality_rate)+log(tax_revenue)+taxes_on_income_profits_capital, data =pdata, model = \"within\")\n",
    "\n",
    "# Summary of the model\n",
    "summary(fe_model)"
   ]
  },
  {
   "cell_type": "code",
   "execution_count": 37,
   "id": "3a332664-439d-4e0c-b7ad-04e9b6753869",
   "metadata": {},
   "outputs": [
    {
     "data": {
      "text/plain": [
       "\n",
       "Call:\n",
       "lm(formula = rating ~ mortality_rate_infant + gini_index + inflation_consumer_prices + \n",
       "    population_density + log(suicide_mortality_rate) + log(tax_revenue) + \n",
       "    taxes_on_income_profits_capital - 1, data = data_f)\n",
       "\n",
       "Residuals:\n",
       "    Min      1Q  Median      3Q     Max \n",
       "-96.036 -23.767  -3.074  26.723  84.380 \n",
       "\n",
       "Coefficients:\n",
       "                                Estimate Std. Error t value Pr(>|t|)    \n",
       "mortality_rate_infant           -1.29040    1.68925  -0.764  0.44597    \n",
       "gini_index                       2.31451    0.56088   4.127 5.71e-05 ***\n",
       "inflation_consumer_prices        1.01833    1.47311   0.691  0.49032    \n",
       "population_density               0.08052    0.02217   3.632  0.00037 ***\n",
       "log(suicide_mortality_rate)     71.37729    5.03632  14.173  < 2e-16 ***\n",
       "log(tax_revenue)                71.43715    6.23862  11.451  < 2e-16 ***\n",
       "taxes_on_income_profits_capital  0.61627    0.21844   2.821  0.00534 ** \n",
       "---\n",
       "Signif. codes:  0 '***' 0.001 '**' 0.01 '*' 0.05 '.' 0.1 ' ' 1\n",
       "\n",
       "Residual standard error: 36.65 on 173 degrees of freedom\n",
       "  (34 observations deleted due to missingness)\n",
       "Multiple R-squared:  0.9947,\tAdjusted R-squared:  0.9944 \n",
       "F-statistic:  4607 on 7 and 173 DF,  p-value: < 2.2e-16\n"
      ]
     },
     "metadata": {},
     "output_type": "display_data"
    }
   ],
   "source": [
    "#Estimate fixed effects model using Least Square Dummy Variable (LSDV) and Within model.\n",
    "lsdv <- lm(rating ~ mortality_rate_infant+\tgini_index+\tinflation_consumer_prices+population_density\n",
    "            +log(suicide_mortality_rate)+log(tax_revenue)+taxes_on_income_profits_capital-1 , data = data_f)\n",
    "summary(lsdv)"
   ]
  },
  {
   "cell_type": "code",
   "execution_count": 38,
   "id": "fcb4ea25-83e7-4e68-af74-b376b1a15490",
   "metadata": {},
   "outputs": [
    {
     "data": {
      "text/plain": [
       "\n",
       "\tF test for individual effects\n",
       "\n",
       "data:  rating ~ mortality_rate_infant + gini_index + inflation_consumer_prices +  ...\n",
       "F = 10.66, df1 = 36, df2 = 128, p-value < 2.2e-16\n",
       "alternative hypothesis: significant effects\n"
      ]
     },
     "metadata": {},
     "output_type": "display_data"
    }
   ],
   "source": [
    "pFtest(fe_model, pols)\n",
    "#we have found significant fixed effects!"
   ]
  },
  {
   "cell_type": "code",
   "execution_count": 39,
   "id": "d7f42e0f-48ba-4a47-b62b-2bb9041e820c",
   "metadata": {},
   "outputs": [
    {
     "name": "stdout",
     "output_type": "stream",
     "text": [
      "'data.frame':\t214 obs. of  20 variables:\n",
      " $ index_code                           : Factor w/ 214 levels \"AUS-2003\",\"AUS-2006\",..: 1 2 3 4 5 6 7 8 9 10 ...\n",
      " $ educ_exp                             : num  5.25 4.74 5.08 4.87 5.32 ...\n",
      " $ mortality_rate_infant                : num  4.9 4.7 4.2 3.6 3.3 3.2 4.3 3.9 3.3 3 ...\n",
      " $ gini_index                           : num  33.5 33.5 33.5 33.5 33.5 34.3 29.5 29.6 30.5 30.5 ...\n",
      " $ gdp_per_capita_ppp                   : num  30122 34847 40312 42867 46292 ...\n",
      " $ inflation_consumer_prices            : num  2.73 3.56 1.77 1.76 1.51 ...\n",
      " $ intentional_homicides                : num  1.533 1.373 1.214 1.069 0.991 ...\n",
      " $ unemployment                         : num  5.93 4.79 5.57 5.22 6.05 ...\n",
      " $ gross_fixed_capital_formation        : num  26.1 27.8 27.6 27.4 26.2 ...\n",
      " $ population_density                   : num  2.57 2.66 2.82 2.96 3.1 ...\n",
      " $ suicide_mortality_rate               : num  10.5 10.6 11.2 11.7 13.2 12.4 18.2 16.4 16.3 16 ...\n",
      " $ tax_revenue                          : num  24.3 24.5 22 21.1 21.9 ...\n",
      " $ taxes_on_income_profits_capital      : num  62.7 65.2 65 65.5 64.9 ...\n",
      " $ alcohol_consumption_per_capita       : num  NA NA NA NA 10.4 ...\n",
      " $ government_health_expenditure_pct_gdp: num  5.62 5.72 6.24 6.18 7.23 ...\n",
      " $ urban_population_pct_total           : num  84.3 84.7 85.1 85.4 85.7 ...\n",
      " $ country                              : Factor w/ 39 levels \"AUS\",\"AUT\",\"BEL\",..: 1 1 1 1 1 1 2 2 2 2 ...\n",
      " $ time                                 : num  2003 2006 2009 2012 2015 ...\n",
      " $ sex                                  : Factor w/ 3 levels \"BOY\",\"GIRL\",\"TOT\": 3 3 3 3 3 3 3 3 3 3 ...\n",
      " $ rating                               : num  524 520 514 504 494 491 506 505 506 497 ...\n"
     ]
    },
    {
     "data": {
      "text/plain": [
       "    index_code     educ_exp     mortality_rate_infant   gini_index   \n",
       " AUS-2003:  1   Min.   :3.040   Min.   : 1.900        Min.   :24.40  \n",
       " AUS-2006:  1   1st Qu.:4.461   1st Qu.: 3.000        1st Qu.:28.12  \n",
       " AUS-2009:  1   Median :5.058   Median : 3.700        Median :32.70  \n",
       " AUS-2012:  1   Mean   :5.237   Mean   : 5.062        Mean   :33.41  \n",
       " AUS-2015:  1   3rd Qu.:5.796   3rd Qu.: 5.100        3rd Qu.:35.20  \n",
       " AUS-2018:  1   Max.   :8.449   Max.   :25.300        Max.   :57.60  \n",
       " (Other) :208   NA's   :12                            NA's   :24     \n",
       " gdp_per_capita_ppp inflation_consumer_prices intentional_homicides\n",
       " Min.   :  9588     Min.   :-4.4781           Min.   : 0.0000      \n",
       " 1st Qu.: 26081     1st Qu.: 0.7999           1st Qu.: 0.8336      \n",
       " Median : 34306     Median : 1.9801           Median : 1.0955      \n",
       " Mean   : 36177     Mean   : 2.3008           Mean   : 3.1191      \n",
       " 3rd Qu.: 42994     3rd Qu.: 2.9912           3rd Qu.: 1.8424      \n",
       " Max.   :116499     Max.   :21.6024           Max.   :29.5814      \n",
       "                                              NA's   :27           \n",
       "  unemployment    gross_fixed_capital_formation population_density\n",
       " Min.   : 2.246   Min.   :10.77                 Min.   :  2.567   \n",
       " 1st Qu.: 4.893   1st Qu.:20.21                 1st Qu.: 30.426   \n",
       " Median : 6.843   Median :22.45                 Median :101.873   \n",
       " Mean   : 7.644   Mean   :22.51                 Mean   :133.327   \n",
       " 3rd Qu.: 9.334   3rd Qu.:24.30                 3rd Qu.:192.363   \n",
       " Max.   :24.981   Max.   :36.80                 Max.   :528.969   \n",
       "                                                                  \n",
       " suicide_mortality_rate  tax_revenue     taxes_on_income_profits_capital\n",
       " Min.   : 2.200         Min.   : 7.904   Min.   : 7.173                 \n",
       " 1st Qu.: 9.675         1st Qu.:15.527   1st Qu.:17.681                 \n",
       " Median :12.900         Median :20.952   Median :25.384                 \n",
       " Mean   :13.584         Mean   :20.120   Mean   :27.827                 \n",
       " 3rd Qu.:16.925         3rd Qu.:24.172   3rd Qu.:34.129                 \n",
       " Max.   :34.200         Max.   :33.922   Max.   :65.517                 \n",
       "                        NA's   :16       NA's   :16                     \n",
       " alcohol_consumption_per_capita government_health_expenditure_pct_gdp\n",
       " Min.   : 1.895                 Min.   :2.414                        \n",
       " 1st Qu.: 7.848                 1st Qu.:4.474                        \n",
       " Median : 9.917                 Median :6.045                        \n",
       " Mean   : 9.453                 Mean   :5.939                        \n",
       " 3rd Qu.:11.463                 3rd Qu.:7.383                        \n",
       " Max.   :15.059                 Max.   :9.276                        \n",
       " NA's   :177                                                         \n",
       " urban_population_pct_total    country         time        sex     \n",
       " Min.   :51.76              AUS    :  6   Min.   :2003   BOY :  0  \n",
       " 1st Qu.:68.73              BEL    :  6   1st Qu.:2006   GIRL:  0  \n",
       " Median :79.63              BRA    :  6   Median :2012   TOT :214  \n",
       " Mean   :77.35              CAN    :  6   Mean   :2011             \n",
       " 3rd Qu.:85.68              CHE    :  6   3rd Qu.:2015             \n",
       " Max.   :98.00              CZE    :  6   Max.   :2018             \n",
       "                            (Other):178                            \n",
       "     rating     \n",
       " Min.   :356.0  \n",
       " 1st Qu.:482.0  \n",
       " Median :495.0  \n",
       " Mean   :489.2  \n",
       " 3rd Qu.:512.8  \n",
       " Max.   :554.0  \n",
       "                "
      ]
     },
     "metadata": {},
     "output_type": "display_data"
    }
   ],
   "source": [
    "#let us also try first-differences TBD!!! - I assume for that we will need two time periods\n",
    "# Check for missing values in index variables\n",
    "#table(is.na(data_f$country), useNA = \"ifany\")\n",
    "#table(is.na(data_f$time), useNA = \"ifany\")\n",
    "\n",
    "# Optionally, remove rows where index variables are NA\n",
    "#data_f <- na.omit(data_f, cols = c(\"country\", \"time\"))\n",
    "\n",
    "# Convert to pdata.frame again\n",
    "#pdata <- pdata.frame(data_f, index = c(\"country\", \"time\"))\n",
    "\n",
    "# Check for NA values in all columns\n",
    "#colSums(is.na(data_f))\n",
    "\n",
    "# Check the structure of the data\n",
    "str(data_f)\n",
    "summary(data_f)"
   ]
  },
  {
   "cell_type": "code",
   "execution_count": 40,
   "id": "ff0e7a0d-c7ec-47f8-b017-2d751a1b2725",
   "metadata": {},
   "outputs": [
    {
     "ename": "ERROR",
     "evalue": "Error in plm.fit(object, data, model = models[1], effect = effect): empty model\n",
     "output_type": "error",
     "traceback": [
      "Error in plm.fit(object, data, model = models[1], effect = effect): empty model\nTraceback:\n",
      "1. plm(rating ~ mortality_rate_infant + inflation_consumer_prices + \n .     population_density + log(suicide_mortality_rate) + log(tax_revenue) + \n .     taxes_on_income_profits_capital, data = data_clean, model = \"random\", \n .     effect = \"individual\")",
      "2. plm.fit(formula, data, model, effect, random.method, random.models, \n .     random.dfcor, inst.method)",
      "3. ercomp(formula, data, effect, method = random.method, models = random.models, \n .     dfcor = random.dfcor)",
      "4. ercomp.formula(formula, data, effect, method = random.method, \n .     models = random.models, dfcor = random.dfcor)",
      "5. plm.fit(object, data, model = models[1], effect = effect)",
      "6. stop(\"empty model\")"
     ]
    }
   ],
   "source": [
    "# We need to get rid of NAs to use RE, this is obviously problematic given our smaller sample size\n",
    "# Load the data\n",
    "dataRE = data_f\n",
    "\n",
    "# Remove rows with any missing values\n",
    "data_clean <- na.omit(dataRE)\n",
    "\n",
    "# Now you can run your plm model on this cleaned dataset\n",
    "rem <- plm(rating ~ mortality_rate_infant + inflation_consumer_prices + \n",
    "           population_density + log(suicide_mortality_rate) + log(tax_revenue) + \n",
    "           taxes_on_income_profits_capital, \n",
    "           data = data_clean, model = \"random\", effect = 'individual')\n",
    "summary(rem)\n"
   ]
  },
  {
   "cell_type": "code",
   "execution_count": 41,
   "id": "a44fc00f-389f-4875-9356-e589a766c137",
   "metadata": {},
   "outputs": [
    {
     "data": {
      "text/html": [
       "<dl class=dl-horizontal>\n",
       "\t<dt>index_code</dt>\n",
       "\t\t<dd>31</dd>\n",
       "\t<dt>educ_exp</dt>\n",
       "\t\t<dd>31</dd>\n",
       "\t<dt>mortality_rate_infant</dt>\n",
       "\t\t<dd>23</dd>\n",
       "\t<dt>gini_index</dt>\n",
       "\t\t<dd>29</dd>\n",
       "\t<dt>gdp_per_capita_ppp</dt>\n",
       "\t\t<dd>31</dd>\n",
       "\t<dt>inflation_consumer_prices</dt>\n",
       "\t\t<dd>31</dd>\n",
       "\t<dt>intentional_homicides</dt>\n",
       "\t\t<dd>31</dd>\n",
       "\t<dt>unemployment</dt>\n",
       "\t\t<dd>31</dd>\n",
       "\t<dt>gross_fixed_capital_formation</dt>\n",
       "\t\t<dd>31</dd>\n",
       "\t<dt>population_density</dt>\n",
       "\t\t<dd>31</dd>\n",
       "\t<dt>suicide_mortality_rate</dt>\n",
       "\t\t<dd>29</dd>\n",
       "\t<dt>tax_revenue</dt>\n",
       "\t\t<dd>31</dd>\n",
       "\t<dt>taxes_on_income_profits_capital</dt>\n",
       "\t\t<dd>31</dd>\n",
       "\t<dt>alcohol_consumption_per_capita</dt>\n",
       "\t\t<dd>31</dd>\n",
       "\t<dt>government_health_expenditure_pct_gdp</dt>\n",
       "\t\t<dd>31</dd>\n",
       "\t<dt>urban_population_pct_total</dt>\n",
       "\t\t<dd>31</dd>\n",
       "\t<dt>country</dt>\n",
       "\t\t<dd>31</dd>\n",
       "\t<dt>time</dt>\n",
       "\t\t<dd>1</dd>\n",
       "\t<dt>sex</dt>\n",
       "\t\t<dd>1</dd>\n",
       "\t<dt>rating</dt>\n",
       "\t\t<dd>25</dd>\n",
       "</dl>\n"
      ],
      "text/latex": [
       "\\begin{description*}\n",
       "\\item[index\\textbackslash{}\\_code] 31\n",
       "\\item[educ\\textbackslash{}\\_exp] 31\n",
       "\\item[mortality\\textbackslash{}\\_rate\\textbackslash{}\\_infant] 23\n",
       "\\item[gini\\textbackslash{}\\_index] 29\n",
       "\\item[gdp\\textbackslash{}\\_per\\textbackslash{}\\_capita\\textbackslash{}\\_ppp] 31\n",
       "\\item[inflation\\textbackslash{}\\_consumer\\textbackslash{}\\_prices] 31\n",
       "\\item[intentional\\textbackslash{}\\_homicides] 31\n",
       "\\item[unemployment] 31\n",
       "\\item[gross\\textbackslash{}\\_fixed\\textbackslash{}\\_capital\\textbackslash{}\\_formation] 31\n",
       "\\item[population\\textbackslash{}\\_density] 31\n",
       "\\item[suicide\\textbackslash{}\\_mortality\\textbackslash{}\\_rate] 29\n",
       "\\item[tax\\textbackslash{}\\_revenue] 31\n",
       "\\item[taxes\\textbackslash{}\\_on\\textbackslash{}\\_income\\textbackslash{}\\_profits\\textbackslash{}\\_capital] 31\n",
       "\\item[alcohol\\textbackslash{}\\_consumption\\textbackslash{}\\_per\\textbackslash{}\\_capita] 31\n",
       "\\item[government\\textbackslash{}\\_health\\textbackslash{}\\_expenditure\\textbackslash{}\\_pct\\textbackslash{}\\_gdp] 31\n",
       "\\item[urban\\textbackslash{}\\_population\\textbackslash{}\\_pct\\textbackslash{}\\_total] 31\n",
       "\\item[country] 31\n",
       "\\item[time] 1\n",
       "\\item[sex] 1\n",
       "\\item[rating] 25\n",
       "\\end{description*}\n"
      ],
      "text/markdown": [
       "index_code\n",
       ":   31educ_exp\n",
       ":   31mortality_rate_infant\n",
       ":   23gini_index\n",
       ":   29gdp_per_capita_ppp\n",
       ":   31inflation_consumer_prices\n",
       ":   31intentional_homicides\n",
       ":   31unemployment\n",
       ":   31gross_fixed_capital_formation\n",
       ":   31population_density\n",
       ":   31suicide_mortality_rate\n",
       ":   29tax_revenue\n",
       ":   31taxes_on_income_profits_capital\n",
       ":   31alcohol_consumption_per_capita\n",
       ":   31government_health_expenditure_pct_gdp\n",
       ":   31urban_population_pct_total\n",
       ":   31country\n",
       ":   31time\n",
       ":   1sex\n",
       ":   1rating\n",
       ":   25\n",
       "\n"
      ],
      "text/plain": [
       "                           index_code                              educ_exp \n",
       "                                   31                                    31 \n",
       "                mortality_rate_infant                            gini_index \n",
       "                                   23                                    29 \n",
       "                   gdp_per_capita_ppp             inflation_consumer_prices \n",
       "                                   31                                    31 \n",
       "                intentional_homicides                          unemployment \n",
       "                                   31                                    31 \n",
       "        gross_fixed_capital_formation                    population_density \n",
       "                                   31                                    31 \n",
       "               suicide_mortality_rate                           tax_revenue \n",
       "                                   29                                    31 \n",
       "      taxes_on_income_profits_capital        alcohol_consumption_per_capita \n",
       "                                   31                                    31 \n",
       "government_health_expenditure_pct_gdp            urban_population_pct_total \n",
       "                                   31                                    31 \n",
       "                              country                                  time \n",
       "                                   31                                     1 \n",
       "                                  sex                                rating \n",
       "                                    1                                    25 "
      ]
     },
     "metadata": {},
     "output_type": "display_data"
    },
    {
     "data": {
      "text/html": [
       "<table>\n",
       "<thead><tr><th></th><th scope=col>index_code</th><th scope=col>educ_exp</th><th scope=col>mortality_rate_infant</th><th scope=col>gini_index</th><th scope=col>gdp_per_capita_ppp</th><th scope=col>inflation_consumer_prices</th><th scope=col>intentional_homicides</th><th scope=col>unemployment</th><th scope=col>gross_fixed_capital_formation</th><th scope=col>population_density</th><th scope=col>suicide_mortality_rate</th><th scope=col>tax_revenue</th><th scope=col>taxes_on_income_profits_capital</th><th scope=col>alcohol_consumption_per_capita</th><th scope=col>government_health_expenditure_pct_gdp</th><th scope=col>urban_population_pct_total</th><th scope=col>country</th><th scope=col>time</th><th scope=col>sex</th><th scope=col>rating</th></tr></thead>\n",
       "<tbody>\n",
       "\t<tr><th scope=row>15</th><td>AUS-2015  </td><td>5.31552   </td><td> 3.3      </td><td>33.5      </td><td>46292.10  </td><td>1.5083667 </td><td> 0.9907542</td><td>6.055     </td><td>26.20234  </td><td>  3.100113</td><td>13.2      </td><td>21.86642  </td><td>64.89343  </td><td>10.39030  </td><td>7.234067  </td><td>85.701    </td><td>AUS       </td><td>2015      </td><td>TOT       </td><td>494       </td></tr>\n",
       "\t<tr><th scope=row>30</th><td>AUT-2015  </td><td>5.45658   </td><td> 3.0      </td><td>30.5      </td><td>49865.90  </td><td>0.8965633 </td><td> 0.5091166</td><td>5.802     </td><td>22.69671  </td><td>104.734598</td><td>16.0      </td><td>26.82617  </td><td>28.70780  </td><td>12.19174  </td><td>7.511853  </td><td>57.715    </td><td>AUT       </td><td>2015      </td><td>TOT       </td><td>497       </td></tr>\n",
       "\t<tr><th scope=row>66</th><td>CAN-2015  </td><td>4.73938   </td><td> 4.7      </td><td>33.7      </td><td>44670.08  </td><td>1.1252414 </td><td> 1.7099458</td><td>6.945     </td><td>23.85058  </td><td>  3.982215</td><td>13.0      </td><td>12.38981  </td><td>54.01114  </td><td> 9.91687  </td><td>7.591099  </td><td>81.259    </td><td>CAN       </td><td>2015      </td><td>TOT       </td><td>516       </td></tr>\n",
       "\t<tr><th scope=row>81</th><td>CHL-2015  </td><td>4.90390   </td><td> 6.8      </td><td>44.4      </td><td>22691.49  </td><td>4.3487735 </td><td> 2.3446955</td><td>6.491     </td><td>25.47037  </td><td> 24.034102</td><td>10.0      </td><td>17.54608  </td><td>29.82996  </td><td> 7.75342  </td><td>3.986681  </td><td>87.360    </td><td>CHL       </td><td>2015      </td><td>TOT       </td><td>423       </td></tr>\n",
       "\t<tr><th scope=row>85</th><td>COL-2015  </td><td>4.47039   </td><td>13.4      </td><td>51.0      </td><td>13378.68  </td><td>4.9898312 </td><td>27.1287644</td><td>8.572     </td><td>23.37478  </td><td> 42.469336</td><td> 4.1      </td><td>15.79726  </td><td>24.96492  </td><td> 5.01742  </td><td>5.328892  </td><td>79.764    </td><td>COL       </td><td>2015      </td><td>TOT       </td><td>390       </td></tr>\n",
       "\t<tr><th scope=row>108</th><td>CZE-2015  </td><td>5.75182   </td><td> 2.5      </td><td>25.9      </td><td>33899.29  </td><td>0.3093645 </td><td> 0.8362001</td><td>5.048     </td><td>26.53805  </td><td>136.589289</td><td>13.6      </td><td>14.76956  </td><td>14.90199  </td><td>13.21968  </td><td>5.917825  </td><td>73.477    </td><td>CZE       </td><td>2015      </td><td>TOT       </td><td>492       </td></tr>\n",
       "</tbody>\n",
       "</table>\n"
      ],
      "text/latex": [
       "\\begin{tabular}{r|llllllllllllllllllll}\n",
       "  & index\\_code & educ\\_exp & mortality\\_rate\\_infant & gini\\_index & gdp\\_per\\_capita\\_ppp & inflation\\_consumer\\_prices & intentional\\_homicides & unemployment & gross\\_fixed\\_capital\\_formation & population\\_density & suicide\\_mortality\\_rate & tax\\_revenue & taxes\\_on\\_income\\_profits\\_capital & alcohol\\_consumption\\_per\\_capita & government\\_health\\_expenditure\\_pct\\_gdp & urban\\_population\\_pct\\_total & country & time & sex & rating\\\\\n",
       "\\hline\n",
       "\t15 & AUS-2015   & 5.31552    &  3.3       & 33.5       & 46292.10   & 1.5083667  &  0.9907542 & 6.055      & 26.20234   &   3.100113 & 13.2       & 21.86642   & 64.89343   & 10.39030   & 7.234067   & 85.701     & AUS        & 2015       & TOT        & 494       \\\\\n",
       "\t30 & AUT-2015   & 5.45658    &  3.0       & 30.5       & 49865.90   & 0.8965633  &  0.5091166 & 5.802      & 22.69671   & 104.734598 & 16.0       & 26.82617   & 28.70780   & 12.19174   & 7.511853   & 57.715     & AUT        & 2015       & TOT        & 497       \\\\\n",
       "\t66 & CAN-2015   & 4.73938    &  4.7       & 33.7       & 44670.08   & 1.1252414  &  1.7099458 & 6.945      & 23.85058   &   3.982215 & 13.0       & 12.38981   & 54.01114   &  9.91687   & 7.591099   & 81.259     & CAN        & 2015       & TOT        & 516       \\\\\n",
       "\t81 & CHL-2015   & 4.90390    &  6.8       & 44.4       & 22691.49   & 4.3487735  &  2.3446955 & 6.491      & 25.47037   &  24.034102 & 10.0       & 17.54608   & 29.82996   &  7.75342   & 3.986681   & 87.360     & CHL        & 2015       & TOT        & 423       \\\\\n",
       "\t85 & COL-2015   & 4.47039    & 13.4       & 51.0       & 13378.68   & 4.9898312  & 27.1287644 & 8.572      & 23.37478   &  42.469336 &  4.1       & 15.79726   & 24.96492   &  5.01742   & 5.328892   & 79.764     & COL        & 2015       & TOT        & 390       \\\\\n",
       "\t108 & CZE-2015   & 5.75182    &  2.5       & 25.9       & 33899.29   & 0.3093645  &  0.8362001 & 5.048      & 26.53805   & 136.589289 & 13.6       & 14.76956   & 14.90199   & 13.21968   & 5.917825   & 73.477     & CZE        & 2015       & TOT        & 492       \\\\\n",
       "\\end{tabular}\n"
      ],
      "text/markdown": [
       "\n",
       "| <!--/--> | index_code | educ_exp | mortality_rate_infant | gini_index | gdp_per_capita_ppp | inflation_consumer_prices | intentional_homicides | unemployment | gross_fixed_capital_formation | population_density | suicide_mortality_rate | tax_revenue | taxes_on_income_profits_capital | alcohol_consumption_per_capita | government_health_expenditure_pct_gdp | urban_population_pct_total | country | time | sex | rating |\n",
       "|---|---|---|---|---|---|---|---|---|---|---|---|---|---|---|---|---|---|---|---|---|\n",
       "| 15 | AUS-2015   | 5.31552    |  3.3       | 33.5       | 46292.10   | 1.5083667  |  0.9907542 | 6.055      | 26.20234   |   3.100113 | 13.2       | 21.86642   | 64.89343   | 10.39030   | 7.234067   | 85.701     | AUS        | 2015       | TOT        | 494        |\n",
       "| 30 | AUT-2015   | 5.45658    |  3.0       | 30.5       | 49865.90   | 0.8965633  |  0.5091166 | 5.802      | 22.69671   | 104.734598 | 16.0       | 26.82617   | 28.70780   | 12.19174   | 7.511853   | 57.715     | AUT        | 2015       | TOT        | 497        |\n",
       "| 66 | CAN-2015   | 4.73938    |  4.7       | 33.7       | 44670.08   | 1.1252414  |  1.7099458 | 6.945      | 23.85058   |   3.982215 | 13.0       | 12.38981   | 54.01114   |  9.91687   | 7.591099   | 81.259     | CAN        | 2015       | TOT        | 516        |\n",
       "| 81 | CHL-2015   | 4.90390    |  6.8       | 44.4       | 22691.49   | 4.3487735  |  2.3446955 | 6.491      | 25.47037   |  24.034102 | 10.0       | 17.54608   | 29.82996   |  7.75342   | 3.986681   | 87.360     | CHL        | 2015       | TOT        | 423        |\n",
       "| 85 | COL-2015   | 4.47039    | 13.4       | 51.0       | 13378.68   | 4.9898312  | 27.1287644 | 8.572      | 23.37478   |  42.469336 |  4.1       | 15.79726   | 24.96492   |  5.01742   | 5.328892   | 79.764     | COL        | 2015       | TOT        | 390        |\n",
       "| 108 | CZE-2015   | 5.75182    |  2.5       | 25.9       | 33899.29   | 0.3093645  |  0.8362001 | 5.048      | 26.53805   | 136.589289 | 13.6       | 14.76956   | 14.90199   | 13.21968   | 5.917825   | 73.477     | CZE        | 2015       | TOT        | 492        |\n",
       "\n"
      ],
      "text/plain": [
       "    index_code educ_exp mortality_rate_infant gini_index gdp_per_capita_ppp\n",
       "15  AUS-2015   5.31552   3.3                  33.5       46292.10          \n",
       "30  AUT-2015   5.45658   3.0                  30.5       49865.90          \n",
       "66  CAN-2015   4.73938   4.7                  33.7       44670.08          \n",
       "81  CHL-2015   4.90390   6.8                  44.4       22691.49          \n",
       "85  COL-2015   4.47039  13.4                  51.0       13378.68          \n",
       "108 CZE-2015   5.75182   2.5                  25.9       33899.29          \n",
       "    inflation_consumer_prices intentional_homicides unemployment\n",
       "15  1.5083667                  0.9907542            6.055       \n",
       "30  0.8965633                  0.5091166            5.802       \n",
       "66  1.1252414                  1.7099458            6.945       \n",
       "81  4.3487735                  2.3446955            6.491       \n",
       "85  4.9898312                 27.1287644            8.572       \n",
       "108 0.3093645                  0.8362001            5.048       \n",
       "    gross_fixed_capital_formation population_density suicide_mortality_rate\n",
       "15  26.20234                        3.100113         13.2                  \n",
       "30  22.69671                      104.734598         16.0                  \n",
       "66  23.85058                        3.982215         13.0                  \n",
       "81  25.47037                       24.034102         10.0                  \n",
       "85  23.37478                       42.469336          4.1                  \n",
       "108 26.53805                      136.589289         13.6                  \n",
       "    tax_revenue taxes_on_income_profits_capital alcohol_consumption_per_capita\n",
       "15  21.86642    64.89343                        10.39030                      \n",
       "30  26.82617    28.70780                        12.19174                      \n",
       "66  12.38981    54.01114                         9.91687                      \n",
       "81  17.54608    29.82996                         7.75342                      \n",
       "85  15.79726    24.96492                         5.01742                      \n",
       "108 14.76956    14.90199                        13.21968                      \n",
       "    government_health_expenditure_pct_gdp urban_population_pct_total country\n",
       "15  7.234067                              85.701                     AUS    \n",
       "30  7.511853                              57.715                     AUT    \n",
       "66  7.591099                              81.259                     CAN    \n",
       "81  3.986681                              87.360                     CHL    \n",
       "85  5.328892                              79.764                     COL    \n",
       "108 5.917825                              73.477                     CZE    \n",
       "    time sex rating\n",
       "15  2015 TOT 494   \n",
       "30  2015 TOT 497   \n",
       "66  2015 TOT 516   \n",
       "81  2015 TOT 423   \n",
       "85  2015 TOT 390   \n",
       "108 2015 TOT 492   "
      ]
     },
     "metadata": {},
     "output_type": "display_data"
    },
    {
     "data": {
      "text/html": [
       "<ol class=list-inline>\n",
       "\t<li>'index_code'</li>\n",
       "\t<li>'educ_exp'</li>\n",
       "\t<li>'mortality_rate_infant'</li>\n",
       "\t<li>'gini_index'</li>\n",
       "\t<li>'gdp_per_capita_ppp'</li>\n",
       "\t<li>'inflation_consumer_prices'</li>\n",
       "\t<li>'intentional_homicides'</li>\n",
       "\t<li>'unemployment'</li>\n",
       "\t<li>'gross_fixed_capital_formation'</li>\n",
       "\t<li>'population_density'</li>\n",
       "\t<li>'suicide_mortality_rate'</li>\n",
       "\t<li>'tax_revenue'</li>\n",
       "\t<li>'taxes_on_income_profits_capital'</li>\n",
       "\t<li>'alcohol_consumption_per_capita'</li>\n",
       "\t<li>'government_health_expenditure_pct_gdp'</li>\n",
       "\t<li>'urban_population_pct_total'</li>\n",
       "\t<li>'country'</li>\n",
       "\t<li>'time'</li>\n",
       "\t<li>'sex'</li>\n",
       "\t<li>'rating'</li>\n",
       "</ol>\n"
      ],
      "text/latex": [
       "\\begin{enumerate*}\n",
       "\\item 'index\\_code'\n",
       "\\item 'educ\\_exp'\n",
       "\\item 'mortality\\_rate\\_infant'\n",
       "\\item 'gini\\_index'\n",
       "\\item 'gdp\\_per\\_capita\\_ppp'\n",
       "\\item 'inflation\\_consumer\\_prices'\n",
       "\\item 'intentional\\_homicides'\n",
       "\\item 'unemployment'\n",
       "\\item 'gross\\_fixed\\_capital\\_formation'\n",
       "\\item 'population\\_density'\n",
       "\\item 'suicide\\_mortality\\_rate'\n",
       "\\item 'tax\\_revenue'\n",
       "\\item 'taxes\\_on\\_income\\_profits\\_capital'\n",
       "\\item 'alcohol\\_consumption\\_per\\_capita'\n",
       "\\item 'government\\_health\\_expenditure\\_pct\\_gdp'\n",
       "\\item 'urban\\_population\\_pct\\_total'\n",
       "\\item 'country'\n",
       "\\item 'time'\n",
       "\\item 'sex'\n",
       "\\item 'rating'\n",
       "\\end{enumerate*}\n"
      ],
      "text/markdown": [
       "1. 'index_code'\n",
       "2. 'educ_exp'\n",
       "3. 'mortality_rate_infant'\n",
       "4. 'gini_index'\n",
       "5. 'gdp_per_capita_ppp'\n",
       "6. 'inflation_consumer_prices'\n",
       "7. 'intentional_homicides'\n",
       "8. 'unemployment'\n",
       "9. 'gross_fixed_capital_formation'\n",
       "10. 'population_density'\n",
       "11. 'suicide_mortality_rate'\n",
       "12. 'tax_revenue'\n",
       "13. 'taxes_on_income_profits_capital'\n",
       "14. 'alcohol_consumption_per_capita'\n",
       "15. 'government_health_expenditure_pct_gdp'\n",
       "16. 'urban_population_pct_total'\n",
       "17. 'country'\n",
       "18. 'time'\n",
       "19. 'sex'\n",
       "20. 'rating'\n",
       "\n",
       "\n"
      ],
      "text/plain": [
       " [1] \"index_code\"                           \n",
       " [2] \"educ_exp\"                             \n",
       " [3] \"mortality_rate_infant\"                \n",
       " [4] \"gini_index\"                           \n",
       " [5] \"gdp_per_capita_ppp\"                   \n",
       " [6] \"inflation_consumer_prices\"            \n",
       " [7] \"intentional_homicides\"                \n",
       " [8] \"unemployment\"                         \n",
       " [9] \"gross_fixed_capital_formation\"        \n",
       "[10] \"population_density\"                   \n",
       "[11] \"suicide_mortality_rate\"               \n",
       "[12] \"tax_revenue\"                          \n",
       "[13] \"taxes_on_income_profits_capital\"      \n",
       "[14] \"alcohol_consumption_per_capita\"       \n",
       "[15] \"government_health_expenditure_pct_gdp\"\n",
       "[16] \"urban_population_pct_total\"           \n",
       "[17] \"country\"                              \n",
       "[18] \"time\"                                 \n",
       "[19] \"sex\"                                  \n",
       "[20] \"rating\"                               "
      ]
     },
     "metadata": {},
     "output_type": "display_data"
    }
   ],
   "source": [
    "# Check for constant variables\n",
    "sapply(data_clean, function(x) length(unique(x)))\n",
    "\n",
    "# Inspect the first few rows of the data\n",
    "head(data_clean)\n",
    "\n",
    "# Verify that all variables in the model formula are present in the dataset\n",
    "names(data_clean)"
   ]
  },
  {
   "cell_type": "code",
   "execution_count": 45,
   "id": "eec518f8-1798-4224-9dcb-f1609df43aba",
   "metadata": {},
   "outputs": [
    {
     "data": {
      "text/plain": [
       "\n",
       "2015 \n",
       "  31 "
      ]
     },
     "metadata": {},
     "output_type": "display_data"
    },
    {
     "name": "stdout",
     "output_type": "stream",
     "text": [
      "'data.frame':\t31 obs. of  20 variables:\n",
      " $ index_code                           : Factor w/ 214 levels \"AUS-2003\",\"AUS-2006\",..: 5 10 28 39 41 48 60 71 77 83 ...\n",
      " $ educ_exp                             : num  5.32 5.46 4.74 4.9 4.47 ...\n",
      " $ mortality_rate_infant                : num  3.3 3 4.7 6.8 13.4 2.5 3.5 2.4 2 3.2 ...\n",
      " $ gini_index                           : num  33.5 30.5 33.7 44.4 51 25.9 28.2 32.7 27.1 32.7 ...\n",
      " $ gdp_per_capita_ppp                   : num  46292 49866 44670 22691 13379 ...\n",
      " $ inflation_consumer_prices            : num  1.508 0.897 1.125 4.349 4.99 ...\n",
      " $ intentional_homicides                : num  0.991 0.509 1.71 2.345 27.129 ...\n",
      " $ unemployment                         : num  6.05 5.8 6.95 6.49 8.57 ...\n",
      " $ gross_fixed_capital_formation        : num  26.2 22.7 23.9 25.5 23.4 ...\n",
      " $ population_density                   : num  3.1 104.73 3.98 24.03 42.47 ...\n",
      " $ suicide_mortality_rate               : num  13.2 16 13 10 4.1 13.6 10.9 15.9 14 15.8 ...\n",
      " $ tax_revenue                          : num  21.9 26.8 12.4 17.5 15.8 ...\n",
      " $ taxes_on_income_profits_capital      : num  64.9 28.7 54 29.8 25 ...\n",
      " $ alcohol_consumption_per_capita       : num  10.39 12.19 9.92 7.75 5.02 ...\n",
      " $ government_health_expenditure_pct_gdp: num  7.23 7.51 7.59 3.99 5.33 ...\n",
      " $ urban_population_pct_total           : num  85.7 57.7 81.3 87.4 79.8 ...\n",
      " $ country                              : Factor w/ 39 levels \"AUS\",\"AUT\",\"BEL\",..: 1 2 5 7 8 10 12 14 15 16 ...\n",
      " $ time                                 : num  2015 2015 2015 2015 2015 ...\n",
      " $ sex                                  : Factor w/ 3 levels \"BOY\",\"GIRL\",\"TOT\": 3 3 3 3 3 3 3 3 3 3 ...\n",
      " $ rating                               : num  494 497 516 423 390 492 511 520 511 493 ...\n",
      " - attr(*, \"na.action\")= 'omit' Named int  1 2 3 4 6 7 8 9 11 12 ...\n",
      "  ..- attr(*, \"names\")= chr  \"3\" \"6\" \"9\" \"12\" ...\n"
     ]
    }
   ],
   "source": [
    " \n",
    "table(data_clean$time)\n",
    "\n",
    "# Check the structure of your dataset\n",
    "str(data_clean)"
   ]
  },
  {
   "cell_type": "code",
   "execution_count": 42,
   "id": "bd4af05a-b5ff-4b44-a40e-98faa2bfe7d1",
   "metadata": {},
   "outputs": [
    {
     "name": "stdout",
     "output_type": "stream",
     "text": [
      "at least one couple (id-time) has NA in at least one index dimension in resulting pdata.frame\n",
      " to find out which, use e.g. table(index(your_pdataframe), useNA = \"ifany\")\n"
     ]
    },
    {
     "ename": "ERROR",
     "evalue": "Error in plm.fit(object, data, model = models[1], effect = effect): empty model\n",
     "output_type": "error",
     "traceback": [
      "Error in plm.fit(object, data, model = models[1], effect = effect): empty model\nTraceback:\n",
      "1. plm(rating ~ mortality_rate_infant + gini_index + inflation_consumer_prices + \n .     population_density + log(suicide_mortality_rate) + log(tax_revenue) + \n .     taxes_on_income_profits_capital, data = data_f, model = \"random\", \n .     effect = \"individual\")",
      "2. plm.fit(formula, data, model, effect, random.method, random.models, \n .     random.dfcor, inst.method)",
      "3. ercomp(formula, data, effect, method = random.method, models = random.models, \n .     dfcor = random.dfcor)",
      "4. ercomp.formula(formula, data, effect, method = random.method, \n .     models = random.models, dfcor = random.dfcor)",
      "5. plm.fit(object, data, model = models[1], effect = effect)",
      "6. stop(\"empty model\")"
     ]
    }
   ],
   "source": [
    "#RE\n",
    "rem <- plm(rating ~ mortality_rate_infant+gini_index+\tinflation_consumer_prices+population_density\n",
    "            +log(suicide_mortality_rate)+log(tax_revenue)+taxes_on_income_profits_capital, data = data_f, model = \"random\", effect = 'individual')\n",
    "summary(rem)\n"
   ]
  },
  {
   "cell_type": "code",
   "execution_count": null,
   "id": "aec0798c-ba5b-4f45-b70a-350cbec40469",
   "metadata": {},
   "outputs": [],
   "source": []
  },
  {
   "cell_type": "code",
   "execution_count": 43,
   "id": "f1b13456-6b73-4d65-8002-f0dd4afe2ee9",
   "metadata": {},
   "outputs": [
    {
     "ename": "ERROR",
     "evalue": "Error in phtest(fem_w, rem): object 'fem_w' not found\n",
     "output_type": "error",
     "traceback": [
      "Error in phtest(fem_w, rem): object 'fem_w' not found\nTraceback:\n",
      "1. phtest(fem_w, rem)"
     ]
    }
   ],
   "source": [
    "phtest(fem_w, rem)"
   ]
  },
  {
   "cell_type": "code",
   "execution_count": null,
   "id": "8cee91d7-d19c-4036-95cb-90c23ab4f8a6",
   "metadata": {},
   "outputs": [],
   "source": []
  },
  {
   "cell_type": "code",
   "execution_count": null,
   "id": "c3e84847-9e43-469c-a1bf-6066c2d2bf62",
   "metadata": {},
   "outputs": [],
   "source": []
  },
  {
   "cell_type": "code",
   "execution_count": null,
   "id": "6fa4950b-9ac4-4cbc-bf3f-0720f41801cf",
   "metadata": {},
   "outputs": [],
   "source": []
  }
 ],
 "metadata": {
  "kernelspec": {
   "display_name": "R",
   "language": "R",
   "name": "ir"
  },
  "language_info": {
   "codemirror_mode": "r",
   "file_extension": ".r",
   "mimetype": "text/x-r-source",
   "name": "R",
   "pygments_lexer": "r",
   "version": "3.6.1"
  }
 },
 "nbformat": 4,
 "nbformat_minor": 5
}
